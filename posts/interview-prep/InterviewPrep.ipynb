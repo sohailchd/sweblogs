{
  "cells": [
    {
      "cell_type": "markdown",
      "metadata": {
        "id": "G1jlML1KmfLZ"
      },
      "source": [
        "# Random Notes and Alogos"
      ]
    },
    {
      "cell_type": "markdown",
      "metadata": {
        "id": "dVD0dmY8iGeK"
      },
      "source": [
        "### Binary Search"
      ]
    },
    {
      "cell_type": "code",
      "execution_count": 2,
      "metadata": {
        "colab": {
          "base_uri": "https://localhost:8080/"
        },
        "id": "rvr0UdzhdW-J",
        "outputId": "865ab2e9-6f5f-47aa-9814-ccb274142650"
      },
      "outputs": [
        {
          "data": {
            "text/plain": [
              "True"
            ]
          },
          "execution_count": 2,
          "metadata": {},
          "output_type": "execute_result"
        }
      ],
      "source": [
        "def BinarySearchRecursive(nlist, target, low, high):\n",
        "  if (len(nlist) == 0) or (low == high):\n",
        "    return\n",
        "\n",
        "  mid = (low+high)//2\n",
        "  if nlist[mid] == target:\n",
        "    return mid\n",
        "  elif nlist[mid] > target:\n",
        "    return BinarySearchRecursive(nlist, target, low, mid-1)\n",
        "  else:\n",
        "    return BinarySearchRecursive(nlist, target, mid+1, high)\n",
        "  return None\n",
        "\n",
        "\n",
        "nlist = [1,2,3, 4, 6, 7, 9, 10, 12, 13, 14]\n",
        "BinarySearchRecursive(nlist, 3, 0, len(nlist)-1) == 2\n",
        "\n"
      ]
    },
    {
      "cell_type": "code",
      "execution_count": 3,
      "metadata": {
        "colab": {
          "base_uri": "https://localhost:8080/"
        },
        "id": "fvKIObNVhRuz",
        "outputId": "f274104d-ffdd-4554-a6e4-6056f8e4bff7"
      },
      "outputs": [
        {
          "name": "stdout",
          "output_type": "stream",
          "text": [
            "True 1 3\n"
          ]
        }
      ],
      "source": [
        "def BinarySearch(nlist, x):\n",
        "  if len(nlist) == 0: return None\n",
        "  low, high = 0, len(nlist)\n",
        "  while low <= high:\n",
        "    mid = (low+high)//2\n",
        "    if nlist[mid] == x:\n",
        "      return mid\n",
        "    elif x < nlist[mid]:\n",
        "      high = mid-1\n",
        "    else:\n",
        "      low = mid+1\n",
        "  return None\n",
        "\n",
        "x = BinarySearch(nlist, 3) == BinarySearchRecursive(nlist, 3, 0, len(nlist)-1)\n",
        "y = BinarySearch([1,3,3], 3)\n",
        "z = BinarySearch([1,2,4,8,13], 8)\n",
        "print(x, y, z)"
      ]
    },
    {
      "cell_type": "code",
      "execution_count": 4,
      "metadata": {
        "colab": {
          "base_uri": "https://localhost:8080/"
        },
        "id": "_jCsPDYDnWKr",
        "outputId": "c43cc363-63c6-4fe1-ed40-108d18ec08f1"
      },
      "outputs": [
        {
          "data": {
            "text/plain": [
              "5"
            ]
          },
          "execution_count": 4,
          "metadata": {},
          "output_type": "execute_result"
        }
      ],
      "source": [
        "10//2"
      ]
    },
    {
      "cell_type": "code",
      "execution_count": 5,
      "metadata": {
        "colab": {
          "base_uri": "https://localhost:8080/"
        },
        "id": "2k1ORoI4nY1N",
        "outputId": "ea2a23e4-1d42-4264-cdab-145b3a6a5d99"
      },
      "outputs": [
        {
          "data": {
            "text/plain": [
              "4"
            ]
          },
          "execution_count": 5,
          "metadata": {},
          "output_type": "execute_result"
        }
      ],
      "source": [
        "9//2"
      ]
    },
    {
      "cell_type": "code",
      "execution_count": 6,
      "metadata": {
        "colab": {
          "base_uri": "https://localhost:8080/"
        },
        "id": "xbmpZT21Ff58",
        "outputId": "8133751b-14a7-4615-ccd8-c0620613d367"
      },
      "outputs": [
        {
          "name": "stdout",
          "output_type": "stream",
          "text": [
            "4\n",
            "The array contains uinque element: True\n"
          ]
        }
      ],
      "source": [
        "def contains_unique(nums):\n",
        "    xor_result = 0\n",
        "    for num in nums:\n",
        "        xor_result ^= num\n",
        "    print(xor_result)\n",
        "    return xor_result != 0\n",
        "\n",
        "\n",
        "array = [1, 2, 2, 3, 3, 4, 4, 5]\n",
        "contains_dup = contains_unique(array)\n",
        "print(f\"The array contains uinque element: {contains_dup}\")"
      ]
    },
    {
      "cell_type": "code",
      "execution_count": 7,
      "metadata": {
        "colab": {
          "base_uri": "https://localhost:8080/"
        },
        "id": "ScgLvCa5XWvi",
        "outputId": "faacc5db-66c6-4fb8-bac1-fa7cd5603b6e"
      },
      "outputs": [
        {
          "name": "stdout",
          "output_type": "stream",
          "text": [
            "0b10100 0b10011 0b10000\n",
            "0b10000 0b1111 0b0\n"
          ]
        }
      ],
      "source": [
        "N = 20\n",
        "while N:\n",
        "  t = N\n",
        "  t1 = N-1\n",
        "  N = t & t1\n",
        "  print(bin(t), bin(t1), bin(N))\n"
      ]
    },
    {
      "cell_type": "code",
      "execution_count": 8,
      "metadata": {
        "colab": {
          "base_uri": "https://localhost:8080/"
        },
        "id": "W3Im-UAzwuRG",
        "outputId": "4b430287-ab1c-4951-fa62-aa9a30a939a1"
      },
      "outputs": [
        {
          "name": "stdout",
          "output_type": "stream",
          "text": [
            "9\n",
            "-1\n",
            "0\n"
          ]
        }
      ],
      "source": [
        "import math\n",
        "a = -1 %  10\n",
        "print(a)\n",
        "digit = int(math.fmod(-1, 10))\n",
        "print(digit)\n",
        "\n",
        "x = int(-1 / 10)\n",
        "print(x)"
      ]
    },
    {
      "cell_type": "markdown",
      "metadata": {
        "id": "fBe8B4QH_Q1I"
      },
      "source": [
        "### Power"
      ]
    },
    {
      "cell_type": "code",
      "execution_count": 9,
      "metadata": {
        "colab": {
          "base_uri": "https://localhost:8080/"
        },
        "id": "9m92BnTI_SYE",
        "outputId": "3b1421f1-eeee-4561-cd6e-91c024777f4f"
      },
      "outputs": [
        {
          "data": {
            "text/plain": [
              "8"
            ]
          },
          "execution_count": 9,
          "metadata": {},
          "output_type": "execute_result"
        }
      ],
      "source": [
        "def power(x, n):\n",
        "  def helper(a, p):\n",
        "    if p==0: return 1\n",
        "    if p%2==0:\n",
        "      return helper(a, p//2)**2\n",
        "    return helper(a, p-1) * a\n",
        "  return helper(x, n)\n",
        "\n",
        "\n",
        "power(2,3)\n"
      ]
    },
    {
      "cell_type": "code",
      "execution_count": 10,
      "metadata": {
        "colab": {
          "base_uri": "https://localhost:8080/"
        },
        "id": "8T1o-qYNCFM8",
        "outputId": "07757ac6-8a25-4bf3-bdca-62c601b63b85"
      },
      "outputs": [
        {
          "data": {
            "text/plain": [
              "8"
            ]
          },
          "execution_count": 10,
          "metadata": {},
          "output_type": "execute_result"
        }
      ],
      "source": [
        "def power(base, exponent):\n",
        "    if exponent == 0:\n",
        "        return 1\n",
        "    elif exponent % 2 == 0:\n",
        "        half_power = power(base, exponent // 2)\n",
        "        return half_power * half_power\n",
        "    else:\n",
        "        return base * power(base, exponent - 1)\n",
        "\n",
        "power(2, 3)"
      ]
    },
    {
      "cell_type": "markdown",
      "metadata": {
        "id": "l3k8zo1Gluv8"
      },
      "source": [
        "### Permutations"
      ]
    },
    {
      "cell_type": "code",
      "execution_count": 11,
      "metadata": {
        "colab": {
          "base_uri": "https://localhost:8080/"
        },
        "id": "S0VkJiBglwjU",
        "outputId": "9e32f47b-c87c-4e90-d962-daaecb5371d9"
      },
      "outputs": [
        {
          "name": "stdout",
          "output_type": "stream",
          "text": [
            "['M', 'A', 'R', 'T', 'Y']\n",
            "['M', 'A', 'R', 'Y', 'T']\n",
            "['M', 'A', 'T', 'R', 'Y']\n",
            "['M', 'A', 'T', 'Y', 'R']\n",
            "['M', 'A', 'Y', 'R', 'T']\n",
            "['M', 'A', 'Y', 'T', 'R']\n",
            "['M', 'R', 'A', 'T', 'Y']\n",
            "['M', 'R', 'A', 'Y', 'T']\n",
            "['M', 'R', 'T', 'A', 'Y']\n",
            "['M', 'R', 'T', 'Y', 'A']\n",
            "['M', 'R', 'Y', 'A', 'T']\n",
            "['M', 'R', 'Y', 'T', 'A']\n",
            "['M', 'T', 'A', 'R', 'Y']\n",
            "['M', 'T', 'A', 'Y', 'R']\n",
            "['M', 'T', 'R', 'A', 'Y']\n",
            "['M', 'T', 'R', 'Y', 'A']\n",
            "['M', 'T', 'Y', 'A', 'R']\n",
            "['M', 'T', 'Y', 'R', 'A']\n",
            "['M', 'Y', 'A', 'R', 'T']\n",
            "['M', 'Y', 'A', 'T', 'R']\n",
            "['M', 'Y', 'R', 'A', 'T']\n",
            "['M', 'Y', 'R', 'T', 'A']\n",
            "['M', 'Y', 'T', 'A', 'R']\n",
            "['M', 'Y', 'T', 'R', 'A']\n",
            "['A', 'M', 'R', 'T', 'Y']\n",
            "['A', 'M', 'R', 'Y', 'T']\n",
            "['A', 'M', 'T', 'R', 'Y']\n",
            "['A', 'M', 'T', 'Y', 'R']\n",
            "['A', 'M', 'Y', 'R', 'T']\n",
            "['A', 'M', 'Y', 'T', 'R']\n",
            "['A', 'R', 'M', 'T', 'Y']\n",
            "['A', 'R', 'M', 'Y', 'T']\n",
            "['A', 'R', 'T', 'M', 'Y']\n",
            "['A', 'R', 'T', 'Y', 'M']\n",
            "['A', 'R', 'Y', 'M', 'T']\n",
            "['A', 'R', 'Y', 'T', 'M']\n",
            "['A', 'T', 'M', 'R', 'Y']\n",
            "['A', 'T', 'M', 'Y', 'R']\n",
            "['A', 'T', 'R', 'M', 'Y']\n",
            "['A', 'T', 'R', 'Y', 'M']\n",
            "['A', 'T', 'Y', 'M', 'R']\n",
            "['A', 'T', 'Y', 'R', 'M']\n",
            "['A', 'Y', 'M', 'R', 'T']\n",
            "['A', 'Y', 'M', 'T', 'R']\n",
            "['A', 'Y', 'R', 'M', 'T']\n",
            "['A', 'Y', 'R', 'T', 'M']\n",
            "['A', 'Y', 'T', 'M', 'R']\n",
            "['A', 'Y', 'T', 'R', 'M']\n",
            "['R', 'M', 'A', 'T', 'Y']\n",
            "['R', 'M', 'A', 'Y', 'T']\n",
            "['R', 'M', 'T', 'A', 'Y']\n",
            "['R', 'M', 'T', 'Y', 'A']\n",
            "['R', 'M', 'Y', 'A', 'T']\n",
            "['R', 'M', 'Y', 'T', 'A']\n",
            "['R', 'A', 'M', 'T', 'Y']\n",
            "['R', 'A', 'M', 'Y', 'T']\n",
            "['R', 'A', 'T', 'M', 'Y']\n",
            "['R', 'A', 'T', 'Y', 'M']\n",
            "['R', 'A', 'Y', 'M', 'T']\n",
            "['R', 'A', 'Y', 'T', 'M']\n",
            "['R', 'T', 'M', 'A', 'Y']\n",
            "['R', 'T', 'M', 'Y', 'A']\n",
            "['R', 'T', 'A', 'M', 'Y']\n",
            "['R', 'T', 'A', 'Y', 'M']\n",
            "['R', 'T', 'Y', 'M', 'A']\n",
            "['R', 'T', 'Y', 'A', 'M']\n",
            "['R', 'Y', 'M', 'A', 'T']\n",
            "['R', 'Y', 'M', 'T', 'A']\n",
            "['R', 'Y', 'A', 'M', 'T']\n",
            "['R', 'Y', 'A', 'T', 'M']\n",
            "['R', 'Y', 'T', 'M', 'A']\n",
            "['R', 'Y', 'T', 'A', 'M']\n",
            "['T', 'M', 'A', 'R', 'Y']\n",
            "['T', 'M', 'A', 'Y', 'R']\n",
            "['T', 'M', 'R', 'A', 'Y']\n",
            "['T', 'M', 'R', 'Y', 'A']\n",
            "['T', 'M', 'Y', 'A', 'R']\n",
            "['T', 'M', 'Y', 'R', 'A']\n",
            "['T', 'A', 'M', 'R', 'Y']\n",
            "['T', 'A', 'M', 'Y', 'R']\n",
            "['T', 'A', 'R', 'M', 'Y']\n",
            "['T', 'A', 'R', 'Y', 'M']\n",
            "['T', 'A', 'Y', 'M', 'R']\n",
            "['T', 'A', 'Y', 'R', 'M']\n",
            "['T', 'R', 'M', 'A', 'Y']\n",
            "['T', 'R', 'M', 'Y', 'A']\n",
            "['T', 'R', 'A', 'M', 'Y']\n",
            "['T', 'R', 'A', 'Y', 'M']\n",
            "['T', 'R', 'Y', 'M', 'A']\n",
            "['T', 'R', 'Y', 'A', 'M']\n",
            "['T', 'Y', 'M', 'A', 'R']\n",
            "['T', 'Y', 'M', 'R', 'A']\n",
            "['T', 'Y', 'A', 'M', 'R']\n",
            "['T', 'Y', 'A', 'R', 'M']\n",
            "['T', 'Y', 'R', 'M', 'A']\n",
            "['T', 'Y', 'R', 'A', 'M']\n",
            "['Y', 'M', 'A', 'R', 'T']\n",
            "['Y', 'M', 'A', 'T', 'R']\n",
            "['Y', 'M', 'R', 'A', 'T']\n",
            "['Y', 'M', 'R', 'T', 'A']\n",
            "['Y', 'M', 'T', 'A', 'R']\n",
            "['Y', 'M', 'T', 'R', 'A']\n",
            "['Y', 'A', 'M', 'R', 'T']\n",
            "['Y', 'A', 'M', 'T', 'R']\n",
            "['Y', 'A', 'R', 'M', 'T']\n",
            "['Y', 'A', 'R', 'T', 'M']\n",
            "['Y', 'A', 'T', 'M', 'R']\n",
            "['Y', 'A', 'T', 'R', 'M']\n",
            "['Y', 'R', 'M', 'A', 'T']\n",
            "['Y', 'R', 'M', 'T', 'A']\n",
            "['Y', 'R', 'A', 'M', 'T']\n",
            "['Y', 'R', 'A', 'T', 'M']\n",
            "['Y', 'R', 'T', 'M', 'A']\n",
            "['Y', 'R', 'T', 'A', 'M']\n",
            "['Y', 'T', 'M', 'A', 'R']\n",
            "['Y', 'T', 'M', 'R', 'A']\n",
            "['Y', 'T', 'A', 'M', 'R']\n",
            "['Y', 'T', 'A', 'R', 'M']\n",
            "['Y', 'T', 'R', 'M', 'A']\n",
            "['Y', 'T', 'R', 'A', 'M']\n"
          ]
        }
      ],
      "source": [
        "def permutate(elements):\n",
        "  def helper(pos, res, available):\n",
        "    if pos == len(elements):\n",
        "      print(res)\n",
        "      return\n",
        "\n",
        "    for i in range(0, len(elements)):\n",
        "      if available[i]:\n",
        "        res[pos] = elements[i]\n",
        "        available[i] = False\n",
        "        helper(pos+1, res, available)\n",
        "        available[i] = True\n",
        "  N = len(elements)\n",
        "  avl = [True] * N\n",
        "  res = [\"\"] * N\n",
        "  return helper(0, res, avl)\n",
        "\n",
        "permutate(\"MARTY\")\n"
      ]
    },
    {
      "cell_type": "markdown",
      "metadata": {
        "id": "tG_P_wSUf7F6"
      },
      "source": [
        "### Next permutation"
      ]
    },
    {
      "cell_type": "code",
      "execution_count": null,
      "metadata": {
        "id": "cCCcONqGf5on"
      },
      "outputs": [],
      "source": []
    },
    {
      "cell_type": "markdown",
      "metadata": {
        "id": "--9eMFCSdOhO"
      },
      "source": [
        "### Heap Implementation\n",
        "\n",
        "\n"
      ]
    },
    {
      "cell_type": "code",
      "execution_count": 12,
      "metadata": {
        "id": "5uEPcnandM65"
      },
      "outputs": [],
      "source": [
        "class MinHeap:\n",
        "    def __init__(self):\n",
        "        self.heap = []\n",
        "\n",
        "    def parent(self, i):\n",
        "        return (i - 1) // 2\n",
        "\n",
        "    def left_child(self, i):\n",
        "        return 2 * i + 1\n",
        "\n",
        "    def right_child(self, i):\n",
        "        return 2 * i + 2\n",
        "\n",
        "    def has_left_child(self, i):\n",
        "        return self.left_child(i) < len(self.heap)\n",
        "\n",
        "    def has_right_child(self, i):\n",
        "        return self.right_child(i) < len(self.heap)\n",
        "\n",
        "    def swap(self, i, j):\n",
        "        self.heap[i], self.heap[j] = self.heap[j], self.heap[i]\n",
        "\n",
        "    def heapify_up(self, i):\n",
        "        while i > 0 and self.heap[i] < self.heap[self.parent(i)]:\n",
        "            parent_index = self.parent(i)\n",
        "            self.swap(i, parent_index)\n",
        "            i = parent_index\n",
        "\n",
        "    def heapify_down(self, i):\n",
        "        while self.has_left_child(i):\n",
        "            smallest_child_index = self.left_child(i)\n",
        "            if self.has_right_child(i) and self.heap[self.right_child(i)] < self.heap[smallest_child_index]:\n",
        "                smallest_child_index = self.right_child(i)\n",
        "\n",
        "            if self.heap[i] <= self.heap[smallest_child_index]:\n",
        "                break\n",
        "\n",
        "            self.swap(i, smallest_child_index)\n",
        "            i = smallest_child_index\n",
        "\n",
        "    def push(self, value):\n",
        "        self.heap.append(value)\n",
        "        self.heapify_up(len(self.heap) - 1)\n",
        "\n",
        "    def pop(self):\n",
        "        if not self.heap:\n",
        "            raise IndexError(\"Heap is empty\")\n",
        "\n",
        "        if len(self.heap) == 1:\n",
        "            return self.heap.pop()\n",
        "\n",
        "        root = self.heap[0]\n",
        "        self.heap[0] = self.heap.pop()\n",
        "        self.heapify_down(0)\n",
        "        return root\n",
        "\n",
        "    def peek(self):\n",
        "        if not self.heap:\n",
        "            raise IndexError(\"Heap is empty\")\n",
        "\n",
        "        return self.heap[0]\n",
        "\n",
        "    def is_empty(self):\n",
        "        return len(self.heap) == 0\n"
      ]
    },
    {
      "cell_type": "markdown",
      "metadata": {
        "id": "1xjEWmtisNDT"
      },
      "source": [
        "### Partition around pivot"
      ]
    },
    {
      "cell_type": "code",
      "execution_count": 13,
      "metadata": {
        "colab": {
          "base_uri": "https://localhost:8080/"
        },
        "id": "beK11xG8sScz",
        "outputId": "0b6f294f-0949-467c-edfc-fef6ee027ad1"
      },
      "outputs": [
        {
          "name": "stdout",
          "output_type": "stream",
          "text": [
            "[817, 206, 424, 43, 329, 766, 78, 951, 23, 678]\n",
            "random value:  424 , random index:  2\n",
            "new:  [206, 43, 329, 78, 23, 424, 817, 951, 678, 766] indx:  5\n",
            "--------------------\n",
            "[779, 475, 794, 325, 400, 393, 351, 907, 6, 44]\n",
            "random value:  794 , random index:  2\n",
            "new:  [779, 475, 44, 325, 400, 393, 351, 6, 794, 907] indx:  8\n",
            "--------------------\n",
            "[645, 605, 551, 813, 111, 7, 688, 487, 26, 546]\n",
            "random value:  813 , random index:  3\n",
            "new:  [645, 605, 551, 546, 111, 7, 688, 487, 26, 813] indx:  9\n",
            "--------------------\n",
            "[825, 419, 113, 359, 272, 497, 400, 101, 673, 39]\n",
            "random value:  673 , random index:  8\n",
            "new:  [419, 113, 359, 272, 497, 400, 101, 39, 673, 825] indx:  8\n",
            "--------------------\n",
            "[855, 155, 108, 586, 495, 140, 896, 227, 546, 671]\n",
            "random value:  155 , random index:  1\n",
            "new:  [108, 140, 155, 586, 495, 671, 896, 227, 546, 855] indx:  2\n",
            "--------------------\n"
          ]
        }
      ],
      "source": [
        "import random\n",
        "def partition_pivot(pvIndx, arr):\n",
        "  l, r = 0, len(arr)-1\n",
        "\n",
        "  pvalue = arr[pvIndx]\n",
        "  ## swap the pivot with the right\n",
        "  arr[pvIndx], arr[r] = arr[r], arr[pvIndx]\n",
        "  newIndx = l\n",
        "\n",
        "  for i in range(l, r):\n",
        "    if arr[i] <= pvalue:\n",
        "      arr[newIndx], arr[i] = arr[i], arr[newIndx]\n",
        "      newIndx += 1\n",
        "  arr[r], arr[newIndx] = arr[newIndx], arr[r]\n",
        "  return arr, newIndx\n",
        "\n",
        "\n",
        "def test():\n",
        "  alist = [ random.randint(0, 1000) for _ in range(10) ]\n",
        "  rnd = random.randint(0, len(alist)-1)\n",
        "  print(alist)\n",
        "  print(\"random value: \", alist[rnd], \", random index: \", rnd)\n",
        "  pa, idx = partition_pivot(rnd, alist)\n",
        "  assert (max(pa[:idx]) < pa[idx]) if pa[:idx] != [] else True\n",
        "  assert min(pa[idx+1:]) > pa[idx] if pa[idx+1:] != [] else True\n",
        "  print(\"new: \", pa, \"indx: \", idx)\n",
        "\n",
        "for i in range(5):\n",
        "  test()\n",
        "  print(\"--------------------\")\n",
        "\n"
      ]
    },
    {
      "cell_type": "markdown",
      "metadata": {
        "id": "sW-3_Wk83-nE"
      },
      "source": [
        "### Dutch National Flag"
      ]
    },
    {
      "cell_type": "code",
      "execution_count": 14,
      "metadata": {
        "colab": {
          "base_uri": "https://localhost:8080/"
        },
        "id": "TZadsfgU4B3M",
        "outputId": "64008b97-14dc-4fdd-9b0e-22d4fb09116a"
      },
      "outputs": [
        {
          "name": "stdout",
          "output_type": "stream",
          "text": [
            "[0, 0, 0, 0, 1, 1, 1, 2, 2, 2, 2]\n"
          ]
        }
      ],
      "source": [
        "### there are 3 variations of the number, arrange them accordingly 00, 11111, 2222\n",
        "\n",
        "def dutch_national_flag(arr):\n",
        "  zp, cp, tp = 0, 0, len(arr)-1 ### zero's pointer, current pointer, two's pointer\n",
        "  while cp <= tp:\n",
        "    if arr[cp] == 0:\n",
        "      arr[zp], arr[cp] = arr[cp], arr[zp]\n",
        "      cp += 1\n",
        "      zp += 1\n",
        "    elif arr[cp] == 2:\n",
        "      arr[tp], arr[cp] = arr[cp], arr[tp]\n",
        "      tp -= 1\n",
        "    else:\n",
        "      cp += 1\n",
        "  return arr\n",
        "\n",
        "arr = [2,1,2,1,2,1,0,2,0,0,0]\n",
        "dutch_national_flag(arr)\n",
        "print(arr)\n",
        "\n"
      ]
    },
    {
      "cell_type": "markdown",
      "metadata": {
        "id": "XjZ-ie7TvijD"
      },
      "source": [
        "### Python For-Else block"
      ]
    },
    {
      "cell_type": "code",
      "execution_count": 15,
      "metadata": {
        "colab": {
          "base_uri": "https://localhost:8080/"
        },
        "id": "VhVEEAXWvk0J",
        "outputId": "8d5a90e2-ac27-4855-cf26-dad83848a590"
      },
      "outputs": [
        {
          "name": "stdout",
          "output_type": "stream",
          "text": [
            "1\n",
            "2\n",
            "nine found\n"
          ]
        }
      ],
      "source": [
        "def for_else_loop(nums):\n",
        "\n",
        "  for i in nums:\n",
        "    if i == 9:\n",
        "      print(\"nine found\")\n",
        "      break\n",
        "    print(i)\n",
        "  else:\n",
        "    print(\"no nine found\")\n",
        "\n",
        "\n",
        "a = [1,2,9,3,4,5, 9]\n",
        "for_else_loop(a)"
      ]
    },
    {
      "cell_type": "markdown",
      "metadata": {
        "id": "r8-cHl-zXavv"
      },
      "source": [
        "### Minimum steps required to reach the end of the array"
      ]
    },
    {
      "cell_type": "code",
      "execution_count": 16,
      "metadata": {
        "colab": {
          "base_uri": "https://localhost:8080/"
        },
        "id": "5O9mx3xvXfK_",
        "outputId": "97c65aa3-b7e4-4e38-f857-8613c7cd9975"
      },
      "outputs": [
        {
          "data": {
            "text/plain": [
              "0"
            ]
          },
          "execution_count": 16,
          "metadata": {},
          "output_type": "execute_result"
        }
      ],
      "source": [
        "def reach_end(steps):\n",
        "  N = len(steps)\n",
        "\n",
        "  def helper(cp):\n",
        "    if cp >= N-1:\n",
        "      return 0\n",
        "    maxStepFromHere = steps[cp]\n",
        "    minStep = float(\"inf\")\n",
        "\n",
        "    ## try all the possibilities\n",
        "    while maxStepFromHere:\n",
        "      minStep = min(minStep, helper(cp + maxStepFromHere))\n",
        "      maxStepFromHere -= 1\n",
        "\n",
        "    return minStep\n",
        "\n",
        "  return helper(0)\n",
        "\n",
        "\n",
        "reach_end([3,3,1,0,2,0,1])\n",
        "\n"
      ]
    },
    {
      "cell_type": "markdown",
      "metadata": {
        "id": "g88EAtsApsIA"
      },
      "source": [
        "### Closure"
      ]
    },
    {
      "cell_type": "code",
      "execution_count": 17,
      "metadata": {
        "colab": {
          "base_uri": "https://localhost:8080/"
        },
        "id": "anKC9RPXpqMv",
        "outputId": "29d6f79e-64f8-4930-f34a-094837343140"
      },
      "outputs": [
        {
          "name": "stdout",
          "output_type": "stream",
          "text": [
            "13\n"
          ]
        }
      ],
      "source": [
        "inc_by_i = [lambda x : x+i for i in range(10) ]\n",
        "\n",
        "print(inc_by_i[3](4))"
      ]
    },
    {
      "cell_type": "markdown",
      "metadata": {
        "id": "Z13lLXmkoWoq"
      },
      "source": [
        "### Python OR"
      ]
    },
    {
      "cell_type": "code",
      "execution_count": 18,
      "metadata": {
        "colab": {
          "base_uri": "https://localhost:8080/"
        },
        "id": "hpKBDZz_obQN",
        "outputId": "ca63fb36-6963-4641-d0a7-92400fc458cb"
      },
      "outputs": [
        {
          "name": "stdout",
          "output_type": "stream",
          "text": [
            "1\n"
          ]
        }
      ],
      "source": [
        "a = 1\n",
        "b = None\n",
        "c = a or b\n",
        "print(c)"
      ]
    },
    {
      "cell_type": "markdown",
      "metadata": {
        "id": "oxgYsNO1eO-w"
      },
      "source": [
        "### Parit check"
      ]
    },
    {
      "cell_type": "code",
      "execution_count": 19,
      "metadata": {
        "colab": {
          "base_uri": "https://localhost:8080/"
        },
        "id": "RusXbzkleQ-V",
        "outputId": "47f9f9b6-b4fd-42f3-be27-6447b6f52221"
      },
      "outputs": [
        {
          "name": "stdout",
          "output_type": "stream",
          "text": [
            "1 1 0\n",
            "0b11\n"
          ]
        }
      ],
      "source": [
        "def parity(n):\n",
        "  r = 0\n",
        "  while n:\n",
        "    r ^= (n & 1)\n",
        "    n >>= 1\n",
        "  return r\n",
        "\n",
        "a, b, c, = parity(1), parity(2), parity(3)\n",
        "print(a, b, c)\n",
        "print(bin(3))\n"
      ]
    },
    {
      "cell_type": "markdown",
      "metadata": {
        "id": "lGgx88IznGiY"
      },
      "source": [
        "# CTCI"
      ]
    },
    {
      "cell_type": "markdown",
      "metadata": {
        "id": "IRKbKvo3wz4z"
      },
      "source": [
        "### Arrays"
      ]
    },
    {
      "cell_type": "markdown",
      "metadata": {
        "id": "mVlAoxgDw4Ek"
      },
      "source": [
        "##### Increment By One"
      ]
    },
    {
      "cell_type": "code",
      "execution_count": 20,
      "metadata": {
        "colab": {
          "base_uri": "https://localhost:8080/"
        },
        "id": "TF1M_qMlw7Xq",
        "outputId": "a3f2e04e-8cd7-4a39-f13d-49ac96abdaa5"
      },
      "outputs": [
        {
          "name": "stdout",
          "output_type": "stream",
          "text": [
            "2 0 3\n"
          ]
        },
        {
          "data": {
            "text/plain": [
              "[0, 3, 0]"
            ]
          },
          "execution_count": 20,
          "metadata": {},
          "output_type": "execute_result"
        }
      ],
      "source": [
        "def increment_by_one(nums):\n",
        "  nums[-1] += 1\n",
        "  for i in reversed(range(1, len(nums))):\n",
        "    if nums[i] != 10:\n",
        "      break\n",
        "    nums[i] = 0\n",
        "    nums[i-1] += 1\n",
        "    print(i, nums[i], nums[i-1])\n",
        "  # else:\n",
        "  #   print(\"here\")\n",
        "  #   if nums[0] == 10:\n",
        "  #     nums[0] = 1\n",
        "  #     nums.append(0)\n",
        "  # return nums\n",
        "  if nums[0] == 10:\n",
        "    nums[0] = 1\n",
        "    nums.append(0)\n",
        "  return nums\n",
        "\n",
        "increment_by_one([0, 2, 9])"
      ]
    },
    {
      "cell_type": "markdown",
      "metadata": {
        "id": "Vax6xIvehMoE"
      },
      "source": [
        "##### Buy and sell stock once"
      ]
    },
    {
      "cell_type": "markdown",
      "metadata": {
        "id": "6Bl5061qKuBF"
      },
      "source": []
    },
    {
      "cell_type": "code",
      "execution_count": 21,
      "metadata": {
        "colab": {
          "base_uri": "https://localhost:8080/"
        },
        "id": "tkfQHVljhSWu",
        "outputId": "a67ac504-8183-4745-e050-97fe3d1184fe"
      },
      "outputs": [
        {
          "name": "stdout",
          "output_type": "stream",
          "text": [
            "5\n",
            "0\n"
          ]
        }
      ],
      "source": [
        "def buy_and_sell_once(prices):\n",
        "  minp, maxp = float(\"inf\"), 0\n",
        "  for cp in prices:\n",
        "    cprice = cp - minp\n",
        "    maxp = max(maxp, cprice)\n",
        "    minp = min(cp, minp)\n",
        "  return maxp\n",
        "\n",
        "for i in [[7,1,5,3,6,4], [7,6,4,3,1]]:\n",
        "  print(buy_and_sell_once(i))"
      ]
    },
    {
      "cell_type": "code",
      "execution_count": 22,
      "metadata": {
        "colab": {
          "base_uri": "https://localhost:8080/"
        },
        "id": "9h91ysSji9E4",
        "outputId": "68e86b33-53ee-4d6d-c375-ae95ff77f0df"
      },
      "outputs": [
        {
          "name": "stdout",
          "output_type": "stream",
          "text": [
            "9\n",
            "0\n",
            "9\n",
            "7\n",
            "0\n",
            "8\n"
          ]
        }
      ],
      "source": [
        "def buy_and_sell_multiple_n_times(prices, n):\n",
        "  memo = {}\n",
        "  def helper(cprices, rn):\n",
        "    if rn==0 or len(cprices)==0:\n",
        "      return 0\n",
        "\n",
        "    if (tuple(cprices), rn) in memo:\n",
        "      return memo[(tuple(cprices), rn)]\n",
        "\n",
        "    maxp = 0\n",
        "    for i in range(1, len(cprices)):\n",
        "      for j in range(i):\n",
        "        cp = cprices[i] - cprices[j] + helper(cprices[:i], rn-1)\n",
        "        maxp = max(maxp, cp)\n",
        "\n",
        "    memo[(tuple(cprices), rn)] = maxp\n",
        "    return maxp\n",
        "\n",
        "  return helper(prices, n)\n",
        "\n",
        "for dt in {2 : [7, 1, 5, 3, 6, 4], 1 : [7, 6, 4, 3, 1], 3 :[3, 3, 5, 0, 0, 3, 1, 4]}.items():\n",
        "  print(buy_and_sell_multiple_n_times(dt[1], dt[0]))\n",
        "\n",
        "def max_profit_recursive(prices, n):\n",
        "    memo = {}  # Memoization dictionary\n",
        "\n",
        "    def recurse(prices, n):\n",
        "        if n == 0 or len(prices) == 0:\n",
        "            return 0\n",
        "\n",
        "        if (tuple(prices), n) in memo:\n",
        "            return memo[(tuple(prices), n)]\n",
        "\n",
        "        max_profit = 0\n",
        "        for i in range(1, len(prices)):\n",
        "            for j in range(i):\n",
        "                profit = prices[i] - prices[j] + recurse(prices[:j], n - 1)\n",
        "                max_profit = max(max_profit, profit)\n",
        "\n",
        "        memo[(tuple(prices), n)] = max_profit\n",
        "        return max_profit\n",
        "\n",
        "    return recurse(prices, n)\n",
        "\n",
        "for dt in {2 : [7, 1, 5, 3, 6, 4], 1 : [7, 6, 4, 3, 1], 3 :[3, 3, 5, 0, 0, 3, 1, 4]}.items():\n",
        "  print(max_profit_recursive(dt[1], dt[0]))\n"
      ]
    },
    {
      "cell_type": "markdown",
      "metadata": {
        "id": "UCPvWNsKKzPm"
      },
      "source": [
        "##### Delete duplicate form the array"
      ]
    },
    {
      "cell_type": "code",
      "execution_count": 23,
      "metadata": {
        "colab": {
          "base_uri": "https://localhost:8080/"
        },
        "id": "dNmOEK9SK2M-",
        "outputId": "6382e873-8c11-4332-874e-af8a9a071d2c"
      },
      "outputs": [
        {
          "data": {
            "text/plain": [
              "([2, 3, 4, 5, 6, 7, 8, 9, 10, 7, 8, 9, 10, 10], [2, 3, 4, 5, 6, 7, 8, 9, 10])"
            ]
          },
          "execution_count": 23,
          "metadata": {},
          "output_type": "execute_result"
        }
      ],
      "source": [
        "def delete_duplicate(arr):\n",
        "  if not arr: return arr\n",
        "  lval, cindex = arr[0], 0\n",
        "  for i in range(1, len(arr)):\n",
        "    if arr[i] != lval:\n",
        "      arr[cindex] = lval\n",
        "      lval = arr[i]\n",
        "      cindex += 1\n",
        "  arr[cindex] = lval\n",
        "  return arr[:cindex+1]\n",
        "\n",
        "\n",
        "def delete_duplicate_v2(arr):\n",
        "  if not arr: return arr\n",
        "  windex = 1\n",
        "  for i in range(1, len(arr)):\n",
        "    if arr[windex - 1] != arr[i]:\n",
        "      arr[windex] = arr[i]\n",
        "      windex += 1\n",
        "  return arr, arr[:windex]\n",
        "\n",
        "delete_duplicate_v2([2,2,3,4,5,6,6,6,7,7,8,9,10,10])"
      ]
    },
    {
      "cell_type": "markdown",
      "metadata": {
        "id": "A8j59JLinNwU"
      },
      "source": [
        "### Recursion and DP"
      ]
    },
    {
      "cell_type": "code",
      "execution_count": 24,
      "metadata": {
        "colab": {
          "base_uri": "https://localhost:8080/"
        },
        "id": "KvEnihDunLvf",
        "outputId": "b16ebc0b-4282-401f-f6f4-6f1cf35a04ec"
      },
      "outputs": [
        {
          "data": {
            "text/plain": [
              "354224848179261915075"
            ]
          },
          "execution_count": 24,
          "metadata": {},
          "output_type": "execute_result"
        }
      ],
      "source": [
        "### Fibonacci\n",
        "\n",
        "## using bottom up approach\n",
        "\n",
        "def fibonnaci_memo(n):\n",
        "  memo = [None for _ in range(n+1)]\n",
        "  memo[0], memo[1] = 0, 1\n",
        "  for i in range(2, n+1):\n",
        "    memo[i] = memo[i-1] + memo[i-2]\n",
        "  return memo[n]\n",
        "\n",
        "fibonnaci_memo(100)"
      ]
    },
    {
      "cell_type": "code",
      "execution_count": 25,
      "metadata": {
        "colab": {
          "base_uri": "https://localhost:8080/"
        },
        "id": "u8ib3zmgoZ1l",
        "outputId": "0c6e9905-5f53-4727-e10f-2021141fa922"
      },
      "outputs": [
        {
          "data": {
            "text/plain": [
              "354224848179261915075"
            ]
          },
          "execution_count": 25,
          "metadata": {},
          "output_type": "execute_result"
        }
      ],
      "source": [
        "def fibonnacci_opt(n):\n",
        "  a, b = 0, 1\n",
        "  for i in range(2, n):\n",
        "    a, b = b, a+b\n",
        "  return a+b\n",
        "fibonnacci_opt(100)\n"
      ]
    },
    {
      "cell_type": "markdown",
      "metadata": {
        "id": "sNq0ORAdo-Gx"
      },
      "source": [
        "Child hoping on stairs, possible hops 1, 2 and 3\n",
        "Count possible ways to hop until N"
      ]
    },
    {
      "cell_type": "code",
      "execution_count": 26,
      "metadata": {
        "colab": {
          "base_uri": "https://localhost:8080/"
        },
        "id": "wGP4dTijpPFu",
        "outputId": "529e3cde-38c2-430a-c8bc-987ca9a533d2"
      },
      "outputs": [
        {
          "data": {
            "text/plain": [
              "4"
            ]
          },
          "execution_count": 26,
          "metadata": {},
          "output_type": "execute_result"
        }
      ],
      "source": [
        "def possible_hops(n):\n",
        "  def helper(c):\n",
        "    if c < 0: return 0\n",
        "    if c == 0: return 1\n",
        "\n",
        "    h1 = helper(c-1)  ### choose 1\n",
        "    h2 = helper(c-2) ### choose 2\n",
        "    h3 = helper(c-3) ### choose 3\n",
        "    return h1 + h2 + h3\n",
        "  return helper(n)\n",
        "\n",
        "possible_hops(3)"
      ]
    },
    {
      "cell_type": "code",
      "execution_count": 27,
      "metadata": {
        "colab": {
          "base_uri": "https://localhost:8080/"
        },
        "id": "PLxHw2Rms8RJ",
        "outputId": "0606b71a-15b1-4521-fe34-c1d9e4c37257"
      },
      "outputs": [
        {
          "data": {
            "text/plain": [
              "True"
            ]
          },
          "execution_count": 27,
          "metadata": {},
          "output_type": "execute_result"
        }
      ],
      "source": [
        "def possible_hops_tabular(n):\n",
        "  tab = [0] * (n+1)\n",
        "  tab[0] = 1\n",
        "  for i in range(1, n+1):\n",
        "    for h in range(4):\n",
        "      if i >= h:\n",
        "        tab[i] += tab[i-h]\n",
        "  return tab[n]\n",
        "\n",
        "possible_hops_tabular(3) == possible_hops(3)"
      ]
    },
    {
      "cell_type": "markdown",
      "metadata": {
        "id": "K3BoyDaFpaEq"
      },
      "source": [
        "### Linked List"
      ]
    },
    {
      "cell_type": "markdown",
      "metadata": {
        "id": "HmZ5DtJ0pfV8"
      },
      "source": [
        "##### Merge sorted list"
      ]
    },
    {
      "cell_type": "code",
      "execution_count": 28,
      "metadata": {
        "colab": {
          "base_uri": "https://localhost:8080/"
        },
        "id": "DMZwLOv5pjOH",
        "outputId": "de59ff52-f89a-49c3-aeb6-95e885359350"
      },
      "outputs": [
        {
          "name": "stdout",
          "output_type": "stream",
          "text": [
            "1, 3, 5, 7, \n",
            "2, 4, 6, 8, \n",
            "1, 2, 3, 4, 5, 6, 7, \n"
          ]
        }
      ],
      "source": [
        "class ListNode():\n",
        "\n",
        "  def __init__(self, val=0, next=None):\n",
        "    self.val = val\n",
        "    self.next = next\n",
        "\n",
        "\n",
        "def PrintList(l):\n",
        "  while l:\n",
        "    print(l.val, end=\", \")\n",
        "    l = l.next\n",
        "  print()\n",
        "\n",
        "\n",
        "def merged_sorted_list(l1, l2):\n",
        "  head = tail = ListNode()\n",
        "  while l1 and l2:\n",
        "    if l1.val < l2.val:\n",
        "      tail.next, l1 = l1, l1.next\n",
        "    else:\n",
        "      tail.next, l2  = l2, l2.next\n",
        "\n",
        "    tail = tail.next\n",
        "\n",
        "  tail.next = l1 or l2\n",
        "  return head.next\n",
        "\n",
        "\n",
        "def merged_sorted_list_recursive(la, lb):\n",
        "  def helper(x, y):\n",
        "    if not x: return x\n",
        "    if not y: return y\n",
        "\n",
        "    if x.val <= y.val:\n",
        "      x.next = helper(x.next, y)\n",
        "      return x\n",
        "\n",
        "    y.next = helper(x, y.next)\n",
        "    return y\n",
        "  return helper(la, lb)\n",
        "\n",
        "\n",
        "l1 = ListNode(1)\n",
        "l1b = ListNode(3)\n",
        "l1c = ListNode(5)\n",
        "l1d = ListNode(7)\n",
        "\n",
        "l1.next = l1b\n",
        "l1b.next = l1c\n",
        "l1c.next = l1d\n",
        "\n",
        "\n",
        "l2 = ListNode(2)\n",
        "l2a = ListNode(4)\n",
        "l2b = ListNode(6)\n",
        "l2c = ListNode(8)\n",
        "\n",
        "l2.next = l2a\n",
        "l2a.next = l2b\n",
        "l2b.next = l2c\n",
        "\n",
        "\n",
        "PrintList(l1)\n",
        "PrintList(l2)\n",
        "\n",
        "# PrintList(merged_sorted_list(l1, l2))\n",
        "PrintList(merged_sorted_list_recursive(l1, l2))\n",
        "\n"
      ]
    },
    {
      "cell_type": "markdown",
      "metadata": {
        "id": "eBaLeURDX8Un"
      },
      "source": [
        "### BSTs"
      ]
    },
    {
      "cell_type": "markdown",
      "metadata": {
        "id": "ZkD_wD8RX9vF"
      },
      "source": []
    },
    {
      "cell_type": "markdown",
      "metadata": {
        "id": "DCl-iNOPdEut"
      },
      "source": [
        "#Leetcode 75"
      ]
    },
    {
      "cell_type": "markdown",
      "metadata": {
        "id": "80Pd1sK1dJmD"
      },
      "source": [
        "## Array"
      ]
    },
    {
      "cell_type": "markdown",
      "metadata": {
        "id": "bvxoySXMdL4f"
      },
      "source": [
        "### Leet code 33. [Search in Rotated Sorted Array](https://leetcode.com/problems/search-in-rotated-sorted-array/)\n",
        "\n",
        "\n"
      ]
    },
    {
      "cell_type": "code",
      "execution_count": 29,
      "metadata": {
        "colab": {
          "base_uri": "https://localhost:8080/"
        },
        "id": "cj4Sy2d0dTWA",
        "outputId": "3136bb7f-428b-403e-8f3c-2878faa8e4d6"
      },
      "outputs": [
        {
          "data": {
            "text/plain": [
              "4"
            ]
          },
          "execution_count": 29,
          "metadata": {},
          "output_type": "execute_result"
        }
      ],
      "source": [
        "def BinarySearch(a, x):\n",
        "  if len(a) == 0: return None\n",
        "  l, h = 0, len(a)-1\n",
        "\n",
        "  while l <= h:\n",
        "    mid = (l+h) // 2\n",
        "    if a[mid]==x: return mid\n",
        "\n",
        "    ## array to the left of the mid is sorted\n",
        "    if a[l] <= a[mid]:\n",
        "      if a[l] <= x <= a[mid]:\n",
        "        h = (mid-1)\n",
        "      else:\n",
        "        l = (mid+1)\n",
        "    else:\n",
        "      if a[mid] <= x <= a[h]:\n",
        "        l = mid+1\n",
        "      else:\n",
        "        h = mid-1\n",
        "  return None\n",
        "\n",
        "\n",
        "BinarySearch([3,4,4,5,6,1,2,3], 6)"
      ]
    },
    {
      "cell_type": "markdown",
      "metadata": {
        "id": "HeY4_WMsvA6k"
      },
      "source": [
        "### 11. [Container With Most Water](https://leetcode.com/problems/container-with-most-water/)\n",
        "\n"
      ]
    },
    {
      "cell_type": "code",
      "execution_count": 30,
      "metadata": {
        "id": "ybTc_4-HvTza"
      },
      "outputs": [],
      "source": [
        "def maxArea(self, height) -> int:\n",
        "        l, r = 0, len(height)-1\n",
        "        maxarea = float(\"-inf\")\n",
        "        while l < r:\n",
        "            cmax = min(height[l], height[r]) * (r-l)\n",
        "            maxarea = max(cmax, maxarea)\n",
        "\n",
        "            if height[r] < height[l]:\n",
        "                r = r-1\n",
        "            else:\n",
        "                l = l+1\n",
        "        return maxarea"
      ]
    },
    {
      "cell_type": "markdown",
      "metadata": {
        "id": "zDMtE40s3Dhf"
      },
      "source": [
        "### [153. Find Minimum in Rotated Sorted Array](https://leetcode.com/problems/find-minimum-in-rotated-sorted-array/)"
      ]
    },
    {
      "cell_type": "code",
      "execution_count": 31,
      "metadata": {
        "colab": {
          "base_uri": "https://localhost:8080/"
        },
        "id": "zVejCOX_3MK9",
        "outputId": "5804a5a6-7af3-4814-e13a-1bf50e6521ca"
      },
      "outputs": [
        {
          "data": {
            "text/plain": [
              "1"
            ]
          },
          "execution_count": 31,
          "metadata": {},
          "output_type": "execute_result"
        }
      ],
      "source": [
        "def FindMinInRotatedList(a):\n",
        "  l, r = 0, len(a)-1\n",
        "  while l < r:\n",
        "    m = (l + r)//2\n",
        "    if a[m] > a[r]:\n",
        "      l = m + 1\n",
        "    else:\n",
        "      r = m\n",
        "  return a[l]\n",
        "\n",
        "FindMinInRotatedList([3,1,2])"
      ]
    },
    {
      "cell_type": "markdown",
      "metadata": {
        "id": "YCCzj4c7okXm"
      },
      "source": [
        "### [152. Maximum Product Subarray](https://leetcode.com/problems/maximum-product-subarray/)\n"
      ]
    },
    {
      "cell_type": "code",
      "execution_count": 32,
      "metadata": {
        "colab": {
          "base_uri": "https://localhost:8080/"
        },
        "id": "KRAQlMyEoyBA",
        "outputId": "2fc134dd-9546-499c-e63f-3ed1831e4310"
      },
      "outputs": [
        {
          "data": {
            "text/plain": [
              "192"
            ]
          },
          "execution_count": 32,
          "metadata": {},
          "output_type": "execute_result"
        }
      ],
      "source": [
        "def FindMaxSubArrayProduct(a):\n",
        "  mx = float(\"-inf\")\n",
        "  cm = 1\n",
        "  for i in a:\n",
        "    ocm = cm\n",
        "    cm = max(cm, cm*i)\n",
        "    if ocm > cm:\n",
        "      cm = i\n",
        "    mx = max(mx, cm)\n",
        "  return mx\n",
        "\n",
        "FindMaxSubArrayProduct([2,3,-12,4, 8])"
      ]
    },
    {
      "cell_type": "code",
      "execution_count": 33,
      "metadata": {
        "colab": {
          "base_uri": "https://localhost:8080/"
        },
        "id": "i5mpaIzTwi44",
        "outputId": "cbc4f4a8-c419-4e34-f239-25f3516e3fe2"
      },
      "outputs": [
        {
          "data": {
            "text/plain": [
              "11"
            ]
          },
          "execution_count": 33,
          "metadata": {},
          "output_type": "execute_result"
        }
      ],
      "source": [
        "def decimal_to_binary(n):\n",
        "  if n < 2: return n\n",
        "  return 10 * decimal_to_binary(n//2) + n%2\n",
        "\n",
        "decimal_to_binary(3)"
      ]
    },
    {
      "cell_type": "code",
      "execution_count": 34,
      "metadata": {
        "colab": {
          "base_uri": "https://localhost:8080/"
        },
        "id": "8XaIRZbZCMPL",
        "outputId": "72590ff2-5a3d-477b-930c-fb3ebad0a706"
      },
      "outputs": [
        {
          "name": "stdout",
          "output_type": "stream",
          "text": [
            "moved disk 1 from A to rod C\n",
            "moved disk 2 from A to rod B\n",
            "moved disk 1 from C to rod B\n",
            "moved disk 3 from A to rod C\n",
            "moved disk 1 from B to rod A\n",
            "moved disk 2 from B to rod C\n",
            "moved disk 1 from A to rod C\n",
            "moved disk 4 from A to rod B\n",
            "moved disk 1 from C to rod B\n",
            "moved disk 2 from C to rod A\n",
            "moved disk 1 from B to rod A\n",
            "moved disk 3 from C to rod B\n",
            "moved disk 1 from A to rod C\n",
            "moved disk 2 from A to rod B\n",
            "moved disk 1 from C to rod B\n"
          ]
        }
      ],
      "source": [
        "def tower_of_hanoi(n, from_rod, to_rod, aux_rod):\n",
        "  if n==0: return\n",
        "  tower_of_hanoi(n-1, from_rod, aux_rod, to_rod)\n",
        "  print(\"moved disk {0} from {1} to rod {2}\".format(n, from_rod, to_rod))\n",
        "  tower_of_hanoi(n-1, aux_rod, to_rod, from_rod)\n",
        "\n",
        "tower_of_hanoi(4, 'A', 'B', 'C')"
      ]
    },
    {
      "cell_type": "code",
      "execution_count": 35,
      "metadata": {
        "colab": {
          "base_uri": "https://localhost:8080/"
        },
        "id": "fqHJdz793dA4",
        "outputId": "69c7b706-ed5c-427f-bd5d-bf74f6def72d"
      },
      "outputs": [
        {
          "data": {
            "text/plain": [
              "[-5, 2, 3, 3, 4, 5, 5, 34, 45]"
            ]
          },
          "execution_count": 35,
          "metadata": {},
          "output_type": "execute_result"
        }
      ],
      "source": [
        "def insertion_sort(nums):\n",
        "  N = len(nums)\n",
        "  for i in range(N):\n",
        "    j = i\n",
        "    ## move the current number to its correct position in the left side\n",
        "    while j > 0 and nums[j-1] > nums[j]:\n",
        "      nums[j-1], nums[j] = nums[j], nums[j-1]\n",
        "      j -= 1\n",
        "  return nums\n",
        "\n",
        "nums = [2,5,3,4,5,-5,3,45,34]\n",
        "insertion_sort(nums)\n",
        "\n",
        "\n",
        "# Space: O(1)\n",
        "# Time: O(n^2)\n"
      ]
    },
    {
      "cell_type": "code",
      "execution_count": 36,
      "metadata": {
        "colab": {
          "base_uri": "https://localhost:8080/"
        },
        "id": "uX8j6UvPRLnQ",
        "outputId": "608f8476-ac79-47d3-f0a7-15515ca6e75c"
      },
      "outputs": [
        {
          "data": {
            "text/plain": [
              "5"
            ]
          },
          "execution_count": 36,
          "metadata": {},
          "output_type": "execute_result"
        }
      ],
      "source": [
        "def binsearch_weakest(nums, t):\n",
        "  l, r = 0, len(nums)-1\n",
        "  idx = r\n",
        "  while l<=r:\n",
        "    m = l + (r-l)//2\n",
        "    if t <= nums[m]:\n",
        "      r = m - 1\n",
        "      idx = m\n",
        "    else:\n",
        "      l = m + 1\n",
        "  return idx\n",
        "\n",
        "nums = [1,2,2,2,2,3,3,4,5,6,7]\n",
        "binsearch_weakest(nums, 3)"
      ]
    },
    {
      "cell_type": "code",
      "execution_count": 37,
      "metadata": {
        "colab": {
          "base_uri": "https://localhost:8080/"
        },
        "id": "oe9aEbI-eHMR",
        "outputId": "88d582f6-1a45-4d65-d297-cc2599c4ba4a"
      },
      "outputs": [
        {
          "name": "stdout",
          "output_type": "stream",
          "text": [
            "[-100, -99, -1, 1, 2, 3, 4, 100, 101, 102]\n"
          ]
        }
      ],
      "source": [
        "import heapq\n",
        "from builtins import iter\n",
        "\n",
        "\n",
        "def merge_sorted_arrays(arrs):\n",
        "  min_heap = []\n",
        "  sorted_arrays_iter = [ iter(i) for i in arrs ]\n",
        "\n",
        "  ## build the heap\n",
        "  for i, t in enumerate(sorted_arrays_iter):\n",
        "    fe = next(t, None)\n",
        "    if fe: heapq.heappush(min_heap, (fe, i))\n",
        "\n",
        "  res = []\n",
        "  while min_heap:\n",
        "    s_elem, s_arr_i = heapq.heappop(min_heap)\n",
        "    res.append(s_elem)\n",
        "    next_elem = next(sorted_arrays_iter[s_arr_i], None)\n",
        "    if next_elem:\n",
        "      heapq.heappush(min_heap, (next_elem,s_arr_i))\n",
        "  return res\n",
        "\n",
        "arrs = [[-100, -99, -1], [1,2,3,4], [100, 101, 102]]\n",
        "ans = merge_sorted_arrays(arrs)\n",
        "print(ans)\n"
      ]
    },
    {
      "cell_type": "code",
      "execution_count": 38,
      "metadata": {
        "colab": {
          "base_uri": "https://localhost:8080/"
        },
        "id": "taouqF0kbmPb",
        "outputId": "3eb224ac-15f2-4be8-c4cb-b850c6e13160"
      },
      "outputs": [
        {
          "name": "stdout",
          "output_type": "stream",
          "text": [
            "7 4\n"
          ]
        }
      ],
      "source": [
        "def bin_search_last(arrs, t):\n",
        "  l, r = 0, len(arrs)-1\n",
        "  res = -1\n",
        "\n",
        "  while l <= r:\n",
        "    m = l + (r-l)//2\n",
        "    if arrs[m] < t:\n",
        "      l = m + 1\n",
        "    elif arrs[m] > t:\n",
        "      r = m - 1\n",
        "    else:\n",
        "      res = m\n",
        "      l = m + 1\n",
        "  return res\n",
        "\n",
        "def bin_search_first(arrs, t):\n",
        "  l, r = 0, len(arrs)-1\n",
        "  res = -1\n",
        "\n",
        "  while l <= r:\n",
        "    m = l + (r-l)//2\n",
        "    if arrs[m] < t:\n",
        "      l = m + 1\n",
        "    elif arrs[m] > t:\n",
        "      r = m - 1\n",
        "    else:\n",
        "      res = m\n",
        "      r = m - 1\n",
        "  return res\n",
        "\n",
        "[1,2,3,4,5,5,5,5,6]\n",
        "\n",
        "f = bin_search_last([2,2,3,3,4,4,4,4], 4)\n",
        "l = bin_search_first([2,2,3,3,4,4,4,4], 4)\n",
        "print(f, l)"
      ]
    },
    {
      "cell_type": "code",
      "execution_count": 39,
      "metadata": {
        "colab": {
          "base_uri": "https://localhost:8080/"
        },
        "id": "obbPpEQfFv9B",
        "outputId": "807b9b9e-6f63-411b-e69b-10692ff6f94b"
      },
      "outputs": [
        {
          "name": "stdout",
          "output_type": "stream",
          "text": [
            "a\n"
          ]
        }
      ],
      "source": [
        "def wordPtr(warr = [\"data\", \"data2\"]):\n",
        "  print(warr[0][1])\n",
        "\n",
        "wordPtr()"
      ]
    },
    {
      "cell_type": "code",
      "execution_count": 40,
      "metadata": {
        "colab": {
          "base_uri": "https://localhost:8080/"
        },
        "id": "HVKFgYp97N7W",
        "outputId": "092acb83-6573-4da2-a3ab-c1a9cbca6be8"
      },
      "outputs": [
        {
          "data": {
            "text/plain": [
              "[1, 2]"
            ]
          },
          "execution_count": 40,
          "metadata": {},
          "output_type": "execute_result"
        }
      ],
      "source": [
        "nums = [1,2,3,4,5,6]\n",
        "nums[:2]"
      ]
    },
    {
      "cell_type": "code",
      "execution_count": 41,
      "metadata": {
        "colab": {
          "base_uri": "https://localhost:8080/"
        },
        "id": "QRIkHaORb6Ov",
        "outputId": "8d98b9c9-00aa-4df2-e6a8-d2697ebd1865"
      },
      "outputs": [
        {
          "data": {
            "text/plain": [
              "3"
            ]
          },
          "execution_count": 41,
          "metadata": {},
          "output_type": "execute_result"
        }
      ],
      "source": [
        "def find_next_target(nums, t):\n",
        "  l, r = 0, len(nums)-1\n",
        "  while l <= r:\n",
        "    m = l + (r-l)//2\n",
        "    if nums[m] <= t:\n",
        "      l = m + 1\n",
        "    else:\n",
        "      r = m - 1\n",
        "  return nums[l%len(nums)]\n",
        "\n",
        "nums = [1,2,3,4,5,6,7,8]\n",
        "find_next_target(nums, 2)\n"
      ]
    },
    {
      "cell_type": "code",
      "execution_count": 42,
      "metadata": {
        "colab": {
          "base_uri": "https://localhost:8080/"
        },
        "id": "NUMbF2UDd-F8",
        "outputId": "80d1bac6-ffa4-4ac7-df7c-8b401c473fee"
      },
      "outputs": [
        {
          "data": {
            "text/plain": [
              "[5, 7]"
            ]
          },
          "execution_count": 42,
          "metadata": {},
          "output_type": "execute_result"
        }
      ],
      "source": [
        "def search_target_range(nums, k):\n",
        "  l, r = 0, len(nums)-1\n",
        "  tl, tr = -1, -1\n",
        "\n",
        "  while l <= r:\n",
        "    m = l + (r-l)//2\n",
        "    if nums[m] == k:\n",
        "      l = m + 1\n",
        "      tr = m\n",
        "    elif nums[m] < k :\n",
        "      l = m + 1\n",
        "    else:\n",
        "      r = m - 1\n",
        "\n",
        "  l, r = 0, len(nums)-1\n",
        "  while l <= r:\n",
        "    m = l + (r-l)//2\n",
        "    if nums[m] == k:\n",
        "      r = m - 1\n",
        "      tl = m\n",
        "    elif nums[m] < k:\n",
        "      l = m + 1\n",
        "    else:\n",
        "      r = m-1\n",
        "\n",
        "\n",
        "  return [tl, tr]\n",
        "\n",
        "\n",
        "nums = [1,2,3,4,5,6,6,6,7,8]\n",
        "search_target_range(nums, 6)\n"
      ]
    },
    {
      "cell_type": "code",
      "execution_count": 43,
      "metadata": {
        "colab": {
          "base_uri": "https://localhost:8080/"
        },
        "id": "7rMEz_9b6gSA",
        "outputId": "0663be52-0362-4bc9-fbf2-dd29559df073"
      },
      "outputs": [
        {
          "name": "stdout",
          "output_type": "stream",
          "text": [
            "('h', 'h')\n",
            "('e', 'e')\n",
            "('l', 'l')\n"
          ]
        }
      ],
      "source": [
        "z = zip(\"hel\", \"hello\")\n",
        "for i in z:\n",
        "  print(i)"
      ]
    },
    {
      "cell_type": "code",
      "execution_count": 44,
      "metadata": {
        "colab": {
          "base_uri": "https://localhost:8080/"
        },
        "id": "9SJnhZVazw1f",
        "outputId": "e2588c9d-f169-4827-f344-8ccf625f8bce"
      },
      "outputs": [
        {
          "name": "stdout",
          "output_type": "stream",
          "text": [
            "1 Thousand\n",
            "2 Million\n",
            "3 Billion\n"
          ]
        }
      ],
      "source": [
        "for place,term in enumerate(('Thousand', 'Million', 'Billion'), 1):\n",
        "  print(place, term)"
      ]
    },
    {
      "cell_type": "code",
      "execution_count": 45,
      "metadata": {
        "colab": {
          "base_uri": "https://localhost:8080/"
        },
        "id": "wtk0EeHuz4rw",
        "outputId": "eebd6201-daec-4aa3-e086-21c51c4583f0"
      },
      "outputs": [
        {
          "name": "stdout",
          "output_type": "stream",
          "text": [
            "4\n",
            "0\n",
            "4\n",
            "4\n",
            "5\n"
          ]
        },
        {
          "data": {
            "text/plain": [
              "<memory at 0x1060328c0>"
            ]
          },
          "execution_count": 45,
          "metadata": {},
          "output_type": "execute_result"
        }
      ],
      "source": [
        "nums = [23,2,4,6,7]\n",
        "p_s = -1\n",
        "k = 6\n",
        "for i in range(len(nums)):\n",
        "  p_s += nums[i]\n",
        "  if k != 0:\n",
        "    p_s = p_s%k\n",
        "  print(p_s)\n",
        "\n",
        "s = \"\".join([\"1\", \"2\", \"3\"])\n",
        "memoryview(b's')"
      ]
    },
    {
      "cell_type": "code",
      "execution_count": 46,
      "metadata": {
        "colab": {
          "base_uri": "https://localhost:8080/"
        },
        "id": "W65k96iCdjB4",
        "outputId": "814d908e-8f6f-4b50-8473-c36771603b8a"
      },
      "outputs": [
        {
          "name": "stdout",
          "output_type": "stream",
          "text": [
            "taisdata\n"
          ]
        }
      ],
      "source": [
        "data = \"tadataisdata\"\n",
        "idx = data.find(\"da\")\n",
        "data = data[2+len(\"da\"):]\n",
        "print(data)\n"
      ]
    },
    {
      "cell_type": "code",
      "execution_count": 47,
      "metadata": {
        "colab": {
          "base_uri": "https://localhost:8080/"
        },
        "id": "3G-yE7PTkzU8",
        "outputId": "aa434aba-2618-4f1a-a2f3-123e0a529a3a"
      },
      "outputs": [
        {
          "name": "stdout",
          "output_type": "stream",
          "text": [
            "*bcd\n",
            "a*cd\n",
            "ab*d\n",
            "abc*\n"
          ]
        }
      ],
      "source": [
        "data = \"abcd\"\n",
        "for i in range(len(data)):\n",
        "  print(data[:i] + \"*\" + data[i+1:])"
      ]
    },
    {
      "cell_type": "code",
      "execution_count": 48,
      "metadata": {
        "colab": {
          "base_uri": "https://localhost:8080/",
          "height": 35
        },
        "id": "IO_O3Qo3dzMJ",
        "outputId": "c5a6bec8-30a4-4f7b-d733-21ebb6bbe8dd"
      },
      "outputs": [
        {
          "data": {
            "text/plain": [
              "'66aa804727708175999aac03'"
            ]
          },
          "execution_count": 48,
          "metadata": {},
          "output_type": "execute_result"
        }
      ],
      "source": [
        "import time\n",
        "import random\n",
        "def generate_uid():\n",
        "  tstamp = int(time.time())\n",
        "  random_five_bytes = random.getrandbits(40).to_bytes(5, 'big')\n",
        "  counter_three_byte = random.randint(0, 0xFFFFFF).to_bytes(3, 'big')\n",
        "  uid_bytes = tstamp.to_bytes(4, 'big') + random_five_bytes + counter_three_byte\n",
        "  uid_hex = uid_bytes.hex()\n",
        "  return uid_hex\n",
        "\n",
        "generate_uid()"
      ]
    },
    {
      "cell_type": "code",
      "execution_count": 49,
      "metadata": {
        "colab": {
          "base_uri": "https://localhost:8080/"
        },
        "id": "ZsZLy_0oNwT4",
        "outputId": "945138a4-85c8-4c3e-feb3-cb038eddf3b4"
      },
      "outputs": [
        {
          "name": "stdout",
          "output_type": "stream",
          "text": [
            "{1, 2, 3, 4}\n"
          ]
        }
      ],
      "source": [
        "data = set()\n",
        "data.add(1)\n",
        "data.add(2)\n",
        "data.add(3)\n",
        "data.add(4)\n",
        "print(data)"
      ]
    },
    {
      "cell_type": "code",
      "execution_count": 50,
      "metadata": {
        "colab": {
          "base_uri": "https://localhost:8080/"
        },
        "id": "e3z8Hx69R3EL",
        "outputId": "f07f4ab2-8b42-40d3-d09c-fdcb57d9f3ab"
      },
      "outputs": [
        {
          "data": {
            "text/plain": [
              "18"
            ]
          },
          "execution_count": 50,
          "metadata": {},
          "output_type": "execute_result"
        }
      ],
      "source": [
        "def subarraySumPartition(nums, k):\n",
        "\n",
        "  dp = {}\n",
        "\n",
        "  def helper(i, m):\n",
        "    if m == 1:\n",
        "      return sum(nums[i:])\n",
        "\n",
        "    if (i, m) in dp: return dp[(i, m)]\n",
        "\n",
        "    res, csum = float(\"inf\"), 0\n",
        "    for i in range(i, len(nums)-m+1):\n",
        "      csum += nums[i]\n",
        "      maxsum = max(csum, helper(i+1, m-1))\n",
        "      res = min(res, maxsum)\n",
        "      if csum > res:\n",
        "        continue\n",
        "    dp[(i, m)] = res\n",
        "    return res\n",
        "\n",
        "  return helper(0, k)\n",
        "\n",
        "nums = [7,2,5,10,8]\n",
        "k = 2\n",
        "subarraySumPartition(nums, k)\n"
      ]
    },
    {
      "cell_type": "code",
      "execution_count": 51,
      "metadata": {
        "colab": {
          "base_uri": "https://localhost:8080/"
        },
        "id": "N4kjqmNoYX8p",
        "outputId": "01bd03e4-591e-4827-b00e-a85b9f8abf63"
      },
      "outputs": [
        {
          "name": "stdout",
          "output_type": "stream",
          "text": [
            "3 30\n"
          ]
        }
      ],
      "source": [
        "def findClosesInSorted(nums, t):\n",
        "  l, r = 0, len(nums)-1\n",
        "  while l <= r:\n",
        "    m = l + (r-l)//2\n",
        "    if nums[m] == t: return m\n",
        "    elif nums[m] < t:\n",
        "      l = m+1\n",
        "    else:\n",
        "      r = m-1\n",
        "\n",
        "  if l >= len(nums):\n",
        "    return r\n",
        "  ld, rd = abs(t-nums[l]), abs(t-nums[r])\n",
        "  return l if ld < rd else r\n",
        "\n",
        "nums = [1,10, 20, 30, 40, 50]\n",
        "t = 30\n",
        "\n",
        "idx = findClosesInSorted(nums, t)\n",
        "print(idx, nums[idx])"
      ]
    },
    {
      "cell_type": "code",
      "execution_count": 52,
      "metadata": {
        "colab": {
          "base_uri": "https://localhost:8080/"
        },
        "id": "3sieAtTFYg9n",
        "outputId": "90e04873-b243-4729-85c1-b3f248be982c"
      },
      "outputs": [
        {
          "name": "stdout",
          "output_type": "stream",
          "text": [
            "7 3\n"
          ]
        }
      ],
      "source": [
        "from bisect import *\n",
        "nums = [1,10, 20, 30, 30, 30, 30, 40, 50]\n",
        "b = bisect_right(nums, 30)\n",
        "a = bisect_left(nums, 30)\n",
        "print(b, a)"
      ]
    },
    {
      "cell_type": "code",
      "execution_count": 53,
      "metadata": {
        "colab": {
          "base_uri": "https://localhost:8080/"
        },
        "id": "E3E7xRcsNnY9",
        "outputId": "f145e11f-479a-452d-fd5a-d9527f95783d"
      },
      "outputs": [
        {
          "data": {
            "text/plain": [
              "2"
            ]
          },
          "execution_count": 53,
          "metadata": {},
          "output_type": "execute_result"
        }
      ],
      "source": [
        "def canShip(cap, weights):\n",
        "  cw = 0\n",
        "  ships = 0\n",
        "  for w in weights:\n",
        "    if cw - w < 0:\n",
        "      ships += 1\n",
        "      cw = cap\n",
        "    cw -= w\n",
        "\n",
        "  return ships\n",
        "\n",
        "weights = [1, 2, 3, 4, 5]\n",
        "canShip(9, weights)"
      ]
    },
    {
      "cell_type": "code",
      "execution_count": 54,
      "metadata": {
        "id": "HjAaFX0b8b_q"
      },
      "outputs": [
        {
          "data": {
            "text/plain": [
              "'\\n\\n'"
            ]
          },
          "execution_count": 54,
          "metadata": {},
          "output_type": "execute_result"
        }
      ],
      "source": [
        "[\"qo\",\"fo\",\"fq\",\"qf\",\"fo\",\"ff\",\"qq\",\"qf\",\"of\",\"of\",\"oo\",\"of\",\"of\",\"qf\",\"qf\",\"of\"]\n",
        "'''\n",
        "\n",
        "'''"
      ]
    },
    {
      "cell_type": "code",
      "execution_count": 55,
      "metadata": {
        "colab": {
          "base_uri": "https://localhost:8080/",
          "height": 107
        },
        "id": "ek4R8rsDgzfy",
        "outputId": "180600a1-8c67-4b65-edc7-aab6403c6d25"
      },
      "outputs": [
        {
          "name": "stdout",
          "output_type": "stream",
          "text": [
            "2\n",
            "3\n",
            "4\n",
            "(4, 3)\n"
          ]
        },
        {
          "data": {
            "text/plain": [
              "'\\n[2,3,4,7,11]\\n1, 5, 6, 8 , 9\\n7 - 4 = 3\\n\\n11 - 5 = 6\\n4 + 5 = 9\\n3\\n\\n0 1 2 3 4 5\\n\\n\\n'"
            ]
          },
          "execution_count": 55,
          "metadata": {},
          "output_type": "execute_result"
        }
      ],
      "source": [
        "def missingKthPositive(arr, k):\n",
        "  l, r = 0, len(arr)-1\n",
        "  while l <= r:\n",
        "    p = l + (r-l)//2\n",
        "    print(p)\n",
        "    if arr[p] - p - 1 < k:\n",
        "      l = p + 1\n",
        "    else:\n",
        "      r = p - 1\n",
        "\n",
        "  return l, r\n",
        "\n",
        "nums = [2,3,4,7,11]\n",
        "print(missingKthPositive(nums, 5))\n",
        "\n",
        "'''\n",
        "[2,3,4,7,11]\n",
        "1, 5, 6, 8 , 9\n",
        "7 - 4 = 3\n",
        "\n",
        "11 - 5 = 6\n",
        "4 + 5 = 9\n",
        "3\n",
        "\n",
        "0 1 2 3 4 5\n",
        "\n",
        "\n",
        "'''\n"
      ]
    },
    {
      "cell_type": "code",
      "execution_count": 56,
      "metadata": {
        "colab": {
          "base_uri": "https://localhost:8080/"
        },
        "id": "qHrCcP_l3NdZ",
        "outputId": "4ce51602-0d81-4006-d880-75ff122578f9"
      },
      "outputs": [
        {
          "name": "stdout",
          "output_type": "stream",
          "text": [
            "6 8\n",
            "5 7\n",
            "4 6\n",
            "3 5\n",
            "2 4\n",
            "1 3\n"
          ]
        }
      ],
      "source": [
        "prices = [2,3,4,5,6,7,8]\n",
        "for i, p in reversed(list(enumerate(prices[1:], 1))):\n",
        "  print(i, p)"
      ]
    },
    {
      "cell_type": "code",
      "execution_count": 57,
      "metadata": {
        "colab": {
          "base_uri": "https://localhost:8080/"
        },
        "id": "8YFGci7NMQTQ",
        "outputId": "0974e34c-ccb1-4bd4-eb69-f74109619eb9"
      },
      "outputs": [
        {
          "name": "stdout",
          "output_type": "stream",
          "text": [
            "81\n",
            "87\n",
            "87\n",
            "93\n",
            "93\n"
          ]
        }
      ],
      "source": [
        "from random import randint\n",
        "res = 0\n",
        "for i in range(randint(0, 10)):\n",
        "  res = max(res, randint(0, 100))\n",
        "  print(res)"
      ]
    },
    {
      "cell_type": "code",
      "execution_count": 58,
      "metadata": {
        "colab": {
          "base_uri": "https://localhost:8080/"
        },
        "id": "Q7r4m79HPF_2",
        "outputId": "6c0140f3-d5bb-428d-9e46-cbf1ffec0788"
      },
      "outputs": [
        {
          "name": "stdout",
          "output_type": "stream",
          "text": [
            "\n"
          ]
        }
      ],
      "source": [
        "data = {'a' : 0, 'b' : -1, 'c' : 0}\n",
        "print()"
      ]
    },
    {
      "cell_type": "code",
      "execution_count": 59,
      "metadata": {
        "colab": {
          "base_uri": "https://localhost:8080/"
        },
        "id": "uiRsuE4vc9UE",
        "outputId": "afaa0612-b3fb-4a74-f088-0cab46203dde"
      },
      "outputs": [
        {
          "name": "stdout",
          "output_type": "stream",
          "text": [
            "0 False\n",
            "1 True\n",
            "0 False\n",
            "1 True\n",
            "0 False\n",
            "1 True\n",
            "0 False\n",
            "1 True\n",
            "0 False\n",
            "[2, 9, 5, 6, 3, 78, 4, 56, 23]\n"
          ]
        }
      ],
      "source": [
        "nums = [2, 9, 6, 5, 4, 3, 78, 56, 23]\n",
        "def rearrange(nums):\n",
        "  N = len(nums)\n",
        "  for i in range(N):\n",
        "    nums[i:i+2] = sorted(nums[i:i+2], reverse=(i%2))\n",
        "    print(i%2, bool(i%2))\n",
        "\n",
        "  print(nums)\n",
        "\n",
        "rearrange(nums)"
      ]
    },
    {
      "cell_type": "code",
      "execution_count": 60,
      "metadata": {
        "colab": {
          "base_uri": "https://localhost:8080/"
        },
        "id": "17pAByl8k0ih",
        "outputId": "e2fd67d5-a306-4b4d-d864-2cb814b001b1"
      },
      "outputs": [
        {
          "data": {
            "text/plain": [
              "[2,\n",
              " 3,\n",
              " 5,\n",
              " 7,\n",
              " 11,\n",
              " 13,\n",
              " 17,\n",
              " 19,\n",
              " 23,\n",
              " 29,\n",
              " 31,\n",
              " 37,\n",
              " 41,\n",
              " 43,\n",
              " 47,\n",
              " 53,\n",
              " 59,\n",
              " 61,\n",
              " 67,\n",
              " 71,\n",
              " 73,\n",
              " 79,\n",
              " 83,\n",
              " 89,\n",
              " 97]"
            ]
          },
          "execution_count": 60,
          "metadata": {},
          "output_type": "execute_result"
        }
      ],
      "source": [
        "def generatePrime(n):\n",
        "  primes = []\n",
        "  isPrime = [False, False] + [True] * (n-1)\n",
        "  for p in range(2, n+1):\n",
        "    if isPrime[p]:\n",
        "      primes.append(p)\n",
        "      for i in range(p*2, n+1, p):\n",
        "        isPrime[i] = False\n",
        "\n",
        "  return primes\n",
        "\n",
        "generatePrime(100)"
      ]
    },
    {
      "cell_type": "code",
      "execution_count": 61,
      "metadata": {
        "colab": {
          "base_uri": "https://localhost:8080/"
        },
        "id": "U0eRVyGYD0lS",
        "outputId": "406a45f7-04f8-442c-f22d-b1728345b1ef"
      },
      "outputs": [
        {
          "name": "stdout",
          "output_type": "stream",
          "text": [
            "\n",
            "l\n",
            "le\n",
            "lee\n",
            "leet\n",
            "leetc\n",
            "leetco\n",
            "leetcod\n",
            "leetcode\n"
          ]
        }
      ],
      "source": [
        "def printBreaks(s):\n",
        "  for i in range(len(s)+1):\n",
        "    print(s[0:i])\n",
        "\n",
        "printBreaks(\"leetcode\")"
      ]
    },
    {
      "cell_type": "code",
      "execution_count": 62,
      "metadata": {
        "colab": {
          "base_uri": "https://localhost:8080/"
        },
        "id": "85CeEZ4F7abm",
        "outputId": "5e79bf22-e93e-4c46-aca4-e7e380b8c7e9"
      },
      "outputs": [
        {
          "name": "stdout",
          "output_type": "stream",
          "text": [
            "Help on built-in function bit_length:\n",
            "\n",
            "bit_length() method of builtins.int instance\n",
            "    Number of bits necessary to represent self in binary.\n",
            "\n",
            "    >>> bin(37)\n",
            "    '0b100101'\n",
            "    >>> (37).bit_length()\n",
            "    6\n",
            "\n"
          ]
        }
      ],
      "source": [
        "a = 10\n",
        "a.bit_length()\n",
        "help(a.bit_length)"
      ]
    },
    {
      "cell_type": "code",
      "execution_count": 63,
      "metadata": {
        "colab": {
          "base_uri": "https://localhost:8080/"
        },
        "id": "US7xNC2_7tX3",
        "outputId": "05b0d74c-8aab-40ab-c2b6-cc780cd2ee41"
      },
      "outputs": [
        {
          "name": "stdout",
          "output_type": "stream",
          "text": [
            "['The', 'game', 'is', 'on']\n"
          ]
        }
      ],
      "source": [
        "d = \"The game is on\"\n",
        "print(d.split())"
      ]
    },
    {
      "cell_type": "code",
      "execution_count": 64,
      "metadata": {
        "colab": {
          "base_uri": "https://localhost:8080/",
          "height": 35
        },
        "id": "EZ4rbJQ69awA",
        "outputId": "a86e38ff-1c63-4d97-9f9f-0582b9df86f5"
      },
      "outputs": [
        {
          "data": {
            "text/plain": [
              "'oatg'"
            ]
          },
          "execution_count": 64,
          "metadata": {},
          "output_type": "execute_result"
        }
      ],
      "source": [
        "word = \"goat\"\n",
        "w = word[1:] + word[0]\n",
        "w"
      ]
    },
    {
      "cell_type": "code",
      "execution_count": 65,
      "metadata": {
        "colab": {
          "base_uri": "https://localhost:8080/"
        },
        "id": "rEodU22LIpa2",
        "outputId": "ef3b2e50-492e-4b5e-d6d1-e0ae04785ea3"
      },
      "outputs": [
        {
          "name": "stdout",
          "output_type": "stream",
          "text": [
            "<__main__.TrieNode object at 0x10555a0c0>\n",
            "True\n",
            "False\n"
          ]
        }
      ],
      "source": [
        "class TrieNode():\n",
        "\n",
        "  def __init__(self):\n",
        "    self.children = {}\n",
        "    self.isWord = False\n",
        "\n",
        "class Trie():\n",
        "\n",
        "  def __init__(self):\n",
        "    self.root = TrieNode()\n",
        "\n",
        "  def insert(self, word):\n",
        "    cur = self.root\n",
        "    for c in word:\n",
        "      if c not in cur.children:\n",
        "        cur.children[c] = TrieNode()\n",
        "      cur = cur.children[c]\n",
        "\n",
        "    cur.isWord = True\n",
        "    print(cur)\n",
        "\n",
        "  def startsWith(self, word):\n",
        "    cur = self.root\n",
        "    for c in word:\n",
        "      if c not in cur.children:\n",
        "        return False\n",
        "      cur = cur.children[c]\n",
        "    return True\n",
        "\n",
        "  def search(self, word):\n",
        "    cur = self.root\n",
        "    for c in word:\n",
        "      if c not in cur.children:\n",
        "        return False\n",
        "      cur = cur.children[c]\n",
        "\n",
        "    return cur.isWord\n",
        "\n",
        "\n",
        "\n",
        "t = Trie()\n",
        "t.insert(\"apple\")\n",
        "print(t.search(\"apple\"))\n",
        "print(t.startsWith(\"zz\"))"
      ]
    },
    {
      "cell_type": "code",
      "execution_count": 66,
      "metadata": {
        "colab": {
          "base_uri": "https://localhost:8080/"
        },
        "id": "fR9XLxQG2Dsp",
        "outputId": "ac6ef008-4f4a-4c1e-951d-f75e57974ecb"
      },
      "outputs": [
        {
          "name": "stdout",
          "output_type": "stream",
          "text": [
            "12\n"
          ]
        }
      ],
      "source": [
        "class Node():\n",
        "\n",
        "  def __init__(self, val=0):\n",
        "    self.val = val\n",
        "    self.left = None\n",
        "    self.right = None\n",
        "\n",
        "\n",
        "n = Node()\n",
        "n.parent = Node(12)\n",
        "\n",
        "print(n.parent.val)"
      ]
    },
    {
      "cell_type": "code",
      "execution_count": 67,
      "metadata": {
        "colab": {
          "base_uri": "https://localhost:8080/"
        },
        "id": "UFOn20SLcQ_L",
        "outputId": "bd3a9946-38f8-4e48-f984-95c0d42e44da"
      },
      "outputs": [
        {
          "name": "stdout",
          "output_type": "stream",
          "text": [
            "4 5 1 -->4 4 4\n",
            "256 1 4 -->256 0 1024\n"
          ]
        },
        {
          "data": {
            "text/plain": [
              "1024"
            ]
          },
          "execution_count": 67,
          "metadata": {},
          "output_type": "execute_result"
        }
      ],
      "source": [
        "def binExp(x, n):\n",
        "  res = 1\n",
        "  while n > 0:\n",
        "    if n%2 == 1:\n",
        "      print(x, n, res, \"-->\", end=\"\")\n",
        "      res *= x\n",
        "      n -= 1\n",
        "      print(x, n, res)\n",
        "    x *= x\n",
        "    n = n // 2\n",
        "  return res\n",
        "\n",
        "binExp(2, 10)"
      ]
    },
    {
      "cell_type": "code",
      "execution_count": 68,
      "metadata": {
        "colab": {
          "base_uri": "https://localhost:8080/"
        },
        "id": "l5qRj1o3dpFn",
        "outputId": "a8215d07-d6e3-4873-9ed1-76b86f173b36"
      },
      "outputs": [
        {
          "data": {
            "text/plain": [
              "True"
            ]
          },
          "execution_count": 68,
          "metadata": {},
          "output_type": "execute_result"
        }
      ],
      "source": [
        "def findPalindrome(word):\n",
        "  l, r = 0, len(word)-1\n",
        "  isLowerLetter = lambda x: ord('a') <= ord(x.lower()) <= ord('z')\n",
        "\n",
        "  while l <= r:\n",
        "    while not (isLowerLetter(word[l])):\n",
        "      l += 1\n",
        "    while not (isLowerLetter(word[r]) ):\n",
        "      r -= 1\n",
        "    if word[l] != word[r]:\n",
        "      return False\n",
        "    l += 1\n",
        "    r -= 1\n",
        "  return True\n",
        "\n",
        "\n",
        "findPalindrome(\"racecar\")"
      ]
    },
    {
      "cell_type": "code",
      "execution_count": 69,
      "metadata": {
        "colab": {
          "base_uri": "https://localhost:8080/"
        },
        "id": "lpJkshGTTsVa",
        "outputId": "3fdf083d-69ae-47dd-dcdd-b1063809c112"
      },
      "outputs": [
        {
          "data": {
            "text/plain": [
              "324"
            ]
          },
          "execution_count": 69,
          "metadata": {},
          "output_type": "execute_result"
        }
      ],
      "source": [
        "from functools import lru_cache\n",
        "def findMaxProduct(n):\n",
        "  @lru_cache\n",
        "  def integerBreak(num):\n",
        "    if num <= 3: return num\n",
        "    res = num\n",
        "    for i in range(2, num):\n",
        "      res = max(res, i * integerBreak(num-i))\n",
        "    return res\n",
        "  if n <= 3: return n-1\n",
        "  return integerBreak(n)\n",
        "\n",
        "\n",
        "findMaxProduct(16)"
      ]
    },
    {
      "cell_type": "code",
      "execution_count": 70,
      "metadata": {
        "colab": {
          "base_uri": "https://localhost:8080/"
        },
        "id": "xaTxjB9t51OY",
        "outputId": "10e40709-068a-40bc-f868-a53fe63f2ed3"
      },
      "outputs": [
        {
          "data": {
            "text/plain": [
              "2"
            ]
          },
          "execution_count": 70,
          "metadata": {},
          "output_type": "execute_result"
        }
      ],
      "source": [
        "## (located on the number line at position Qx) = (Eqx/abs(Px-Qx))\n",
        "\n",
        "def minEffectLocation(p, qlist):\n",
        "  minEffect, minLoc = float(\"inf\"), -1\n",
        "  for px in range(1, p-1):\n",
        "    effect = sum([ eqx / abs(px-qx) if (px-qx) != 0 else float(\"inf\") for eqx, qx in qlist ])\n",
        "    if effect < minEffect:\n",
        "      minEffect = effect\n",
        "      minLoc = px\n",
        "  return minLoc\n",
        "\n",
        "minEffectLocation(5, [[10,0],[20,4]])"
      ]
    },
    {
      "cell_type": "code",
      "execution_count": 71,
      "metadata": {
        "colab": {
          "base_uri": "https://localhost:8080/"
        },
        "id": "UalrV7RM_9Ot",
        "outputId": "e9c687c6-71c5-4a96-dc8e-923d41927678"
      },
      "outputs": [
        {
          "data": {
            "text/plain": [
              "4"
            ]
          },
          "execution_count": 71,
          "metadata": {},
          "output_type": "execute_result"
        }
      ],
      "source": [
        "def getDistintPasswordVariability(password):\n",
        "  if password == \"\": return 0\n",
        "  plen = len(password)\n",
        "\n",
        "  distinctPassword = set()\n",
        "\n",
        "  for i in range(plen):\n",
        "    for j in range(i, plen):\n",
        "      subStr = password[i:j+1][::-1]\n",
        "      npwd = password[:i] + subStr + password[i+1:]\n",
        "      distinctPassword.add(npwd)\n",
        "  return len(distinctPassword)\n",
        "\n",
        "\n",
        "getDistintPasswordVariability(\"abc\")"
      ]
    },
    {
      "cell_type": "code",
      "execution_count": 72,
      "metadata": {
        "colab": {
          "base_uri": "https://localhost:8080/"
        },
        "id": "5ymSrqtgNS15",
        "outputId": "058811c9-655d-440c-f836-8c605bfccdff"
      },
      "outputs": [
        {
          "name": "stdout",
          "output_type": "stream",
          "text": [
            "{'a': 4, 'b': 5, 'c': 6, 'd': 3}\n"
          ]
        }
      ],
      "source": [
        "s = \"abcdabc\"\n",
        "lastOcc = { c:i for i, c in enumerate(s) }\n",
        "print(lastOcc)"
      ]
    },
    {
      "cell_type": "code",
      "execution_count": 73,
      "metadata": {
        "colab": {
          "base_uri": "https://localhost:8080/"
        },
        "id": "Lf6oPjSHmml6",
        "outputId": "dd812e59-99b0-4258-ad9f-811675c23e65"
      },
      "outputs": [
        {
          "data": {
            "text/plain": [
              "3"
            ]
          },
          "execution_count": 73,
          "metadata": {},
          "output_type": "execute_result"
        }
      ],
      "source": [
        "def findFirstMatchingIndex(nums):\n",
        "  if not nums: return -1\n",
        "  l, r = 0, len(nums)-1\n",
        "\n",
        "  res = -1\n",
        "  while l <= r:\n",
        "    m = l + (r-l)//2\n",
        "    if nums[m] - m > 0:\n",
        "      r = m - 1\n",
        "    elif nums[m] - m < 0:\n",
        "      l = m + 1\n",
        "    else:\n",
        "      res = m\n",
        "      r = m - 1\n",
        "\n",
        "  return res\n",
        "\n",
        "nums = [-8,0,1,3,5]\n",
        "findFirstMatchingIndex(nums)\n",
        "\n",
        "\n",
        "### -2 1 2 3 4 100\n"
      ]
    },
    {
      "cell_type": "code",
      "execution_count": 74,
      "metadata": {
        "colab": {
          "base_uri": "https://localhost:8080/"
        },
        "id": "DECcT2NpvBg-",
        "outputId": "b6ad6e5f-4538-4514-9262-b4688a032016"
      },
      "outputs": [
        {
          "name": "stdout",
          "output_type": "stream",
          "text": [
            "0 3\n",
            "[1, 0, 0, 1, 0]\n"
          ]
        }
      ],
      "source": [
        "class DisjointSet():\n",
        "\n",
        "  def __init__(self, N):\n",
        "    self.parent = [i for i in range(N)]\n",
        "    self.rank = [0 for i in range(N)]\n",
        "\n",
        "  def Union(self, u, v):\n",
        "    u = self.Find(u)\n",
        "    v = self.Find(v)\n",
        "\n",
        "    if u != v:\n",
        "      if self.rank[u] < self.rank[v]:\n",
        "        u, v = v, u\n",
        "      self.parent[v] = u\n",
        "      if self.rank[u] == self.rank[v]:\n",
        "        self.rank[u] += 1\n",
        "\n",
        "\n",
        "\n",
        "  def Find(self, x):\n",
        "    if x == self.parent[x]: return x\n",
        "    self.parent[x] = self.Find(self.parent[x])\n",
        "    return self.parent[x]\n",
        "\n",
        "\n",
        "d = DisjointSet(5)\n",
        "d.Union(0, 1)\n",
        "d.Union(0, 2)\n",
        "d.Union(3, 4)\n",
        "print(d.Find(2), d.Find(4))\n",
        "print(d.rank)"
      ]
    },
    {
      "cell_type": "code",
      "execution_count": 75,
      "metadata": {
        "colab": {
          "base_uri": "https://localhost:8080/"
        },
        "id": "AIGEkYOTljqT",
        "outputId": "ec8705fa-a30c-4a05-dedf-a10a8c160bb4"
      },
      "outputs": [
        {
          "data": {
            "text/plain": [
              "[1, 2, 3, 4, 5, 6, 7, 8, 9, 10]"
            ]
          },
          "execution_count": 75,
          "metadata": {},
          "output_type": "execute_result"
        }
      ],
      "source": [
        "import heapq\n",
        "\n",
        "def MergeSortedArray(sortedArr):\n",
        "  minHeap = []\n",
        "  sortedIter = [ iter(x) for x in sortedArr]\n",
        "\n",
        "  for i, it in enumerate(sortedIter):\n",
        "    felem = next(it)\n",
        "    if next is not None:\n",
        "      heapq.heappush(minHeap, (felem, i))\n",
        "\n",
        "  res = []\n",
        "  while minHeap:\n",
        "    nelem, idx = heapq.heappop(minHeap)\n",
        "    res.append(nelem)\n",
        "    nextItem = next(sortedIter[idx], None)\n",
        "    if nextItem: heapq.heappush(minHeap, (nextItem, idx))\n",
        "\n",
        "  return res\n",
        "\n",
        "MergeSortedArray([[1,3,5,7,9], [2,4,6,8,10]])\n"
      ]
    },
    {
      "cell_type": "code",
      "execution_count": 76,
      "metadata": {
        "colab": {
          "base_uri": "https://localhost:8080/"
        },
        "id": "t2wtkAmwS4iP",
        "outputId": "508c4860-92f4-4c32-f04c-fd58de2a4064"
      },
      "outputs": [
        {
          "name": "stdout",
          "output_type": "stream",
          "text": [
            "[(0, 0), (1, 0), (2, 0), (3, 0), (4, 0), (4, 1), (4, 2), (4, 3), (4, 4)]\n",
            "[(0, 0), (1, 0), (2, 0), (3, 0), (3, 1), (4, 1)]\n",
            "[(0, 0), (1, 0), (2, 0), (3, 0), (3, 1), (3, 2), (4, 2)]\n",
            "[(0, 0), (1, 0), (2, 0), (3, 0), (3, 1), (3, 2), (3, 3), (4, 3)]\n",
            "[(0, 0), (1, 0), (2, 0), (2, 1), (3, 1)]\n",
            "[(0, 0), (1, 0), (2, 0), (2, 1), (2, 2), (3, 2)]\n",
            "[(0, 0), (1, 0), (1, 1), (2, 1)]\n"
          ]
        },
        {
          "data": {
            "text/plain": [
              "14"
            ]
          },
          "execution_count": 76,
          "metadata": {},
          "output_type": "execute_result"
        }
      ],
      "source": [
        "def FindSelfDrivingWays(n):\n",
        "\n",
        "  def isValid(r, c):\n",
        "    if not (0 <= r < ROWS): return False\n",
        "    if not (0 <= c < COLS): return False\n",
        "    if r < c: return False\n",
        "    return True\n",
        "\n",
        "  memo = {}\n",
        "  def dfs(r, c, sol=[]):\n",
        "    if not isValid(r,c): return 0\n",
        "    if r == ROWS-1 and c == COLS-1:\n",
        "      sol.append((r, c))\n",
        "      print(sol.copy())\n",
        "      return 1\n",
        "\n",
        "    if (r, c) in memo:\n",
        "      sol.append((r, c))\n",
        "      print(sol.copy())\n",
        "      return memo[(r, c)]\n",
        "\n",
        "    sol.append((r, c))\n",
        "    tcounts = 0\n",
        "    ## move north\n",
        "    nr, nc = r+1, c\n",
        "    if isValid(nr, nc):\n",
        "      tcounts += dfs(nr, nc, sol.copy())\n",
        "\n",
        "    ## move east\n",
        "    er, ec = r, c+1\n",
        "    if isValid(er, ec):\n",
        "      tcounts += dfs(er, ec, sol.copy())\n",
        "\n",
        "    memo[(r, c)] = tcounts\n",
        "    return tcounts\n",
        "\n",
        "  ROWS = COLS = n\n",
        "  return dfs(0, 0)\n",
        "\n",
        "\n",
        "FindSelfDrivingWays(5)"
      ]
    },
    {
      "cell_type": "code",
      "execution_count": 77,
      "metadata": {
        "colab": {
          "base_uri": "https://localhost:8080/"
        },
        "id": "GOkDkshXXKSb",
        "outputId": "954c54ff-9547-4b97-abc7-158f02df556b"
      },
      "outputs": [
        {
          "name": "stdout",
          "output_type": "stream",
          "text": [
            "14\n"
          ]
        }
      ],
      "source": [
        "def numOfPathsToDest(n):\n",
        "    dp = [[0] * n for _ in range(n)]\n",
        "\n",
        "    for i in range(n):\n",
        "        dp[i][0] = 1  # Initialize leftmost column to 1\n",
        "\n",
        "    for i in range(1, n):\n",
        "        for j in range(1, n):\n",
        "            if i >= j:\n",
        "                dp[i][j] = dp[i-1][j] + dp[i][j-1]\n",
        "\n",
        "    return dp[n-1][n-1]\n",
        "\n",
        "print(numOfPathsToDest(5))\n"
      ]
    },
    {
      "cell_type": "code",
      "execution_count": 78,
      "metadata": {
        "colab": {
          "base_uri": "https://localhost:8080/"
        },
        "id": "nC54Ff-ZXouc",
        "outputId": "5546a38d-946b-4715-b6c7-1f0d574e56de"
      },
      "outputs": [
        {
          "name": "stdout",
          "output_type": "stream",
          "text": [
            "67983\n"
          ]
        }
      ],
      "source": [
        "def reverseInt(n):\n",
        "    ans = 0\n",
        "    while n:\n",
        "        cn = n % 10\n",
        "        ans = ans*10 + cn\n",
        "        n = n // 10\n",
        "    return ans\n",
        "\n",
        "print(reverseInt(38976))"
      ]
    },
    {
      "cell_type": "code",
      "execution_count": 79,
      "metadata": {
        "colab": {
          "base_uri": "https://localhost:8080/"
        },
        "id": "-oQsJqpmnFjW",
        "outputId": "7c74975a-889e-4ba5-90a1-603988bf4a3e"
      },
      "outputs": [
        {
          "data": {
            "text/plain": [
              "3"
            ]
          },
          "execution_count": 79,
          "metadata": {},
          "output_type": "execute_result"
        }
      ],
      "source": [
        "def TestLocalVar():\n",
        "  def inc():\n",
        "    nonlocal count\n",
        "    count += 1\n",
        "\n",
        "  count = 0\n",
        "  inc()\n",
        "  inc()\n",
        "  inc()\n",
        "  return count\n",
        "\n",
        "TestLocalVar()"
      ]
    },
    {
      "cell_type": "code",
      "execution_count": 80,
      "metadata": {
        "colab": {
          "base_uri": "https://localhost:8080/"
        },
        "id": "tpIkNU-xv944",
        "outputId": "34282a9d-6acd-4d02-b450-aaa5f60ef8ab"
      },
      "outputs": [
        {
          "name": "stdout",
          "output_type": "stream",
          "text": [
            "['a', 'a', 'a', 'a', 'bbbc', 'c']\n"
          ]
        }
      ],
      "source": [
        "data = \"a, a, a, a, b,b,b,c, c\"\n",
        "data.split()\n",
        "\n",
        "def isChar(c):\n",
        "  if ord('a') <= ord(c.lower()) <= ord('z'): return True\n",
        "  return False\n",
        "\n",
        "def replacePuntuation(word):\n",
        "  newWord = []\n",
        "  for w in word:\n",
        "    if isChar(w): newWord.append(w)\n",
        "  return \"\".join(newWord).lower()\n",
        "\n",
        "wlist = [replacePuntuation(w) for w in data.split()]\n",
        "\n",
        "print(wlist)"
      ]
    },
    {
      "cell_type": "code",
      "execution_count": 81,
      "metadata": {
        "colab": {
          "base_uri": "https://localhost:8080/"
        },
        "id": "PtR16hcgH1QC",
        "outputId": "7acd80ad-4fe7-4b9a-929a-ee7c15b7b27d"
      },
      "outputs": [
        {
          "name": "stdout",
          "output_type": "stream",
          "text": [
            "['a', 'b', 'm']\n",
            "hello\n",
            "defaultdict(<class 'list'>, {'/': ['a'], '/a': ['a', 'b', 'm'], '/a/b': ['c'], '/a/a': ['b'], '/a/a/b': ['c'], '/a/b/c': ['d']})\n",
            "defaultdict(<class 'str'>, {'/a/b/c/d': 'hello'})\n"
          ]
        }
      ],
      "source": [
        "\n",
        "import collections\n",
        "import bisect\n",
        "\n",
        "class FileSystem:\n",
        "\n",
        "    def __init__(self):\n",
        "        self.paths = collections.defaultdict(list)\n",
        "        self.files = collections.defaultdict(str)\n",
        "\n",
        "\n",
        "    def ls(self, path: str):\n",
        "        if path in self.files:\n",
        "            return [ path.split(\"/\")[-1] ]\n",
        "\n",
        "        return self.paths[path]\n",
        "\n",
        "\n",
        "    def mkdir(self, path: str) -> None:\n",
        "        dirs = path.split(\"/\")\n",
        "        for d in range(1, len(dirs)):\n",
        "            curDir = \"/\".join(dirs[:d]) or \"/\"\n",
        "            if curDir not in self.paths or dirs[d] not in self.paths[curDir]:\n",
        "                bisect.insort(self.paths[curDir], dirs[d])\n",
        "\n",
        "\n",
        "\n",
        "    def addContentToFile(self, filePath: str, content: str) -> None:\n",
        "        if filePath not in self.files:\n",
        "            self.mkdir(filePath)\n",
        "        self.files[filePath] += content\n",
        "\n",
        "    def readContentFromFile(self, filePath: str) -> str:\n",
        "        return self.files[filePath]\n",
        "\n",
        "    def printData(self):\n",
        "      print(self.paths)\n",
        "      print(self.files)\n",
        "\n",
        "\n",
        "\n",
        "\n",
        "\n",
        "fileSystem = FileSystem();\n",
        "fileSystem.ls(\"/\");\n",
        "fileSystem.mkdir(\"/a/b/c\");\n",
        "fileSystem.mkdir(\"/a/a/b/c\");\n",
        "fileSystem.mkdir(\"/a/m\");\n",
        "\n",
        "\n",
        "fileSystem.addContentToFile(\"/a/b/c/d\", \"hello\")\n",
        "print(fileSystem.ls(\"/a\"))\n",
        "print(fileSystem.readContentFromFile(\"/a/b/c/d\"))\n",
        "fileSystem.printData()\n"
      ]
    },
    {
      "cell_type": "code",
      "execution_count": 82,
      "metadata": {
        "colab": {
          "base_uri": "https://localhost:8080/"
        },
        "id": "T51g2csG1lnH",
        "outputId": "95d499b9-ef8e-4656-da80-d89e5917c045"
      },
      "outputs": [
        {
          "name": "stdout",
          "output_type": "stream",
          "text": [
            "[0, 0, 0, 3, 4, 4] [0, 1, 0, 0, 4, 0]\n",
            "1\n"
          ]
        }
      ],
      "source": [
        "def count_k_big_indices(nums, k):\n",
        "    n = len(nums)\n",
        "    left = [0] * n\n",
        "    right = [0] * n\n",
        "    stack = []\n",
        "\n",
        "    for i in range(n):\n",
        "        while stack and nums[stack[-1]] < nums[i]:\n",
        "            stack.pop()\n",
        "        if stack:\n",
        "            left[i] = stack[-1] + 1\n",
        "        stack.append(i)\n",
        "\n",
        "    stack = []\n",
        "    for i in range(n - 1, -1, -1):\n",
        "        while stack and nums[stack[-1]] < nums[i]:\n",
        "            stack.pop()\n",
        "        if stack:\n",
        "            right[i] = stack[-1] - 1\n",
        "        stack.append(i)\n",
        "\n",
        "    count = 0\n",
        "    for i in range(n):\n",
        "        if right[i] >= k and left[i] >= k:\n",
        "            count += 1\n",
        "\n",
        "    print(left, right)\n",
        "    return count\n",
        "\n",
        "# Example usage\n",
        "nums = [2, 3, 6, 5, 2, 3]\n",
        "k = 2\n",
        "print(count_k_big_indices(nums, k))  # Output: 2\n"
      ]
    },
    {
      "cell_type": "code",
      "execution_count": 83,
      "metadata": {
        "colab": {
          "base_uri": "https://localhost:8080/"
        },
        "id": "GpTPFrM5oOTD",
        "outputId": "5bf2f00f-546b-4c2b-bb89-cee7a64288bf"
      },
      "outputs": [
        {
          "name": "stdout",
          "output_type": "stream",
          "text": [
            "[3, 3]\n",
            "[-2, 3, 4]\n"
          ]
        }
      ],
      "source": [
        "def max_subsequence_sum(nums, k):\n",
        "    max_sum = float('-inf')\n",
        "    max_start = 0\n",
        "\n",
        "    # Calculate the sum of the first subsequence of length k\n",
        "    current_sum = sum(nums[:k])\n",
        "    max_sum = current_sum\n",
        "\n",
        "    # Iterate through the remaining subsequences of length k\n",
        "    for i in range(1, len(nums) - k + 1):\n",
        "        # Update the current sum by adding the next element and subtracting the first element\n",
        "        current_sum = current_sum - nums[i - 1] + nums[i + k - 1]\n",
        "        # Update the maximum sum and the starting index of the subsequence\n",
        "        if current_sum > max_sum:\n",
        "            max_sum = current_sum\n",
        "            max_start = i\n",
        "\n",
        "    # Return the subsequence with the maximum sum\n",
        "    return nums[max_start:max_start + k]\n",
        "\n",
        "# Test the function\n",
        "nums1 = [2, 1, 3, 3]\n",
        "k1 = 2\n",
        "print(max_subsequence_sum(nums1, k1))  # Output should be [3, 3]\n",
        "\n",
        "nums2 = [-1, -2, 3, 4]\n",
        "k2 = 3\n",
        "print(max_subsequence_sum(nums2, k2))  # Output should be [-1, 3, 4]\n",
        "\n"
      ]
    },
    {
      "cell_type": "code",
      "execution_count": 84,
      "metadata": {
        "colab": {
          "base_uri": "https://localhost:8080/"
        },
        "id": "hDZL_URcV1-M",
        "outputId": "7ea53e97-999f-4961-f8ee-202387555198"
      },
      "outputs": [
        {
          "data": {
            "text/plain": [
              "(3, 2)"
            ]
          },
          "execution_count": 84,
          "metadata": {},
          "output_type": "execute_result"
        }
      ],
      "source": [
        "def Bisect(n, arr):\n",
        "  l, r = 0, len(arr)-1\n",
        "\n",
        "  res = -1\n",
        "  while l <= r:\n",
        "    m = l + (r-l)//2\n",
        "    if arr[m] >= n:\n",
        "      r = m - 1\n",
        "    else:\n",
        "      l = m + 1\n",
        "\n",
        "  return l, r\n",
        "\n",
        "Bisect(45, [10,30,40,50,60])"
      ]
    },
    {
      "cell_type": "code",
      "execution_count": 85,
      "metadata": {
        "colab": {
          "base_uri": "https://localhost:8080/"
        },
        "id": "5hq4SJL6b-VG",
        "outputId": "b1600623-7cc2-450b-fce7-cf9a0f6d8622"
      },
      "outputs": [
        {
          "data": {
            "text/plain": [
              "{1}"
            ]
          },
          "execution_count": 85,
          "metadata": {},
          "output_type": "execute_result"
        }
      ],
      "source": [
        "f = set([1,2,3])\n",
        "g = set([2,3])\n",
        "f-g"
      ]
    },
    {
      "cell_type": "code",
      "execution_count": 86,
      "metadata": {
        "colab": {
          "base_uri": "https://localhost:8080/"
        },
        "id": "OG5UO1Kk6Ajr",
        "outputId": "9cc757e1-64a0-4f5a-a3d4-2b0504265f16"
      },
      "outputs": [
        {
          "name": "stdout",
          "output_type": "stream",
          "text": [
            "1\n"
          ]
        }
      ],
      "source": [
        "def longestIncreasingPath(matrix):\n",
        "    if not matrix or not matrix[0]:\n",
        "        return 0\n",
        "\n",
        "    ROWS, COLS = len(matrix), len(matrix[0])\n",
        "    neis = [(0, 1), (1, 0), (0, -1), (-1, 0)]\n",
        "    memo = {}\n",
        "\n",
        "    def validMove(r, c, pval):\n",
        "        return 0 <= r < ROWS and 0 <= c < COLS and matrix[r][c] > pval\n",
        "\n",
        "    def dfs(r, c):\n",
        "        stack = [(r, c)]\n",
        "        path = 0\n",
        "\n",
        "        while stack:\n",
        "            cr, cc = stack[-1]\n",
        "            if (cr, cc) in memo:\n",
        "                path = max(path, memo[(cr, cc)])\n",
        "                stack.pop()\n",
        "                continue\n",
        "\n",
        "            memo[(cr, cc)] = 1\n",
        "            for x, y in neis:\n",
        "                nr, nc = cr + x, cc + y\n",
        "                if validMove(nr, nc, matrix[cr][cc]):\n",
        "                    stack.append((nr, nc))\n",
        "                    memo[(cr, cc)] = max(memo[(cr, cc)], path + 1)\n",
        "\n",
        "        return path\n",
        "\n",
        "    longestLen = 0\n",
        "    for r in range(ROWS):\n",
        "        for c in range(COLS):\n",
        "            longestLen = max(longestLen, dfs(r, c))\n",
        "\n",
        "    return longestLen\n",
        "\n",
        "# Example usage\n",
        "matrix = [[9,9,4],[6,6,8],[2,1,1]]\n",
        "print(longestIncreasingPath(matrix))  # Output: 4\n"
      ]
    },
    {
      "cell_type": "code",
      "execution_count": 87,
      "metadata": {
        "colab": {
          "base_uri": "https://localhost:8080/"
        },
        "id": "gG_qgmdAiyky",
        "outputId": "5240b548-6a3b-40c1-edee-bae4817af8f5"
      },
      "outputs": [
        {
          "data": {
            "text/plain": [
              "6"
            ]
          },
          "execution_count": 87,
          "metadata": {},
          "output_type": "execute_result"
        }
      ],
      "source": [
        "import heapq\n",
        "import collections\n",
        "\n",
        "class Solution:\n",
        "    def cutOffTree(self, forest):\n",
        "\n",
        "        def isValid(r, c):\n",
        "            return 0 <= r < ROWS and 0 <= c < COLS and forest[r][c]>0\n",
        "\n",
        "        def bfs(sr, sc, tr, tc):\n",
        "            queue = collections.deque([(sr, sc, 0)])\n",
        "            visited = {(sr, sc)}\n",
        "            while queue:\n",
        "                cr,cc, steps = queue.popleft()\n",
        "                if cr==tr and cc==tc:\n",
        "                    forest[cr][cc] == 1. ## cut the tree\n",
        "                    return steps\n",
        "\n",
        "                for dr, dc in neis:\n",
        "                    nr, nc = cr+dr, cc+dc\n",
        "                    if (nr, nc) not in visited and isValid(nr, nc):\n",
        "                        visited.add((nr, nc))\n",
        "                        queue.append((nr, nc, steps+1))\n",
        "\n",
        "            return -1\n",
        "\n",
        "        neis = { (1, 0), (0, 1), (-1, 0), (0, -1) }\n",
        "        tsteps = 0\n",
        "        ROWS, COLS = len(forest), len(forest[0])\n",
        "        forestHeap = []\n",
        "        for r in range(ROWS):\n",
        "            for c in range(COLS):\n",
        "              if forest[r][c] > 1:\n",
        "                heapq.heappush(forestHeap, (forest[r][c], r, c))\n",
        "\n",
        "        sr, sc = 0, 0\n",
        "        while forestHeap:\n",
        "            h, r, c = heapq.heappop(forestHeap)\n",
        "            spath = bfs(sr, sc, r, c)\n",
        "            if spath==-1: return spath\n",
        "            tsteps += spath\n",
        "            sr, sc = r, c\n",
        "\n",
        "        return tsteps\n",
        "\n",
        "\n",
        "s = Solution()\n",
        "s.cutOffTree([[1,2,3],[0,0,4],[7,6,5]])"
      ]
    },
    {
      "cell_type": "code",
      "execution_count": 88,
      "metadata": {
        "colab": {
          "base_uri": "https://localhost:8080/"
        },
        "id": "t0a6xt-N8sNS",
        "outputId": "b56bc220-3e96-4d47-f5b6-31ef36d43b39"
      },
      "outputs": [
        {
          "data": {
            "text/plain": [
              "4"
            ]
          },
          "execution_count": 88,
          "metadata": {},
          "output_type": "execute_result"
        }
      ],
      "source": [
        "def BinaryDecimal(bstr):\n",
        "  d = 0\n",
        "  for i in bstr:\n",
        "    d = d*2 + int(i)\n",
        "  return d\n",
        "\n",
        "BinaryDecimal([\"1\", \"0\", \"0\"])\n"
      ]
    },
    {
      "cell_type": "code",
      "execution_count": 89,
      "metadata": {
        "colab": {
          "base_uri": "https://localhost:8080/"
        },
        "id": "geVE6uHVmMUa",
        "outputId": "ee76d071-bdbc-44d4-d229-4874da6083b6"
      },
      "outputs": [
        {
          "name": "stdout",
          "output_type": "stream",
          "text": [
            "3 8 and >  0\n",
            "3 48 and >  0\n",
            "8 48 and >  0\n"
          ]
        }
      ],
      "source": [
        "d = [3, 8, 48]\n",
        "for i in range(len(d)):\n",
        "  for j in range(i+1, len(d)):\n",
        "    print(d[i], d[j], \"and > \", d[i] & d[j])\n",
        "\n"
      ]
    },
    {
      "cell_type": "code",
      "execution_count": 90,
      "metadata": {
        "colab": {
          "base_uri": "https://localhost:8080/",
          "height": 35
        },
        "id": "Ej5psv9fgYnJ",
        "outputId": "807f64da-57a7-4b8c-a335-c02ebb9b71fe"
      },
      "outputs": [
        {
          "data": {
            "text/plain": [
              "'98, 99'"
            ]
          },
          "execution_count": 90,
          "metadata": {},
          "output_type": "execute_result"
        }
      ],
      "source": [
        "def FindMissingRange(nums):\n",
        "  l, u = nums[0], nums[-1]\n",
        "\n",
        "  res = \"\"\n",
        "  ## find any below given lower bound\n",
        "  mlarr = []\n",
        "  for i in range(0, l+1):\n",
        "    mlarr.append(str(i))\n",
        "\n",
        "  if len(mlarr) > 2:\n",
        "    res + (str(mlarr[0])) + \"..\" + str(mlarr[-1])\n",
        "  else:\n",
        "    res += \", \".join(mlarr) if mlarr else \"\"\n",
        "\n",
        "  start = 0\n",
        "  for i in range(1, len(nums)):\n",
        "    tres = []\n",
        "    if nums[i] - nums[start] > 1:\n",
        "      for j in range(start+1, i):\n",
        "        tres.append(str(j))\n",
        "      if len(tres) > 2: res += str(tres[0]) + \"...\" + str(tres[-1])\n",
        "      else: res += \", \".join(tres)\n",
        "\n",
        "    start = i\n",
        "\n",
        "\n",
        "  muarr = []\n",
        "  for i in range(u, 100):\n",
        "    muarr.append(str(i))\n",
        "\n",
        "  if len(muarr) > 2:\n",
        "    res + (str(muarr[0])) + \"..\" + str(muarr[-1])\n",
        "  else:\n",
        "    res += \", \".join(muarr) if muarr else \"\"\n",
        "\n",
        "  return res\n",
        "\n",
        "\n",
        "FindMissingRange([2, 3, 4, 98])\n"
      ]
    },
    {
      "cell_type": "code",
      "execution_count": 91,
      "metadata": {
        "colab": {
          "base_uri": "https://localhost:8080/"
        },
        "id": "MuL0f4IEYuUi",
        "outputId": "157decf6-3e9d-4d11-8e50-cc612c5a2106"
      },
      "outputs": [
        {
          "data": {
            "text/plain": [
              "89"
            ]
          },
          "execution_count": 91,
          "metadata": {},
          "output_type": "execute_result"
        }
      ],
      "source": [
        "from random import *\n",
        "\n",
        "def FindKthSmallest(nums, k):\n",
        "  return quickSelect(nums, 0, len(nums)-1, k-1)\n",
        "\n",
        "\n",
        "def partitions(nums, l, r):\n",
        "  pIdx = randint(l, r)\n",
        "  pval = nums[pIdx]\n",
        "  nums[r], nums[pIdx] = nums[pIdx], nums[r]\n",
        "  i = l\n",
        "  for j in range(l, r):\n",
        "    if nums[j] < pval:\n",
        "      nums[i], nums[j] = nums[j], nums[i]\n",
        "      i += 1\n",
        "  nums[r], nums[i] = nums[i], nums[r]\n",
        "  return i\n",
        "\n",
        "\n",
        "def quickSelect(nums, l, r, k):\n",
        "  if l==r:\n",
        "    return nums[l]\n",
        "\n",
        "  pIdx = partitions(nums, l, r)\n",
        "  if pIdx == k: return nums[pIdx]\n",
        "  elif pIdx < k:\n",
        "    return quickSelect(nums, pIdx, r, k)\n",
        "  else:\n",
        "    return quickSelect(nums, l, pIdx, k)\n",
        "\n",
        "  return -1\n",
        "\n",
        "\n",
        "\n",
        "nums = [1,2,3,4,5,90,89,100]\n",
        "k = 6\n",
        "FindKthSmallest(nums, k)"
      ]
    },
    {
      "cell_type": "code",
      "execution_count": 92,
      "metadata": {
        "colab": {
          "base_uri": "https://localhost:8080/"
        },
        "id": "Iubv2IX-fJ9e",
        "outputId": "8a480a51-5867-42c1-d3f6-aea80aa6430a"
      },
      "outputs": [
        {
          "data": {
            "text/plain": [
              "[5, 2, 3, 1, 4]"
            ]
          },
          "execution_count": 92,
          "metadata": {},
          "output_type": "execute_result"
        }
      ],
      "source": [
        "def RandomizeArray(nums):\n",
        "  for i in range(len(nums)-1, -1, -1):\n",
        "    j = randint(0, i)\n",
        "    nums[i], nums[j] = nums[j], nums[i]\n",
        "  return nums\n",
        "\n",
        "RandomizeArray([1, 2, 3, 4, 5])"
      ]
    },
    {
      "cell_type": "code",
      "execution_count": 93,
      "metadata": {
        "colab": {
          "base_uri": "https://localhost:8080/"
        },
        "id": "HgKdWagHhvPC",
        "outputId": "5641ec56-f6e9-414b-8f1c-487e142352fd"
      },
      "outputs": [
        {
          "name": "stdout",
          "output_type": "stream",
          "text": [
            "{'00_01_10', '00_10'} 2\n"
          ]
        }
      ],
      "source": [
        "def FindUniqueIslands(matrix):\n",
        "\n",
        "  def isValid(r, c):\n",
        "    if not (0 <= r < ROWS) or  not (0 <= c < COLS) :\n",
        "      return False\n",
        "    return matrix[r][c] == 1\n",
        "\n",
        "\n",
        "  def _getHash(hashList):\n",
        "    h = [str(dr)+str(dc) for dr, dc in hashList]\n",
        "    return '_'.join(h)\n",
        "\n",
        "  def dfs(r, c):\n",
        "    stack = [ ((r, c), [0, 0])]\n",
        "    hash = []\n",
        "    while stack:\n",
        "      cinfo, dinfo = stack.pop()\n",
        "      cr, cc = cinfo\n",
        "      dinfoR, dinfoC = dinfo\n",
        "\n",
        "      visited.add((cr, cc))\n",
        "      hash.append([dinfoR, dinfoC])\n",
        "\n",
        "      for dr, dc in dirs:\n",
        "        nr, nc = cr+dr, cc+dc\n",
        "        if (nr, nc) not in visited and isValid(nr, nc):\n",
        "          ndinfo = [dr+dinfoR, dc+dinfoC]\n",
        "          stack.append(((nr, nc),  ndinfo))\n",
        "\n",
        "    return _getHash(hash)\n",
        "\n",
        "\n",
        "  dirs = { (1, 0), (-1, 0), (0, 1), (0, -1) }\n",
        "  visited = set()\n",
        "  uniqueIslands = set()\n",
        "  ROWS, COLS = len(matrix), len(matrix[0])\n",
        "\n",
        "  for r in range(ROWS):\n",
        "    for c in range(COLS):\n",
        "      if (r, c) not in visited and matrix[r][c] == 1:\n",
        "        iHash = dfs(r, c)\n",
        "        uniqueIslands.add(iHash)\n",
        "\n",
        "  return uniqueIslands\n",
        "\n",
        "\n",
        "grid = [\n",
        "    [1, 1, 0, 0],\n",
        "    [1, 0, 0, 0],\n",
        "    [0, 0, 0, 1],\n",
        "    [0, 0, 0, 1],\n",
        "    [1, 0, 0, 0],\n",
        "    [1, 0, 0, 0]\n",
        "]\n",
        "u = FindUniqueIslands(grid)\n",
        "print(u, len(u))\n"
      ]
    },
    {
      "cell_type": "code",
      "execution_count": 94,
      "metadata": {
        "colab": {
          "base_uri": "https://localhost:8080/"
        },
        "id": "GxSwjPhfffAW",
        "outputId": "719ebd30-3f8e-489e-a539-57e289bd6405"
      },
      "outputs": [
        {
          "data": {
            "text/plain": [
              "3"
            ]
          },
          "execution_count": 94,
          "metadata": {},
          "output_type": "execute_result"
        }
      ],
      "source": [
        "from random import *\n",
        "\n",
        "def KthSmallestElement(nums, k):\n",
        "\n",
        "  def partition(nums, l, r):\n",
        "    pidx = randint(l, r)\n",
        "    pval = nums[pidx]\n",
        "    nums[r], nums[pidx] = nums[pidx], nums[r]\n",
        "    i = l\n",
        "    for j in range(l, r):\n",
        "      if nums[j] < pval:\n",
        "        nums[i], nums[j] = nums[j], nums[i]\n",
        "        i += 1\n",
        "\n",
        "    nums[i], nums[r] = nums[r], nums[i]\n",
        "    return pidx\n",
        "\n",
        "  def quickSelect(nums, l, r):\n",
        "    if l == r:\n",
        "      return nums[l]\n",
        "\n",
        "    idx = partition(nums, l, r)\n",
        "    if idx == k: return nums[idx]\n",
        "    elif idx < k:\n",
        "      return quickSelect(nums, idx+1, r)\n",
        "    else:\n",
        "      return quickSelect(nums, l, idx-1)\n",
        "\n",
        "    return -1\n",
        "\n",
        "  return quickSelect(nums, 0, len(nums)-1)\n",
        "\n",
        "\n",
        "nums = [1, 2, 3, 4, 5, 100, 101]\n",
        "\n",
        "k = 3\n",
        "KthSmallestElement(nums, k-1)\n"
      ]
    },
    {
      "cell_type": "code",
      "execution_count": 95,
      "metadata": {
        "colab": {
          "base_uri": "https://localhost:8080/"
        },
        "id": "AVay3wFSlfdz",
        "outputId": "b60a6f46-6953-48b4-ee4e-5aafb78e9cba"
      },
      "outputs": [
        {
          "name": "stdout",
          "output_type": "stream",
          "text": [
            "  | root\n",
            "   | webapp\n",
            "     | assets\n",
            "         | html\n",
            "                 -- a.html\n",
            "                 -- b.html\n",
            "         | js\n",
            "                 -- c.js\n",
            "     -- index.html\n"
          ]
        }
      ],
      "source": [
        "'''\n",
        "Input: files = [ \"/webapp/assets/html/a.html\", \"/webapp/assets/html/b.html\", \"/webapp/assets/js/c.js\", \"/webapp/index.html\" ]\n",
        "\n",
        "dirs = {\n",
        "  \"webapp: [assets, js],\n",
        "  \"assets\": [html],\n",
        "  \"js: []\n",
        "}\n",
        "\n",
        "files = {\n",
        "}\n",
        "\n",
        "\n",
        "'''\n",
        "\n",
        "\n",
        "class TrieNode:\n",
        "\n",
        "  def __init__(self, n):\n",
        "    self.children = {}\n",
        "    self.name = n\n",
        "\n",
        "class Trie:\n",
        "\n",
        "  def __init__(self):\n",
        "    self.root = TrieNode(\"root\")\n",
        "\n",
        "  def insert(self, filePath):\n",
        "    files = filePath.split(\"/\")[1:]\n",
        "    cnode = self.root\n",
        "    for file in files:\n",
        "      if file not in cnode.children:\n",
        "        cnode.children[file] = TrieNode(file)\n",
        "      cnode = cnode.children[file]\n",
        "\n",
        "  def printDfs(self, node, indent):\n",
        "    if not node.children:\n",
        "      print(indent, \"--\", node.name)\n",
        "      return\n",
        "\n",
        "    print(indent, \"|\", node.name)\n",
        "    for d in node.children.values():\n",
        "      self.printDfs(d, indent*2)\n",
        "\n",
        "  def printAllLs(self):\n",
        "    self.printDfs(self.root, \" \")\n",
        "\n",
        "\n",
        "files = [ \"/webapp/assets/html/a.html\", \"/webapp/assets/html/b.html\", \"/webapp/assets/js/c.js\", \"/webapp/index.html\" ]\n",
        "t = Trie()\n",
        "for f in files:\n",
        "  t.insert(f)\n",
        "\n",
        "t.printAllLs()\n"
      ]
    },
    {
      "cell_type": "code",
      "execution_count": 96,
      "metadata": {
        "colab": {
          "base_uri": "https://localhost:8080/"
        },
        "id": "wgtPFYLM0Vao",
        "outputId": "9ff9fe44-3b97-4e8d-c331-a34ac0405464"
      },
      "outputs": [
        {
          "data": {
            "text/plain": [
              "8"
            ]
          },
          "execution_count": 96,
          "metadata": {},
          "output_type": "execute_result"
        }
      ],
      "source": [
        "def SearchMaxLen(nums):\n",
        "\n",
        "  def helper(cnum, clen):\n",
        "    '''\n",
        "      Returns the count of the sequence starting from cnum\n",
        "      cnum: stating count\n",
        "      clen: size of the current counts\n",
        "    '''\n",
        "    if cnum+1 not in cache: return clen\n",
        "    memo[cnum] = helper(cnum+1, clen+1)\n",
        "    return memo[cnum]\n",
        "\n",
        "  cache = set(nums)\n",
        "  mlen = 1\n",
        "  memo = {}\n",
        "  for n in nums:\n",
        "    if n-1 not in cache:\n",
        "      mlen = max(mlen, helper(n, 1))\n",
        "\n",
        "  return mlen\n",
        "\n",
        "\n",
        "nums = [1, 2, 3, 4, 5, 100, 101, 102, 103, 104, 105, 106, 107, 89]\n",
        "SearchMaxLen(nums)"
      ]
    },
    {
      "cell_type": "markdown",
      "metadata": {
        "id": "gNvw3SP7Rou5"
      },
      "source": [
        "$\\sqrt{\\alpha_1 + \\frac{\\beta}{\\gamma}}$\n"
      ]
    },
    {
      "cell_type": "code",
      "execution_count": 97,
      "metadata": {
        "colab": {
          "base_uri": "https://localhost:8080/"
        },
        "id": "HVTk_sx4WKSE",
        "outputId": "28d02919-5aa0-4b26-de42-c596a7e6297c"
      },
      "outputs": [
        {
          "data": {
            "text/plain": [
              "['1p3acres-is', 'a-good', 'place-to', 'communicate']"
            ]
          },
          "execution_count": 97,
          "metadata": {},
          "output_type": "execute_result"
        }
      ],
      "source": [
        "def JustifyWithHiphen(s, maxLen):\n",
        "  n = len(s)\n",
        "  res = []\n",
        "  i = 0\n",
        "  while i < n-1:\n",
        "    opt1 = s[i] + \"-\" + s[i+1]\n",
        "    opt2 = s[i] + \"-\"\n",
        "    opt3 = s[i]\n",
        "    if len(opt1) <= maxLen:\n",
        "      res.append(opt1)\n",
        "      i += 2\n",
        "    elif len(opt2) <= maxLen:\n",
        "      res.append(opt2)\n",
        "      i += 1\n",
        "    else:\n",
        "      res.append(opt3)\n",
        "      i += 1\n",
        "\n",
        "  if i != n:\n",
        "    res.append(s[i])\n",
        "\n",
        "  return res\n",
        "\n",
        "s = [\"1p3acres\", \"is\", \"a\", \"good\", \"place\", \"to\", \"communicate\"]\n",
        "a = 12\n",
        "JustifyWithHiphen(s, a)"
      ]
    },
    {
      "cell_type": "code",
      "execution_count": 98,
      "metadata": {
        "colab": {
          "base_uri": "https://localhost:8080/"
        },
        "id": "JOd7rdYurDEQ",
        "outputId": "2243716f-5115-4e26-9837-d5e64d421477"
      },
      "outputs": [
        {
          "data": {
            "text/plain": [
              "4"
            ]
          },
          "execution_count": 98,
          "metadata": {},
          "output_type": "execute_result"
        }
      ],
      "source": [
        "from collections import Counter\n",
        "\n",
        "def FindMaxDuplicate(nums, x, y , z):\n",
        "\n",
        "\n",
        "  def helper(idx, clist):\n",
        "    if idx == n:\n",
        "      maxdup = max(Counter(clist).values())\n",
        "      return maxdup\n",
        "\n",
        "    xop = nums[idx] + x\n",
        "    yop = nums[idx] - y\n",
        "    zop = nums[idx] * z\n",
        "    nop = nums[idx]\n",
        "    return max(\n",
        "        helper(idx+1, clist.copy() + [xop]),\n",
        "        helper(idx+1, clist.copy() + [yop]),\n",
        "        helper(idx+1, clist.copy() + [zop]),\n",
        "        helper(idx+1, clist.copy() + [nop]),\n",
        "        )\n",
        "\n",
        "  n = len(nums)\n",
        "  return helper(0, [])\n",
        "\n",
        "FindMaxDuplicate([1, 2, 6, 6, 5, 6], 1, 1, 1)"
      ]
    },
    {
      "cell_type": "code",
      "execution_count": 99,
      "metadata": {
        "colab": {
          "base_uri": "https://localhost:8080/",
          "height": 35
        },
        "id": "12JgwBo5xfg3",
        "outputId": "c208ba86-c282-4687-cb86-099ae2cf7304"
      },
      "outputs": [
        {
          "data": {
            "text/plain": [
              "'1010'"
            ]
          },
          "execution_count": 99,
          "metadata": {},
          "output_type": "execute_result"
        }
      ],
      "source": [
        "def AddBinary(b1, b2):\n",
        "  m, n = list(b1), list(b2)\n",
        "  r, c = \"\", 0\n",
        "  while m and n:\n",
        "    a, b = int(m.pop()), int(n.pop())\n",
        "    r = str((a+b+c) % 2) + r\n",
        "    c += (a+b) // 2\n",
        "\n",
        "\n",
        "\n",
        "  while c > 0:\n",
        "    r = str(c%2) + r\n",
        "    c = c // 2\n",
        "  return r\n",
        "\n",
        "AddBinary(\"11\", \"11\")\n"
      ]
    },
    {
      "cell_type": "code",
      "execution_count": 100,
      "metadata": {
        "id": "pjH2mL7D43-p"
      },
      "outputs": [],
      "source": [
        "def findLength(nums1, nums2) -> int:\n",
        "        def helper(i, j, cmax):\n",
        "            if i==m or j==n:\n",
        "                return cmax\n",
        "            print(i, j, nums1[i], nums2[j])\n",
        "            if (i, j) in memo: return memo[(i, j)]\n",
        "            if nums1[i] == nums2[j]:\n",
        "                memo[(i, j)] = helper(i+1, j+1, cmax+1)\n",
        "                return memo[(i, j)]\n",
        "\n",
        "            memo[(i, j)] = max( helper(i+1, j, 0), helper(i, j+1, 0), cmax )\n",
        "            return memo[(i, j)]\n",
        "\n",
        "        memo = {}\n",
        "        m, n = len(nums1), len(nums2)\n",
        "        return helper(0, 0, 0)\n",
        "\n",
        "nums1 = [-9, 1, 12, 12, 12]\n",
        "nums2 = [0, 1, 13, 13, 13]\n",
        "# findLength(nums1, nums2)"
      ]
    },
    {
      "cell_type": "code",
      "execution_count": 101,
      "metadata": {
        "colab": {
          "base_uri": "https://localhost:8080/"
        },
        "id": "EZog1uCw1Ybx",
        "outputId": "f0cfca2f-42b8-436f-82a2-b48feb083764"
      },
      "outputs": [
        {
          "name": "stdout",
          "output_type": "stream",
          "text": [
            "1\n",
            "-1\n",
            "-1\n",
            "3\n",
            "4\n"
          ]
        }
      ],
      "source": [
        "\n",
        "class Node():\n",
        "\n",
        "  def __init__(self,  k=None, v=None) -> None:\n",
        "    self.key, self.value = k, v\n",
        "    self.prev = None\n",
        "    self.next = None\n",
        "\n",
        "\n",
        "class LRUCache():\n",
        "\n",
        "  def __init__(self, cap):\n",
        "    self.capacity = cap\n",
        "    self.left, self.right = Node(), Node()\n",
        "    self.left.next, self.right.prev = self.right, self.left\n",
        "    self.cache = {} ## (key, nodeRef)\n",
        "\n",
        "\n",
        "  def _remove(self, node):\n",
        "    nPrev, nNext = node.prev, node.next\n",
        "    nPrev.next = nNext\n",
        "    nNext.prev = nPrev\n",
        "\n",
        "  def _insert(self, node):\n",
        "    rPrev, nxt = self.right.prev, self.right\n",
        "    rPrev.next = nxt.prev = node\n",
        "    node.prev, node.next = rPrev, nxt\n",
        "\n",
        "\n",
        "  def Get(self, key):\n",
        "    if key in self.cache:\n",
        "      node = self.cache[key]\n",
        "      self._remove(node)\n",
        "      self._insert(node)\n",
        "      return node.value\n",
        "\n",
        "    return -1\n",
        "\n",
        "\n",
        "  def Put(self, key, value):\n",
        "    if key in self.cache:\n",
        "      self._remove(self.cache[key])\n",
        "\n",
        "    self.cache[key] = Node(key, value)\n",
        "    self._insert(self.cache[key])\n",
        "\n",
        "    ## handle eviction\n",
        "    if self.capacity < len(self.cache):\n",
        "      lru = self.left.next\n",
        "      self._remove(lru)\n",
        "      del self.cache[lru.key]\n",
        "\n",
        "lRUCache = LRUCache(2)\n",
        "lRUCache.Put(1, 1)\n",
        "lRUCache.Put(2, 2)\n",
        "print(lRUCache.Get(1))\n",
        "lRUCache.Put(3, 3)\n",
        "print(lRUCache.Get(2) )\n",
        "lRUCache.Put(4, 4)\n",
        "print(lRUCache.Get(1))\n",
        "print(lRUCache.Get(3))\n",
        "print(lRUCache.Get(4))"
      ]
    },
    {
      "cell_type": "code",
      "execution_count": 102,
      "metadata": {
        "colab": {
          "base_uri": "https://localhost:8080/"
        },
        "id": "SqHY7p3DLekG",
        "outputId": "54ff1210-eda9-41ee-c60c-7bdc71d10100"
      },
      "outputs": [
        {
          "data": {
            "text/plain": [
              "2"
            ]
          },
          "execution_count": 102,
          "metadata": {},
          "output_type": "execute_result"
        }
      ],
      "source": [
        "'''\n",
        "\n",
        "[2,3,1,1,4]\n",
        "\n",
        "0 : idx\n",
        "\n",
        "'''\n",
        "\n",
        "def FindMinJumps(nums):\n",
        "\n",
        "  def helper(idx):\n",
        "    if idx == n-1:\n",
        "      return 0\n",
        "\n",
        "    nxt = float(\"inf\")\n",
        "    for j in range(1, nums[idx]+1):\n",
        "      if idx + j < n:\n",
        "        jumps = helper(idx+j)\n",
        "        nxt = min(nxt, jumps+1)\n",
        "\n",
        "    return nxt\n",
        "  n = len(nums)\n",
        "  return helper(0)\n",
        "\n",
        "FindMinJumps([2,3,1,1,4])"
      ]
    },
    {
      "cell_type": "code",
      "execution_count": 103,
      "metadata": {
        "colab": {
          "base_uri": "https://localhost:8080/"
        },
        "id": "dCp7uDOF-6O2",
        "outputId": "6ce8a450-b379-41d0-9066-c4bbbe1e94c5"
      },
      "outputs": [
        {
          "name": "stdout",
          "output_type": "stream",
          "text": [
            "1\n",
            "2\n",
            "3\n",
            "4\n",
            "5\n"
          ]
        }
      ],
      "source": [
        "from collections import deque\n",
        "\n",
        "data = [1, 2, 3, 4, 5]\n",
        "queue = deque(data)\n",
        "while queue:\n",
        "  print(queue.popleft())"
      ]
    },
    {
      "cell_type": "code",
      "execution_count": 104,
      "metadata": {
        "colab": {
          "base_uri": "https://localhost:8080/"
        },
        "id": "RzxvovQxI_TA",
        "outputId": "44fb4a5e-b2b6-4ce0-9deb-b05863eae264"
      },
      "outputs": [
        {
          "data": {
            "text/plain": [
              "[Gift(Day=3, Cost=0),\n",
              " Gift(Day=5, Cost=1),\n",
              " Gift(Day=1, Cost=100),\n",
              " Gift(Day=2, Cost=101)]"
            ]
          },
          "execution_count": 104,
          "metadata": {},
          "output_type": "execute_result"
        }
      ],
      "source": [
        "from collections import *\n",
        "\n",
        "def FindMaxGiftsPossible(gifts):\n",
        "  gift = namedtuple('Gift', ['Day', 'Cost'])\n",
        "  glist = [ gift(d, c) for d, c in gifts ]\n",
        "  sortedGifts = sorted(glist, key=lambda x: x.Cost)\n",
        "  return sortedGifts\n",
        "\n",
        "items = [(1, 100), (2, 101), (3, 0), (5, 1)]\n",
        "FindMaxGiftsPossible(items)"
      ]
    },
    {
      "cell_type": "code",
      "execution_count": 105,
      "metadata": {
        "colab": {
          "base_uri": "https://localhost:8080/"
        },
        "id": "l6IElKwdwgs9",
        "outputId": "60749d7e-aacb-47ca-cf5a-88abed69d647"
      },
      "outputs": [
        {
          "data": {
            "text/plain": [
              "213"
            ]
          },
          "execution_count": 105,
          "metadata": {},
          "output_type": "execute_result"
        }
      ],
      "source": [
        "def LongestSubarraySum(nums):\n",
        "  if not nums: return None\n",
        "  cmax = gmax = nums[0]\n",
        "  for n in nums[1:]:\n",
        "    cmax = max(cmax+n, n)\n",
        "    gmax = max(gmax, cmax)\n",
        "  return gmax\n",
        "\n",
        "nums = [1, 100, 20, -9, 12, 89]\n",
        "LongestSubarraySum(nums)"
      ]
    },
    {
      "cell_type": "code",
      "execution_count": 106,
      "metadata": {
        "colab": {
          "base_uri": "https://localhost:8080/"
        },
        "id": "HrHTHziB68x7",
        "outputId": "cb02e513-d991-4854-d1a9-c660ca45b380"
      },
      "outputs": [
        {
          "data": {
            "text/plain": [
              "2"
            ]
          },
          "execution_count": 106,
          "metadata": {},
          "output_type": "execute_result"
        }
      ],
      "source": [
        "def MinimumJumpCount(nums):\n",
        "  if not nums: return 0\n",
        "  n = len(nums)\n",
        "\n",
        "  def helper(cidx, clen):\n",
        "    if cidx == n: return clen\n",
        "\n",
        "    njmp = float(\"inf\")\n",
        "    for j in nums[cidx+1:]:\n",
        "      if j+cidx <= n:\n",
        "        njmp = min(njmp, helper(j+cidx, clen+1))\n",
        "\n",
        "    return njmp\n",
        "\n",
        "  return helper(0, 0)\n",
        "\n",
        "jumps = [2, 3, 1, 1, 4]\n",
        "MinimumJumpCount(jumps)\n",
        "\n"
      ]
    },
    {
      "cell_type": "code",
      "execution_count": 107,
      "metadata": {
        "colab": {
          "base_uri": "https://localhost:8080/"
        },
        "id": "WWWWVHUGECXA",
        "outputId": "a624ec19-de1c-4104-af4e-577380e695bb"
      },
      "outputs": [
        {
          "name": "stdout",
          "output_type": "stream",
          "text": [
            "[1, 2, 3, 4] {1: 0, 2: 1, 3: 2, 4: 3}\n",
            "[1, 2, 4] {1: 0, 2: 1, 4: 2}\n",
            "[1, 4, 1, 1, 4]\n"
          ]
        }
      ],
      "source": [
        "from random import randint\n",
        "\n",
        "class OptGetRandom:\n",
        "\n",
        "  def __init__(self):\n",
        "    self.cache = {}  ## stores, value, idx of the value in available list\n",
        "    self.availableList = []\n",
        "\n",
        "  def insert(self, v):\n",
        "    if v in self.cache: return\n",
        "    self.availableList.append(v)\n",
        "    self.cache[v] = len(self.availableList)-1\n",
        "\n",
        "  def remove(self, v):\n",
        "    if v not in self.cache: return\n",
        "    idx = self.cache[v]\n",
        "    n = len(self.availableList)\n",
        "    self.availableList[idx], self.availableList[n-1] = self.availableList[n-1], self.availableList[idx]\n",
        "\n",
        "    ## update the swaped last idx for cache\n",
        "    self.cache[self.availableList[idx]] = idx\n",
        "\n",
        "    ## remove from list and hashMap\n",
        "    del self.cache[v]\n",
        "    self.availableList.pop()\n",
        "\n",
        "  def getRandom(self):\n",
        "    ridx = randint(0, len(self.availableList)-1)\n",
        "    return self.availableList[ridx]\n",
        "\n",
        "\n",
        "org = OptGetRandom()\n",
        "org.insert(1)\n",
        "org.insert(2)\n",
        "org.insert(3)\n",
        "org.insert(4)\n",
        "\n",
        "org.getRandom()\n",
        "\n",
        "print(org.availableList, org.cache)\n",
        "org.remove(3)\n",
        "print(org.availableList, org.cache)\n",
        "\n",
        "print([org.getRandom() for _ in range(5)])"
      ]
    },
    {
      "cell_type": "code",
      "execution_count": 108,
      "metadata": {
        "colab": {
          "base_uri": "https://localhost:8080/"
        },
        "id": "kKDWdqXtBjBm",
        "outputId": "f548c52d-6caa-4a0e-88aa-453283fc935f"
      },
      "outputs": [
        {
          "name": "stdout",
          "output_type": "stream",
          "text": [
            "The **** brown **** jumps over the **** dog\n"
          ]
        }
      ],
      "source": [
        "import re\n",
        "\n",
        "def replace_if_matches(text, substrings, replacement):\n",
        "    pattern = '|'.join(map(re.escape, substrings))\n",
        "    return re.sub(pattern, replacement, text)\n",
        "\n",
        "text = \"The quick brown fox jumps over the lazy dog\"\n",
        "substrings = [\"quick\", \"fox\", \"lazy\"]\n",
        "replacement = \"****\"\n",
        "\n",
        "result = replace_if_matches(text, substrings, replacement)\n",
        "print(result)\n"
      ]
    },
    {
      "cell_type": "code",
      "execution_count": 109,
      "metadata": {
        "colab": {
          "base_uri": "https://localhost:8080/"
        },
        "id": "POYUBW6mfKik",
        "outputId": "5326859e-5074-4810-9c7f-b8e631408a28"
      },
      "outputs": [
        {
          "data": {
            "text/plain": [
              "3"
            ]
          },
          "execution_count": 109,
          "metadata": {},
          "output_type": "execute_result"
        }
      ],
      "source": [
        "def GetMinCostString(n, costMatrix):\n",
        "  if not n: return 0\n",
        "\n",
        "\n",
        "  def helper(c, idx):\n",
        "    ## base cases\n",
        "    if idx == n: return 0\n",
        "    if (c, idx) in memo: return memo[(c, idx)]\n",
        "\n",
        "    ## get the min price for current index\n",
        "    curCost = costMatrix[idx][c]\n",
        "    mcost = float(\"inf\")\n",
        "    for j in range(4):\n",
        "      if j != c:\n",
        "        mcost = min(mcost, helper(j, idx+1))\n",
        "\n",
        "    ## save in memo\n",
        "    memo[(c, idx)] = curCost + mcost\n",
        "    return memo[(c, idx)]\n",
        "\n",
        "  memo = {}\n",
        "  gmin = float(\"inf\")\n",
        "  for i in range(4):\n",
        "    gmin = min(gmin, helper(i, 0))\n",
        "\n",
        "  return gmin\n",
        "\n",
        "cmatrix = [\n",
        "    [2, 3, 4, 5],\n",
        "    [7, 3, 4, 1]\n",
        "]\n",
        "GetMinCostString(2, cmatrix)\n"
      ]
    },
    {
      "cell_type": "code",
      "execution_count": 110,
      "metadata": {
        "colab": {
          "base_uri": "https://localhost:8080/"
        },
        "id": "DGOQpQnxMAEu",
        "outputId": "5a73b50a-24f4-4537-9a19-628aac9ba137"
      },
      "outputs": [
        {
          "name": "stdout",
          "output_type": "stream",
          "text": [
            "0 1 0\n"
          ]
        }
      ],
      "source": [
        "def CountPalindromes(l, r, s):\n",
        "  c, ans = 0, 0\n",
        "  while l >= 0 and r < len(s):\n",
        "    if s[l] != s[r]: break\n",
        "    l, r = l-1, r+1\n",
        "    ans += 1\n",
        "\n",
        "  return ans\n",
        "\n",
        "s = \"a\"\n",
        "for i in range(len(s)):\n",
        "  o, e = CountPalindromes(i, i, s), CountPalindromes(i, i+1, s)\n",
        "  print(i, o, e)"
      ]
    },
    {
      "cell_type": "code",
      "execution_count": 111,
      "metadata": {
        "colab": {
          "base_uri": "https://localhost:8080/"
        },
        "id": "yGMGhxUfTcWG",
        "outputId": "5af0b625-6401-4bd5-9f24-f315bf806a93"
      },
      "outputs": [
        {
          "data": {
            "text/plain": [
              "3"
            ]
          },
          "execution_count": 111,
          "metadata": {},
          "output_type": "execute_result"
        }
      ],
      "source": [
        "def MinOpsToSort(nums):\n",
        "  ans = 0\n",
        "  n = len(nums)\n",
        "  while not all([nums[i]==i+1 for i in range(n)]):\n",
        "    i = 0\n",
        "    while i < n:\n",
        "      if nums[i] != i+1:\n",
        "        ans += 1\n",
        "        nums.append(nums.pop(i))\n",
        "        break\n",
        "      i += 1\n",
        "  return ans\n",
        "\n",
        "nums = [3, 2, 1]\n",
        "MinOpsToSort(nums)"
      ]
    },
    {
      "cell_type": "code",
      "execution_count": 112,
      "metadata": {
        "colab": {
          "base_uri": "https://localhost:8080/"
        },
        "id": "vQfB2VcH4JFz",
        "outputId": "0d552f98-2169-4cb1-d491-b8619c370d59"
      },
      "outputs": [
        {
          "data": {
            "text/plain": [
              "(4, 3)"
            ]
          },
          "execution_count": 112,
          "metadata": {},
          "output_type": "execute_result"
        }
      ],
      "source": [
        "def FindMinInRotatedArray(nums):\n",
        "  l, r = 0, len(nums)-1\n",
        "  while l <= r:\n",
        "    m = l + (r-l)//2\n",
        "    if nums[m] > nums[r]:\n",
        "      l = m + 1\n",
        "    else:\n",
        "      r = m - 1\n",
        "  return l, r\n",
        "\n",
        "nums = [4, 5, 6, 7, 1, 2, 3]\n",
        "FindMinInRotatedArray(nums)"
      ]
    },
    {
      "cell_type": "code",
      "execution_count": 113,
      "metadata": {
        "id": "SHNMJYElSjs8"
      },
      "outputs": [],
      "source": [
        "\n",
        "class TreeNode:\n",
        "\n",
        "  def __init__(self, v=None):\n",
        "    self.val = v\n",
        "    self.left = None\n",
        "    self.right = None\n",
        "\n",
        "\n",
        "class BinaryTree:\n",
        "\n",
        "  def __init__(self, nlist):\n",
        "    self.root = self._create(nlist)\n",
        "\n",
        "  def _create(self, nlist):\n",
        "    pass\n",
        "\n",
        "\n",
        "def CreateBinaryTree(nlist):\n",
        "  pass"
      ]
    },
    {
      "cell_type": "code",
      "execution_count": 114,
      "metadata": {
        "colab": {
          "base_uri": "https://localhost:8080/"
        },
        "id": "OGNJOw4xZZw2",
        "outputId": "d9e72063-008b-4387-b514-f917325e4912"
      },
      "outputs": [
        {
          "data": {
            "text/plain": [
              "False"
            ]
          },
          "execution_count": 114,
          "metadata": {},
          "output_type": "execute_result"
        }
      ],
      "source": [
        "def IsEqual(alist, blist):\n",
        "  aint, bint = \"\", \"\"\n",
        "  for i in alist:\n",
        "    aint += str(i)\n",
        "  for j in blist:\n",
        "    bint += str(j)\n",
        "\n",
        "  return int(aint) == int(bint)\n",
        "\n",
        "\n",
        "IsEqual([0, 1, 1, 0], [1, 1])\n"
      ]
    },
    {
      "cell_type": "code",
      "execution_count": 115,
      "metadata": {
        "colab": {
          "base_uri": "https://localhost:8080/"
        },
        "id": "0KczLLYWcjni",
        "outputId": "6426853d-1ee1-4064-a0e0-0f67adef9589"
      },
      "outputs": [
        {
          "data": {
            "text/plain": [
              "91.94578587615729"
            ]
          },
          "execution_count": 115,
          "metadata": {},
          "output_type": "execute_result"
        }
      ],
      "source": [
        "import random\n",
        "\n",
        "\n",
        "random.uniform(0, 100)"
      ]
    },
    {
      "cell_type": "code",
      "execution_count": 116,
      "metadata": {
        "colab": {
          "base_uri": "https://localhost:8080/"
        },
        "id": "4bN9dYusdq6f",
        "outputId": "d9b97e23-9c63-49b7-9010-980da9447bdf"
      },
      "outputs": [
        {
          "name": "stdout",
          "output_type": "stream",
          "text": [
            "Counter({5: 40, 4: 27, 3: 14, 2: 12, 1: 7})\n"
          ]
        }
      ],
      "source": [
        "import random\n",
        "import collections\n",
        "\n",
        "class GetRandomWeightedValue:\n",
        "\n",
        "  def __init__(self, nums):\n",
        "    self.prefixSums = []\n",
        "    self.psum = 0\n",
        "    for v in nums:\n",
        "      self.psum += v\n",
        "      self.prefixSums.append(self.psum)\n",
        "\n",
        "  def GetRandomIndex(self):\n",
        "    t = random.uniform(0, self.psum)\n",
        "    for idx, p in enumerate(self.prefixSums):\n",
        "      if p > t:\n",
        "        return nums[idx]\n",
        "\n",
        "\n",
        "nums = [1, 2, 3, 4, 5]\n",
        "wrnd = GetRandomWeightedValue(nums)\n",
        "ans = []\n",
        "for i in range(100):\n",
        "  ans.append(wrnd.GetRandomIndex())\n",
        "\n",
        "print(collections.Counter(ans))"
      ]
    },
    {
      "cell_type": "code",
      "execution_count": 117,
      "metadata": {
        "colab": {
          "base_uri": "https://localhost:8080/"
        },
        "id": "tO2GNbvpc3bi",
        "outputId": "8b962ce2-65d9-4652-d702-d82a2d8a94c0"
      },
      "outputs": [
        {
          "name": "stdout",
          "output_type": "stream",
          "text": [
            "{(5, 4): True, (5, 3): False, (5, 2): False, (5, 1): False, (5, 0): False, (4, 5): False, (4, 4): True, (4, 3): True, (4, 2): True, (4, 1): False, (4, 0): False, (3, 5): False, (3, 4): False, (3, 3): False, (3, 2): True, (3, 1): False, (3, 0): False, (2, 2): True, (2, 1): True, (2, 0): True, (1, 0): True, (0, 0): True}\n"
          ]
        },
        {
          "data": {
            "text/plain": [
              "True"
            ]
          },
          "execution_count": 117,
          "metadata": {},
          "output_type": "execute_result"
        }
      ],
      "source": [
        "def FindTheInterleaving(s1, s2, s3):\n",
        "  m, n , l = len(s1), len(s2), len(s3)\n",
        "  if m+n != l: return False\n",
        "\n",
        "  def helper(i, j, r):\n",
        "    if i==m and j==n:\n",
        "      return r == s3\n",
        "\n",
        "    if (i, j) in memo and memo[(i, j)]: return memo[(i, j)]\n",
        "\n",
        "    ans = False\n",
        "    if i<m: ans = ans or helper(i+1, j, r+s1[i])\n",
        "    if j<n: ans = ans or helper(i, j+1, r+s2[j])\n",
        "    memo[(i, j)] = ans\n",
        "    return ans\n",
        "\n",
        "  memo = {}\n",
        "  ans = helper(0, 0, \"\")\n",
        "  print(memo)\n",
        "  return ans\n",
        "\n",
        "\n",
        "FindTheInterleaving(\"abcdx\", \"efghy\", \"abefcdghxy\")\n",
        "\n"
      ]
    },
    {
      "cell_type": "code",
      "execution_count": 118,
      "metadata": {
        "colab": {
          "base_uri": "https://localhost:8080/"
        },
        "id": "y3VMN5EgGhdR",
        "outputId": "13f082a5-e136-4888-c1c1-bde12a63c2c6"
      },
      "outputs": [
        {
          "name": "stdout",
          "output_type": "stream",
          "text": [
            "{'pepepqpspvpbpwpgpyp'} pepepqpspvpbpwpgpyp\n"
          ]
        }
      ],
      "source": [
        "{\n",
        "    'a' : 1,\n",
        "    'b' : 0,\n",
        "    'c' : 1,\n",
        "}\n",
        "\n",
        "\"abcac\"\n",
        "\n",
        "from collections import Counter\n",
        "\n",
        "def ReorganizeString(s):\n",
        "\n",
        "\n",
        "  def helper(r, pc):\n",
        "    if len(r) == n:\n",
        "      ans.add(r)\n",
        "      return r, True\n",
        "\n",
        "    if (r, pc) in memo: return memo[(r, pc)]\n",
        "\n",
        "    res = \"\"\n",
        "    for c in counts.keys():\n",
        "      if c != pc and counts[c] > 0:\n",
        "        counts[c] -= 1\n",
        "        res, f = helper(r+c, c)\n",
        "        if f:\n",
        "          memo[(res, c)] = res, True\n",
        "          return res, True\n",
        "        counts[c] += 1\n",
        "\n",
        "    return \"\", False\n",
        "\n",
        "  ans = set()\n",
        "  counts = Counter(s)\n",
        "  n = len(s)\n",
        "  memo = {}\n",
        "  seq, found = helper(\"\", \"\")\n",
        "  print(ans, seq)\n",
        "\n",
        "'''\n",
        "eqpspvbpppwpgyppppe\n",
        "'''\n",
        "ReorganizeString(\"eqpspvbpppwpgyppppe\")"
      ]
    },
    {
      "cell_type": "code",
      "execution_count": 119,
      "metadata": {
        "colab": {
          "base_uri": "https://localhost:8080/",
          "height": 35
        },
        "id": "4YyZyq7AY28v",
        "outputId": "9fec3baf-f5dc-4557-e047-f2f094e67718"
      },
      "outputs": [
        {
          "data": {
            "text/plain": [
              "'BANC'"
            ]
          },
          "execution_count": 119,
          "metadata": {},
          "output_type": "execute_result"
        }
      ],
      "source": [
        "\n",
        "from collections import Counter, defaultdict\n",
        "\n",
        "def FindMinWindowSubsting(sentence, substr):\n",
        "  if not sentence: return ''\n",
        "  subStrMap = Counter(substr)\n",
        "  l = r = 0\n",
        "\n",
        "  seenMap = defaultdict(int)\n",
        "  have, req = 0, len(subStrMap)\n",
        "  l = 0\n",
        "  res, resLen = [-1, -1], float(\"inf\")\n",
        "  for r, w in enumerate(sentence):\n",
        "    seenMap[w] += 1\n",
        "    if w in subStrMap and seenMap[w] == subStrMap[w]:\n",
        "      have += 1\n",
        "\n",
        "    while have == req:\n",
        "      if r-l+1 < resLen:\n",
        "        res = [l, r]\n",
        "        resLen = min(resLen, r-l+1)\n",
        "\n",
        "      c = sentence[l]\n",
        "      seenMap[c] -= 1\n",
        "      if c in subStrMap and seenMap[c] < subStrMap[c]:\n",
        "        have -= 1\n",
        "      l += 1\n",
        "\n",
        "  l, r = res[0], res[1]\n",
        "  return sentence[l:r+1] if resLen != float(\"inf\") else \"\"\n",
        "\n",
        "s = \"ADOBECODEBANC\"\n",
        "t = \"ABC\"\n",
        "FindMinWindowSubsting(s, t)\n",
        "\n"
      ]
    },
    {
      "cell_type": "code",
      "execution_count": 120,
      "metadata": {
        "colab": {
          "base_uri": "https://localhost:8080/"
        },
        "id": "7wQqyngIbqf6",
        "outputId": "da15839e-70af-41c1-a805-24e17d2d7b06"
      },
      "outputs": [
        {
          "data": {
            "text/plain": [
              "10"
            ]
          },
          "execution_count": 120,
          "metadata": {},
          "output_type": "execute_result"
        }
      ],
      "source": [
        "def MaximumSubArraySum(nums):\n",
        "  n = len(nums)\n",
        "  maxsum, csum = float(\"-inf\"), 0\n",
        "  for n in nums:\n",
        "    csum = max(n, csum+n)\n",
        "    maxsum = max(maxsum, csum)\n",
        "\n",
        "  return maxsum\n",
        "\n",
        "nums = [-1,2,4,-3,5,2,-5,2]\n",
        "MaximumSubArraySum(nums)"
      ]
    },
    {
      "cell_type": "code",
      "execution_count": 121,
      "metadata": {
        "colab": {
          "base_uri": "https://localhost:8080/"
        },
        "id": "Gm76uDIHffKK",
        "outputId": "b1d3720a-fdf0-4def-ee91-bcc2fbe84d85"
      },
      "outputs": [
        {
          "name": "stdout",
          "output_type": "stream",
          "text": [
            "[90, 24, 92, 76, 99, 83, 94, 53, 14, 24, 52, 78, 8, 48, 28, 40, 16, 1, 23, 86]\n",
            "[0, 1, 2, 3, 4, 5, 6, 7, 8, 9, 10, 11, 12, 13, 14, 15, 16, 17, 18, 19] \n",
            "\n",
            "[92, 94, 53, 52, 78, 8, 28, 40, 16, 1, 23, 60, 77, 66, 37, 6, 97, 50, 72, 31, 44, 15, 22, 41, 11, 85, 64, 43, 38, 100, 75, 55, 57, 51, 88, 59, 9, 49, 69, 81, 5, 62, 45]\n"
          ]
        }
      ],
      "source": [
        "## [0, n-1]\n",
        "\n",
        "from random import randint\n",
        "from collections import Counter\n",
        "\n",
        "def CountingSort(nums):\n",
        "  mx = max(nums)\n",
        "  aux = [0 for _ in range(mx+1)]\n",
        "  for n in nums:\n",
        "    aux[n] += 1\n",
        "\n",
        "  sortedArray = []\n",
        "  for idx, ax in enumerate(aux):\n",
        "    if aux[idx] > 0:\n",
        "      sortedArray.append(idx)\n",
        "\n",
        "  return sortedArray, Counter(nums)\n",
        "\n",
        "nums = [randint(0, 100) for _ in range(1000)]\n",
        "print(nums[:20])\n",
        "slist, counts = CountingSort(nums)\n",
        "print(slist[:20], \"\\n\")\n",
        "fe = []\n",
        "for k, v in counts.items():\n",
        "  if v>10: fe.append(k)\n",
        "print(fe)"
      ]
    },
    {
      "cell_type": "code",
      "execution_count": 122,
      "metadata": {
        "colab": {
          "base_uri": "https://localhost:8080/",
          "height": 1000
        },
        "id": "xpZ-U_Jek19A",
        "outputId": "31613d56-eb54-4dba-c303-96d7abd8f0ac"
      },
      "outputs": [
        {
          "data": {
            "image/png": "[encoded data removed]",
            "text/plain": [
              "<Figure size 640x480 with 1 Axes>"
            ]
          },
          "metadata": {},
          "output_type": "display_data"
        },
        {
          "data": {
            "image/png": "[encoded data removed]",
            "text/plain": [
              "<Figure size 640x480 with 1 Axes>"
            ]
          },
          "metadata": {},
          "output_type": "display_data"
        },
        {
          "data": {
            "image/png": "[encoded data removed]",
            "text/plain": [
              "<Figure size 640x480 with 1 Axes>"
            ]
          },
          "metadata": {},
          "output_type": "display_data"
        },
        {
          "data": {
            "image/png": "[encoded data removed]",
            "text/plain": [
              "<Figure size 640x480 with 1 Axes>"
            ]
          },
          "metadata": {},
          "output_type": "display_data"
        },
        {
          "data": {
            "image/png": "[encoded data removed]",
            "text/plain": [
              "<Figure size 640x480 with 1 Axes>"
            ]
          },
          "metadata": {},
          "output_type": "display_data"
        },
        {
          "data": {
            "image/png": "[encoded data removed]",
            "text/plain": [
              "<Figure size 640x480 with 1 Axes>"
            ]
          },
          "metadata": {},
          "output_type": "display_data"
        }
      ],
      "source": [
        "import seaborn as sns\n",
        "import matplotlib.pyplot as plt\n",
        "\n",
        "\n",
        "def getCollatzPoints(n):\n",
        "  xlist, ylist = [], []\n",
        "  while n != 1:\n",
        "    x, y = n, n//2 if n%2==0 else n*3+1\n",
        "    xlist.append(x)\n",
        "    ylist.append(y)\n",
        "    n = y\n",
        "  return xlist, ylist\n",
        "\n",
        "def CollatzConjecture(l, r):\n",
        "  for i in range(l, r+1):\n",
        "    x, y = getCollatzPoints(i)\n",
        "    plot(x, y, [j-i for i, j in zip(x, y)], True)\n",
        "\n",
        "def plot(xlist, ylist, dlist,  diff=False):\n",
        "\n",
        "  if diff:\n",
        "    plt.title(\"diff {0}\".format(xlist[0]))\n",
        "    plt.plot(dlist)\n",
        "    plt.show()\n",
        "    return\n",
        "\n",
        "  # Create the plot (using the default scatter plot style)\n",
        "  sns.scatterplot(x=xlist, y=ylist)\n",
        "\n",
        "  # Customize the plot (optional)\n",
        "  plt.xlabel(\"X-axis\")\n",
        "  plt.ylabel(\"Y-axis\")\n",
        "  plt.title(\"Discrete Data Plot\")\n",
        "\n",
        "  # Show the plot\n",
        "  plt.show()\n",
        "\n",
        "CollatzConjecture(4000, 4005)"
      ]
    },
    {
      "cell_type": "code",
      "execution_count": 123,
      "metadata": {
        "colab": {
          "base_uri": "https://localhost:8080/"
        },
        "id": "ATdg_jp8s7gO",
        "outputId": "cb633961-078f-40ad-d63e-5d9dc2528aad"
      },
      "outputs": [
        {
          "data": {
            "text/plain": [
              "[[],\n",
              " [1],\n",
              " [2],\n",
              " [3],\n",
              " [4],\n",
              " [5],\n",
              " [1, 2],\n",
              " [1, 3],\n",
              " [1, 4],\n",
              " [1, 5],\n",
              " [2, 3],\n",
              " [2, 4],\n",
              " [2, 5],\n",
              " [3, 4],\n",
              " [3, 5],\n",
              " [4, 5],\n",
              " [1, 2, 3],\n",
              " [1, 2, 4],\n",
              " [1, 2, 5],\n",
              " [1, 3, 4],\n",
              " [1, 3, 5],\n",
              " [1, 4, 5],\n",
              " [2, 3, 4],\n",
              " [2, 3, 5],\n",
              " [2, 4, 5],\n",
              " [3, 4, 5],\n",
              " [1, 2, 3, 4],\n",
              " [1, 2, 3, 5],\n",
              " [1, 2, 4, 5],\n",
              " [1, 3, 4, 5],\n",
              " [2, 3, 4, 5],\n",
              " [1, 2, 3, 4, 5]]"
            ]
          },
          "execution_count": 123,
          "metadata": {},
          "output_type": "execute_result"
        }
      ],
      "source": [
        "def GenerateSubset(n):\n",
        "\n",
        "  def helper(k):\n",
        "    if k==n+1:\n",
        "      slist.append(subset.copy())\n",
        "      return\n",
        "    subset.append(k)\n",
        "    helper(k+1)\n",
        "    subset.pop()\n",
        "    helper(k+1)\n",
        "\n",
        "\n",
        "  slist, subset = [], []\n",
        "  helper(1)\n",
        "  return sorted(slist, key=lambda x: len(x))\n",
        "\n",
        "GenerateSubset(5)"
      ]
    },
    {
      "cell_type": "code",
      "execution_count": 124,
      "metadata": {
        "colab": {
          "base_uri": "https://localhost:8080/"
        },
        "id": "erpjG8LzF-mq",
        "outputId": "995c9e2c-368b-44bd-d272-e30e48869574"
      },
      "outputs": [
        {
          "name": "stdout",
          "output_type": "stream",
          "text": [
            "1\n",
            "4\n"
          ]
        }
      ],
      "source": [
        "class UnionFind:\n",
        "\n",
        "  def __init__(self, n):\n",
        "    self.parent = [i for i in range(n)]\n",
        "    self.size = [1] * n\n",
        "\n",
        "  def find(self, val):\n",
        "    if self.parent[val] != val:\n",
        "      self.parent[val] = self.find(self.parent[val])\n",
        "    return self.parent[val]\n",
        "\n",
        "  def union(self, x, y):\n",
        "    xp, yp = self.find(x), self.find(y)\n",
        "    if xp != yp:\n",
        "      if self.size[xp] < self.size[yp]:\n",
        "        self.parent[xp] = yp\n",
        "        self.size[yp] += self.size[xp]\n",
        "      else:\n",
        "        self.parent[yp] = xp\n",
        "        self.size[yp] += self.size[xp]\n",
        "\n",
        "\n",
        "u = UnionFind(10)\n",
        "u.union(1, 2)\n",
        "u.union(2, 3)\n",
        "\n",
        "u.union(4, 5)\n",
        "u.union(5, 4)\n",
        "\n",
        "print(u.find(3))\n",
        "print(u.find(5))"
      ]
    },
    {
      "cell_type": "code",
      "execution_count": 125,
      "metadata": {
        "colab": {
          "base_uri": "https://localhost:8080/"
        },
        "id": "1WpD_G4vKDRM",
        "outputId": "174e2f48-4c9a-469b-a141-b02811080c59"
      },
      "outputs": [
        {
          "data": {
            "text/plain": [
              "[0, 1]"
            ]
          },
          "execution_count": 125,
          "metadata": {},
          "output_type": "execute_result"
        }
      ],
      "source": [
        "def TargetSum(nums, t):\n",
        "  cache = {}\n",
        "  for idx, n in enumerate(nums):\n",
        "    if t-n in cache:\n",
        "      return [cache[t-n], idx]\n",
        "    cache[n] = idx\n",
        "  return [-1, -1]\n",
        "\n",
        "\n",
        "TargetSum([2,7,11,15], 9)"
      ]
    },
    {
      "cell_type": "code",
      "execution_count": 126,
      "metadata": {
        "id": "s9864fJLO_X6"
      },
      "outputs": [],
      "source": [
        "def FindMaxSpeacialSubstring(s):\n",
        "  pass\n",
        "\n"
      ]
    },
    {
      "cell_type": "code",
      "execution_count": 127,
      "metadata": {
        "colab": {
          "base_uri": "https://localhost:8080/"
        },
        "id": "HmuwDf5Otg9M",
        "outputId": "fcb8b25b-1310-45e2-a620-3e7882c3bb56"
      },
      "outputs": [
        {
          "data": {
            "text/plain": [
              "False"
            ]
          },
          "execution_count": 127,
          "metadata": {},
          "output_type": "execute_result"
        }
      ],
      "source": [
        "def IsPlaindromeString(s):\n",
        "\n",
        "  def helper(l, r):\n",
        "    if l < 0 or r >= len(s): return False\n",
        "    while l<= r:\n",
        "      if s[r] != s[l]: return False\n",
        "      l, r = l+1, r-1\n",
        "    return True\n",
        "\n",
        "  return helper(0, len(s)-1)\n",
        "\n",
        "IsPlaindromeString(\"as\")"
      ]
    },
    {
      "cell_type": "code",
      "execution_count": 128,
      "metadata": {
        "colab": {
          "base_uri": "https://localhost:8080/"
        },
        "id": "LuMtujiruKK_",
        "outputId": "e295b804-21ec-42eb-ff73-6d17354d5403"
      },
      "outputs": [
        {
          "name": "stdout",
          "output_type": "stream",
          "text": [
            "even & 1:  0\n",
            "1\n",
            "1\n",
            "2\n",
            "2\n",
            "2\n",
            "2\n",
            "3\n"
          ]
        }
      ],
      "source": [
        "from collections import Counter\n",
        "\n",
        "def OddCounts(nums):\n",
        "  tval = 0\n",
        "  for n in nums:\n",
        "    tval += n & 1\n",
        "    print(tval)\n",
        "\n",
        "print(\"even & 1: \", 2&1)\n",
        "OddCounts([1, 0, 3, 2, 4, 6, 9])"
      ]
    },
    {
      "cell_type": "code",
      "execution_count": 129,
      "metadata": {
        "colab": {
          "base_uri": "https://localhost:8080/"
        },
        "id": "PaBJ0nduizwb",
        "outputId": "a3a1ac68-9f43-4847-faa4-0021e41d2057"
      },
      "outputs": [
        {
          "name": "stdout",
          "output_type": "stream",
          "text": [
            "cword:  a\n",
            "cword:  b\n",
            "cword:  c\n",
            "cword:  d\n",
            "--> found:  d\n",
            "--> found:  c\n",
            "--> found:  b\n",
            "--> found:  a\n"
          ]
        },
        {
          "data": {
            "text/plain": [
              "True"
            ]
          },
          "execution_count": 129,
          "metadata": {},
          "output_type": "execute_result"
        }
      ],
      "source": [
        "def IsPossibleCombination(word, wlist):\n",
        "\n",
        "  def helper(start):\n",
        "    if start >= wlen:\n",
        "      return True\n",
        "\n",
        "    for cend in range(start, wlen+1):\n",
        "      cw = word[start:cend+1]\n",
        "      print(\"cword: \", cw)\n",
        "      if cw in wordSet:\n",
        "        if helper(cend+1):\n",
        "          print(\"--> found: \", cw)\n",
        "          return True\n",
        "\n",
        "    return False\n",
        "\n",
        "  wlen = len(word)\n",
        "  wordSet = set(wlist)\n",
        "  return helper(0)\n",
        "\n",
        "\n",
        "# wlist = [\"wal\", \"marty\", \"test\", \"wa\", \"mar\", \"t\"]\n",
        "# IsPossibleCombination(\"walmart\", wlist)\n",
        "\n",
        "\n",
        "wlist = [\"a\", \"b\", \"c\", \"d\", \"mar\", \"t\"]\n",
        "IsPossibleCombination(\"abcd\", wlist)\n",
        "\n"
      ]
    },
    {
      "cell_type": "code",
      "execution_count": 130,
      "metadata": {
        "colab": {
          "base_uri": "https://localhost:8080/"
        },
        "id": "nYKkawvc7uec",
        "outputId": "b8d468c4-c130-4c89-9f0b-3c3356f1fcc1"
      },
      "outputs": [
        {
          "name": "stdout",
          "output_type": "stream",
          "text": [
            "key:  1 , value:  4\n",
            "key:  2 , value:  2\n",
            "key:  3 , value:  3\n"
          ]
        }
      ],
      "source": [
        "class Node:\n",
        "\n",
        "  def __init__(self, k=None, v=None):\n",
        "    self.key = k\n",
        "    self.value = v\n",
        "    self.prev = None\n",
        "    self.next = None\n",
        "\n",
        "\n",
        "class LRUCache:\n",
        "\n",
        "  def __init__(self, capacity):\n",
        "    self.capacity = capacity\n",
        "    self.store = {}\n",
        "    self.left, self.right = Node(), Node()\n",
        "    self.left.next = self.right\n",
        "    self.right.prev = self.left\n",
        "\n",
        "  def PrintStore(self):\n",
        "    for k, v in self.store.items():\n",
        "      print(\"key: \", k, \", value: \", v.value)\n",
        "\n",
        "\n",
        "  def __remove(self, node):\n",
        "    prevNode, nextNode = node.prev, node.next\n",
        "    prevNode.next, nextNode.prev = nextNode, prevNode\n",
        "\n",
        "\n",
        "  def __insert(self, node):\n",
        "    prevNode, nextNode = self.right.prev, self.right\n",
        "    node.next, node.prev = nextNode, prevNode\n",
        "    prevNode.next = nextNode.prev = node\n",
        "\n",
        "  def Get(self, key):\n",
        "    if key not in self.store: return -1\n",
        "    vnode = self.store.get(key, None)\n",
        "    self.__remove(vnode)\n",
        "    self.__insert(vnode)\n",
        "    return vnode.value\n",
        "\n",
        "  def Put(self, k, v):\n",
        "    ## if key is already there remove it\n",
        "    if k in self.store:\n",
        "      node = self.store[k]\n",
        "      self.__remove(node)\n",
        "\n",
        "    self.store[k] = Node(k, v)\n",
        "    self.__insert(self.store[k])\n",
        "\n",
        "    ## if capacity is full evict the lru node\n",
        "    if len(self.store) > self.capacity:\n",
        "      enode = self.left.next\n",
        "      self.__remove(enode)\n",
        "      del self.store[enode]\n",
        "\n",
        "\n",
        "lru = LRUCache(10)\n",
        "lru.Get(10)\n",
        "lru.Put(1, 1)\n",
        "lru.Put(2, 2)\n",
        "lru.Put(3, 3)\n",
        "lru.Put(1, 4)\n",
        "lru.PrintStore()\n"
      ]
    },
    {
      "cell_type": "code",
      "execution_count": 131,
      "metadata": {
        "colab": {
          "base_uri": "https://localhost:8080/"
        },
        "id": "rwWSn54MEKTF",
        "outputId": "2a81922c-2b68-4d4b-eefc-e447286a150d"
      },
      "outputs": [
        {
          "data": {
            "text/plain": [
              "[PageData(Freq=2, PageName=2),\n",
              " PageData(Freq=2, PageName=3),\n",
              " PageData(Freq=5, PageName=1)]"
            ]
          },
          "execution_count": 131,
          "metadata": {},
          "output_type": "execute_result"
        }
      ],
      "source": [
        "from collections import defaultdict, namedtuple\n",
        "import heapq\n",
        "\n",
        "class PageData:\n",
        "\n",
        "  def __init__(self, pName, freq=0):\n",
        "    self.pageName = pName\n",
        "    self.frequency = freq\n",
        "\n",
        "\n",
        "def FindTopKPages(plist):\n",
        "\n",
        "  pageCounts = defaultdict(int)\n",
        "  for pname in plist:\n",
        "\n",
        "    pageCounts[pname] += 1\n",
        "\n",
        "  cmp = lambda x: x.Frequency\n",
        "\n",
        "  pageHeap = []\n",
        "  pageData = namedtuple('PageData', ['Freq', \"PageName\"])\n",
        "  for p, c in pageCounts.items():\n",
        "    heapq.heappush(pageHeap, pageData(c, p))\n",
        "\n",
        "  return [heapq.heappop(pageHeap) for _ in range(len(pageHeap))]\n",
        "\n",
        "\n",
        "FindTopKPages([1, 1, 1, 2, 3, 1, 2, 1, 3])"
      ]
    },
    {
      "cell_type": "code",
      "execution_count": 132,
      "metadata": {
        "id": "hbSRTAkGg26Q"
      },
      "outputs": [],
      "source": [
        "import time\n",
        "import random\n",
        "\n",
        "class UniqueIDGenerator:\n",
        "\n",
        "  @staticmethod\n",
        "  def generate():\n",
        "    tstamp = int(time.time()).to_bytes(5, 'big')\n",
        "    randbytes = random.randbytes(5).to_bytes(5, 'big')\n",
        "\n",
        "\n"
      ]
    },
    {
      "cell_type": "code",
      "execution_count": 133,
      "metadata": {
        "colab": {
          "base_uri": "https://localhost:8080/"
        },
        "id": "2r2oBJAiQ8Ri",
        "outputId": "cd77915f-883c-4728-80bf-3a49fcfe027d"
      },
      "outputs": [
        {
          "name": "stdout",
          "output_type": "stream",
          "text": [
            "MD5 hash: 33624593eaec673d0eb624c410663976\n"
          ]
        }
      ],
      "source": [
        "import hashlib\n",
        "\n",
        "def generate_md5_hash(text):\n",
        "  \"\"\"Generates the MD5 hash for the given text.\"\"\"\n",
        "  encoded_text = text.encode('utf-8')  # Encode text into bytes\n",
        "  hash_object = hashlib.md5(encoded_text)\n",
        "  hex_digest = hash_object.hexdigest()\n",
        "  return hex_digest\n",
        "\n",
        "# Example usage\n",
        "text = \"This is some text to hash.\"\n",
        "md5_hash = generate_md5_hash(text)\n",
        "print(f\"MD5 hash: {md5_hash}\")"
      ]
    },
    {
      "cell_type": "code",
      "execution_count": 134,
      "metadata": {
        "colab": {
          "base_uri": "https://localhost:8080/"
        },
        "id": "xraNdsCrxfAI",
        "outputId": "ed2ae38a-27da-4704-ccab-448216bcad24"
      },
      "outputs": [
        {
          "name": "stdout",
          "output_type": "stream",
          "text": [
            "iPhone-Samsung\n"
          ]
        }
      ],
      "source": [
        "from collections import namedtuple\n",
        "\n",
        "def ShowData(data):\n",
        "  i1, i2 = data.item1, data.item2\n",
        "  p = f'{i1}-{i2}'\n",
        "  print(p)\n",
        "\n",
        "data = namedtuple('Data', ['item1', 'item2'])\n",
        "data.item1 = \"iPhone\"\n",
        "data.item2 = \"Samsung\"\n",
        "ShowData(data)"
      ]
    },
    {
      "cell_type": "code",
      "execution_count": 135,
      "metadata": {
        "colab": {
          "base_uri": "https://localhost:8080/"
        },
        "id": "SOd8irOKMAnC",
        "outputId": "fc57019c-364c-4203-90bf-d14c05affbc3"
      },
      "outputs": [
        {
          "data": {
            "text/plain": [
              "(-2, 1)"
            ]
          },
          "execution_count": 135,
          "metadata": {},
          "output_type": "execute_result"
        }
      ],
      "source": [
        "def FindTwoMinValues(nums):\n",
        "  m1 = m2 = float(\"inf\")\n",
        "  m1 = min(nums)\n",
        "  for n in nums:\n",
        "    if n > m1 and n < m2:\n",
        "      m2 = n\n",
        "\n",
        "  return m1, m2\n",
        "\n",
        "nums = [1, -2, 3, 4, 5, 6, 7, 8]\n",
        "FindTwoMinValues(nums)"
      ]
    },
    {
      "cell_type": "code",
      "execution_count": 136,
      "metadata": {
        "colab": {
          "base_uri": "https://localhost:8080/"
        },
        "id": "KwJ0u4GbVRGK",
        "outputId": "011f8cd4-000c-4810-b016-45956fddccca"
      },
      "outputs": [
        {
          "data": {
            "text/plain": [
              "{0: 0, 1: 5, 2: 4, 3: 8, 4: inf}"
            ]
          },
          "execution_count": 136,
          "metadata": {},
          "output_type": "execute_result"
        }
      ],
      "source": [
        "class Graph:\n",
        "\n",
        "  def __init__(self, vcount=0):\n",
        "    self.vertices = vcount\n",
        "    self.edgeList = []\n",
        "\n",
        "  def addEdge(self, s, d, w):\n",
        "    self.edgeList.append([s, d, w])\n",
        "\n",
        "  def bellmanFord(self, src):\n",
        "    dist = [float(\"inf\") for _ in range(self.vertices)]\n",
        "    dist[0] = src\n",
        "\n",
        "    for _ in range(self.vertices-1):\n",
        "      for s, d, w in self.edgeList:\n",
        "        if dist[s] != float(\"inf\") and dist[s] + w  < dist[d]:\n",
        "          dist[d] = dist[s] + w\n",
        "\n",
        "    for s, d, w in self.edgeList:\n",
        "      if dist[s] != float(\"inf\") and dist[s] + w  < dist[d]:\n",
        "        return {'failed' : 'cycle dectected in graph'}\n",
        "\n",
        "    return { i: dist[i] for i in range(self.vertices) }\n",
        "\n",
        "\n",
        "g = Graph(5)\n",
        "g.addEdge(0, 1, 5)\n",
        "g.addEdge(0, 2, 4)\n",
        "g.addEdge(1, 3, 3)\n",
        "g.addEdge(2, 1, 6)\n",
        "g.addEdge(3, 2, 2)\n",
        "\n",
        "g.bellmanFord(0)"
      ]
    },
    {
      "cell_type": "code",
      "execution_count": null,
      "metadata": {
        "colab": {
          "base_uri": "https://localhost:8080/"
        },
        "id": "er50wDvnuohK",
        "outputId": "455a1a16-5019-48a9-ec75-71a4c9b5d67e"
      },
      "outputs": [
        {
          "name": "stdout",
          "output_type": "stream",
          "text": [
            "5\n"
          ]
        }
      ],
      "source": [
        "class Node():\n",
        "\n",
        "  def __init__(self, val):\n",
        "    self.val = val\n",
        "    self.left = Node\n",
        "    self.right = Node\n",
        "\n",
        "def FindPath(node):\n",
        "\n",
        "  def dfs(node):\n",
        "    pass\n",
        "\n",
        "\n",
        "n = Node(5)\n",
        "print(n.val)"
      ]
    },
    {
      "cell_type": "code",
      "execution_count": null,
      "metadata": {
        "colab": {
          "base_uri": "https://localhost:8080/",
          "height": 35
        },
        "id": "5CZB41F71tOQ",
        "outputId": "7a174d8d-c77f-4ede-c4f8-7425ec98455d"
      },
      "outputs": [
        {
          "data": {
            "application/vnd.google.colaboratory.intrinsic+json": {
              "type": "string"
            },
            "text/plain": [
              "'Sunday'"
            ]
          },
          "execution_count": 8,
          "metadata": {},
          "output_type": "execute_result"
        }
      ],
      "source": [
        "import datetime\n",
        "\n",
        "def DateTime(y, m, d):\n",
        "  day = [\"Monday\", \"Tue\", \"Wed\", \"Thur\", \"Fri\", \"Sat\", \"Sunday\"]\n",
        "  d = datetime.date(y, m, d)\n",
        "  return day[d.weekday()]\n",
        "\n",
        "\n",
        "## day = 18, month = 7, year = 1999\n",
        "DateTime(1999, 7, 18)"
      ]
    },
    {
      "cell_type": "code",
      "execution_count": null,
      "metadata": {
        "colab": {
          "base_uri": "https://localhost:8080/"
        },
        "id": "b9pvsrU1JWTm",
        "outputId": "dffdaa48-b595-4e2b-9f1b-e289eb62f7f7"
      },
      "outputs": [
        {
          "data": {
            "text/plain": [
              "2"
            ]
          },
          "execution_count": 5,
          "metadata": {},
          "output_type": "execute_result"
        }
      ],
      "source": [
        "from collections import deque\n",
        "\n",
        "def FindTheShortestPath(matrix):\n",
        "\n",
        "  def getNeigh(r, c):\n",
        "    dirs = {\n",
        "        (0, 1), (0, -1), (1, 0), (-1, 0),\n",
        "        (1, 1), (1, -1), (-1, 1), (-1, -1)\n",
        "    }\n",
        "    for dr, dc in dirs:\n",
        "      nr, nc = r+dr, c+dc\n",
        "      if 0 <= nr < ROWS and 0 <= nc < COLS and matrix[nr][nc] == 0:\n",
        "        yield nr, nc\n",
        "\n",
        "  ROWS, COLS = len(matrix), len(matrix[0])\n",
        "  queue = deque([(0, 0, 1)])\n",
        "  visited = set()\n",
        "  visited.add((0, 0))\n",
        "\n",
        "  while queue:\n",
        "    r, c, dist = queue.popleft()\n",
        "    if r == ROWS-1 and c == COLS-1:\n",
        "      return dist\n",
        "    for nr, nc in getNeigh(r, c):\n",
        "      if (nr, nc) not in visited:\n",
        "        visited.add((nr, nc))\n",
        "        queue.append((nr, nc, dist+1))\n",
        "\n",
        "  return -1\n",
        "\n",
        "matrix = [[1,0,0],[1,1,0],[1,1,0]]\n",
        "matrix2 = [[0,1],[1,0]]\n",
        "FindTheShortestPath(matrix2)\n"
      ]
    },
    {
      "cell_type": "code",
      "execution_count": null,
      "metadata": {
        "colab": {
          "base_uri": "https://localhost:8080/"
        },
        "id": "isUB3QOZlUY2",
        "outputId": "8ba6464b-732e-41c7-effb-1fc4bb7bdffe"
      },
      "outputs": [
        {
          "name": "stdout",
          "output_type": "stream",
          "text": [
            "car  1 [1, 0, 0, 0, 0, 0, 0, 0, 0, 0, 0, 0, 0, 0, 0, 0, 0, 0, 0, 0]\n",
            "car  2 [1, 0, 0, 0, 0, 0, 0, 0, 0, 0, 0, 0, 0, 0, 0, 0, 0, 0, 0, 2]\n",
            "car  3 [1, 0, 0, 0, 0, 0, 0, 0, 0, 3, 0, 0, 0, 0, 0, 0, 0, 0, 0, 2]\n",
            "car  4 [1, 0, 0, 0, 4, 0, 0, 0, 0, 3, 0, 0, 0, 0, 0, 0, 0, 0, 0, 2]\n",
            "car  5 [1, 0, 0, 0, 4, 0, 0, 0, 0, 3, 0, 0, 0, 0, 5, 0, 0, 0, 0, 2]\n",
            "car  6 [1, 0, 0, 0, 4, 0, 0, 0, 0, 3, 0, 6, 0, 0, 5, 0, 0, 0, 0, 2]\n"
          ]
        }
      ],
      "source": [
        "'''\n",
        "# Parking in vehicle inspection centers: DMV has vehicle inspection centers to inspect the quality of all new vehicles. You are charged to manage the vehicles coming in to inspection centers.\n",
        "\n",
        "It is required keep as much distance as possible between the new vehicle and its neighbors.\n",
        "\n",
        "You can assume that the parking lot is a straight line of individual parking spaces each numbered from 0 to N-1. As each vehicle comes in you want to assign it a parking spot. Let’s say you assigned parking space 0 to the very first car now to maximize the distance you’d assign the next car to space N-1. The next car now could be in the space N/2.\n",
        "\n",
        "Your problem now is to figure out the position at which the next incoming car should park. You can assume that the parking lot was empty when you started.\n",
        "\n",
        "\n",
        "Input:\n",
        "N = 20\n",
        "\n",
        "c1: 1\n",
        "c2: N-1\n",
        "c3: 1, 10, 20\n",
        "c4: 1, 10, 15, 20\n",
        "\n",
        "l   |  r\n",
        "1      20\n",
        "1. 5  10. 15 20\n",
        "1__6__4____3____5____2\n",
        "\n",
        "1_______3_______2\n",
        "\n",
        "heap : , (10, 20), (1, 5), (5, 10)\n",
        "0-N//2  N//2 - N\n",
        "\n",
        "\n",
        "'''\n",
        "\n",
        "import heapq\n",
        "\n",
        "\n",
        "class ParkingLot:\n",
        "\n",
        "    def __init__(self, N) -> None:\n",
        "        self.carCounts = 0\n",
        "        self.slots = N\n",
        "        self.positions = [0] * N\n",
        "        self.currentSlotSize = N\n",
        "        self.maxDisHeap = []\n",
        "        # heapq.heappush(self.maxDisHeap, (0, self.slots-1))\n",
        "\n",
        "\n",
        "    def display(self):\n",
        "      print(\"car \", self.carCounts, self.positions)\n",
        "\n",
        "\n",
        "    def AddCarToParking(self):\n",
        "        if self.carCounts == 0:\n",
        "            self.carCounts += 1\n",
        "            self.positions[0] = self.carCounts\n",
        "            return\n",
        "\n",
        "\n",
        "        if self.carCounts == 1:\n",
        "            self.carCounts += 1\n",
        "            self.positions[self.slots-1] = self.carCounts\n",
        "            maxDis = self.slots-1 // 2\n",
        "            heapq.heappush(self.maxDisHeap, (-maxDis, (0, self.slots-1)))\n",
        "            return\n",
        "\n",
        "\n",
        "        if self.maxDisHeap:\n",
        "            _, pos = heapq.heappop(self.maxDisHeap)\n",
        "            self.carCounts += 1\n",
        "            mid = (pos[1] + pos[0]) // 2\n",
        "            self.positions[mid] = self.carCounts\n",
        "\n",
        "            ## push the two new slot\n",
        "            p1 = (pos[0], mid)\n",
        "            p2 = (mid, pos[1])\n",
        "            heapq.heappush(self.maxDisHeap, (-mid, p1 ))\n",
        "            heapq.heappush(self.maxDisHeap, (-mid, p2 ))\n",
        "\n",
        "\n",
        "\n",
        "p = ParkingLot(20)\n",
        "p.AddCarToParking()\n",
        "p.display()\n",
        "\n",
        "\n",
        "p.AddCarToParking()\n",
        "p.display()\n",
        "\n",
        "p.AddCarToParking()\n",
        "p.display()\n",
        "\n",
        "p.AddCarToParking()\n",
        "p.display()\n",
        "\n",
        "p.AddCarToParking()\n",
        "p.display()\n",
        "\n",
        "\n",
        "p.AddCarToParking()\n",
        "p.display()"
      ]
    },
    {
      "cell_type": "code",
      "execution_count": null,
      "metadata": {
        "colab": {
          "base_uri": "https://localhost:8080/"
        },
        "id": "p2wzBIlf_5-A",
        "outputId": "1cbfebd3-0d40-4dae-c2be-08d40806ee31"
      },
      "outputs": [
        {
          "data": {
            "text/plain": [
              "[6, 7, 8, 9, 10]"
            ]
          },
          "execution_count": 4,
          "metadata": {},
          "output_type": "execute_result"
        }
      ],
      "source": [
        "nums = [1, 2, 3, 4, 5, 6, 7, 8, 9, 10]\n",
        "nums[-5:]"
      ]
    },
    {
      "cell_type": "code",
      "execution_count": null,
      "metadata": {
        "colab": {
          "base_uri": "https://localhost:8080/"
        },
        "id": "LPG62SZprA6s",
        "outputId": "1fbf87d7-81bf-4bbc-c402-7096b291cdc7"
      },
      "outputs": [
        {
          "name": "stdout",
          "output_type": "stream",
          "text": [
            "[4, 8, 6, 9, 10, 33, 7, 92, 11, 55]\n"
          ]
        }
      ],
      "source": [
        "import heapq\n",
        "\n",
        "nums = [11, 92, 33, 4, 55, 6, 7, 8, 9, 10]\n",
        "heapq.heapify(nums)\n",
        "print(nums)"
      ]
    },
    {
      "cell_type": "code",
      "execution_count": null,
      "metadata": {
        "colab": {
          "base_uri": "https://localhost:8080/"
        },
        "id": "GRVfBjkLyeRl",
        "outputId": "aa3d03b5-4799-4381-b56d-78c7b2bb8651"
      },
      "outputs": [
        {
          "name": "stdout",
          "output_type": "stream",
          "text": [
            "[1, 2, 3]\n",
            "[4, 5, 6]\n",
            "\n",
            "[1, 4]\n",
            "[2, 5]\n",
            "[3, 6]\n",
            "\n",
            "[4, 1]\n",
            "[5, 2]\n",
            "[6, 3]\n",
            "\n"
          ]
        }
      ],
      "source": [
        "'''\n",
        "  It is not possible to transpose the matrix in place if the size\n",
        "  is not square.\n",
        "\n",
        "\n",
        "\n",
        "'''\n",
        "\n",
        "def TransposeGenerix(matrix):\n",
        "  '''\n",
        "    Basic idea is to swap the col with row\n",
        "  '''\n",
        "  ROWS = len(matrix)\n",
        "  COLS = len(matrix[0])\n",
        "  newMatrix = [[0 for _ in range(ROWS)] for _ in range(COLS)]\n",
        "  for i in range(ROWS):\n",
        "    for j in range(COLS):\n",
        "      newMatrix[j][i] = matrix[i][j]\n",
        "\n",
        "  return newMatrix\n",
        "\n",
        "\n",
        "def Transpose(matrix):\n",
        "  ROWS = len(matrix)\n",
        "  COLS = len(matrix[0])\n",
        "  for i in range(ROWS):\n",
        "    for j in range(i+1, COLS):\n",
        "      matrix[j][i], matrix[i][j] = matrix[i][j], matrix[j][i]\n",
        "\n",
        "\n",
        "def RevertMatrix(matrix):\n",
        "  ROWS = len(matrix)\n",
        "  COLS = len(matrix[0])\n",
        "  for i in range(ROWS):\n",
        "    for j in range(COLS//2):\n",
        "      matrix[i][j], matrix[i][COLS-1-j] = matrix[i][COLS-1-j], matrix[i][j]\n",
        "\n",
        "\n",
        "def printMatrix(matrix):\n",
        "  for row in matrix:\n",
        "    print(row)\n",
        "  print()\n",
        "\n",
        "# matrix = [\n",
        "#     [1,2,3],\n",
        "#     [4,5,6],\n",
        "#     [7,8,9],\n",
        "#     [10, 11, 12]\n",
        "# ]\n",
        "\n",
        "matrix2 = [\n",
        "    [1, 2, 3],\n",
        "    [4, 5, 6]\n",
        "]\n",
        "\n",
        "printMatrix(matrix2)\n",
        "newM = TransposeGenerix(matrix2)\n",
        "printMatrix(newM)\n",
        "RevertMatrix(newM)\n",
        "printMatrix(newM)"
      ]
    },
    {
      "cell_type": "code",
      "execution_count": null,
      "metadata": {
        "colab": {
          "base_uri": "https://localhost:8080/"
        },
        "id": "v7-W1s0DvbKd",
        "outputId": "c34a9a05-9e8a-4f5e-93f4-9abf64679fa4"
      },
      "outputs": [
        {
          "name": "stdout",
          "output_type": "stream",
          "text": [
            "1\n",
            "2\n",
            "3\n",
            "4\n",
            "5\n",
            "6\n",
            "7\n",
            "8\n",
            "9\n",
            "10\n",
            "11\n",
            "12\n",
            "13\n",
            "14\n",
            "15\n",
            "16\n",
            "17\n",
            "18\n",
            "19\n",
            "20\n",
            "21\n",
            "22\n",
            "23\n",
            "24\n",
            "25\n",
            "26\n"
          ]
        }
      ],
      "source": [
        "def GetCode(l):\n",
        "  return ord(l) - ord('A') + 1\n",
        "\n",
        "for i in range(26):\n",
        "  v = ord('A') + i\n",
        "  print(GetCode(chr(v)))"
      ]
    },
    {
      "cell_type": "code",
      "execution_count": null,
      "metadata": {
        "colab": {
          "base_uri": "https://localhost:8080/"
        },
        "id": "e-FeNxi9BaOZ",
        "outputId": "3f3b8bbb-161d-4143-c002-eecc0f48977f"
      },
      "outputs": [
        {
          "name": "stdout",
          "output_type": "stream",
          "text": [
            "9\n",
            "14\n",
            "4\n",
            "17\n",
            "1\n",
            "6\n",
            "11\n",
            "2\n",
            "7\n",
            "12\n",
            "15\n",
            "18\n",
            "0\n",
            "3\n",
            "5\n",
            "8\n",
            "10\n",
            "13\n",
            "16\n",
            "19\n"
          ]
        }
      ],
      "source": [
        "import heapq\n",
        "\n",
        "class ParkingLot:\n",
        "    def __init__(self, N):\n",
        "        self.N = N\n",
        "        self.heap = []\n",
        "        # Initial segment from 0 to N-1\n",
        "        heapq.heappush(self.heap, (-N, 0, N-1)) # Using negative distance for max heap\n",
        "\n",
        "    def park(self):\n",
        "        if not self.heap:\n",
        "            raise Exception(\"No more spaces available\")\n",
        "\n",
        "        # Get the largest segment\n",
        "        dist, start, end = heapq.heappop(self.heap)\n",
        "        dist = -dist\n",
        "\n",
        "        # Choose the middle point\n",
        "        if start == end:\n",
        "            pos = start\n",
        "        else:\n",
        "            pos = (start + end) // 2\n",
        "\n",
        "        # Create new segments\n",
        "        if pos > start:\n",
        "            heapq.heappush(self.heap, (-(pos - start), start, pos - 1))\n",
        "        if pos < end:\n",
        "            heapq.heappush(self.heap, (-(end - pos), pos + 1, end))\n",
        "\n",
        "        return pos\n",
        "\n",
        "# Example usage:\n",
        "N = 20  # Size of the parking lot\n",
        "parking_lot = ParkingLot(N)\n",
        "\n",
        "# Simulate parking cars\n",
        "for _ in range(N):\n",
        "    print(parking_lot.park())\n"
      ]
    },
    {
      "cell_type": "code",
      "execution_count": null,
      "metadata": {
        "colab": {
          "base_uri": "https://localhost:8080/"
        },
        "id": "RBjo6qjHvV1G",
        "outputId": "420ccf1f-6000-4c98-c0bd-1d9d3582be2a"
      },
      "outputs": [
        {
          "data": {
            "text/plain": [
              "[2, 3, 4, 5, 6, 7, 8, 9]"
            ]
          },
          "execution_count": 6,
          "metadata": {},
          "output_type": "execute_result"
        }
      ],
      "source": [
        "nums = [1, 2, 3, 4, 5, 6, 7, 8, 9, 10]\n",
        "nums[1:-1]"
      ]
    },
    {
      "cell_type": "code",
      "execution_count": null,
      "metadata": {
        "colab": {
          "base_uri": "https://localhost:8080/"
        },
        "id": "hGfPX8s99jIf",
        "outputId": "35070610-0aff-402a-c15f-2fac66808b39"
      },
      "outputs": [
        {
          "data": {
            "text/plain": [
              "1"
            ]
          },
          "execution_count": 4,
          "metadata": {},
          "output_type": "execute_result"
        }
      ],
      "source": [
        "from typing import List\n",
        "\n",
        "class Solution:\n",
        "    def maxOperations(self, nums: List[int]) -> int:\n",
        "\n",
        "        if len(nums) < 2: return 0\n",
        "        cache = {}\n",
        "        def helper(score, s=0, e=len(nums)-1):\n",
        "            if e <= s: return 0\n",
        "\n",
        "            if (s, e) in cache: return cache[(s, e)]\n",
        "\n",
        "            m1 = 1 + helper(score, s+2, e) if score == sum(nums[s:s+2]) else 0\n",
        "            m2 = 1 + helper(score, s, e-2) if score == sum(nums[e-1:e+1]) else 0\n",
        "            m3 = 1 + helper(score, s+1, e-1) if score == nums[s] + nums[e] else 0\n",
        "\n",
        "            cache[(s, e)] = max(m1, m2, m3)\n",
        "            return cache[(s, e)]\n",
        "\n",
        "        s1 = helper(sum(nums[:2]))\n",
        "        s2 = helper(sum(nums[-2:]))\n",
        "        s3 = helper(nums[0] + nums[1])\n",
        "\n",
        "        return max(\n",
        "            s1, s3, s2\n",
        "        )\n",
        "\n",
        "s = Solution()\n",
        "s.maxOperations([1,2,3,4,5,6,7,8,9,10])"
      ]
    },
    {
      "cell_type": "code",
      "execution_count": null,
      "metadata": {
        "colab": {
          "base_uri": "https://localhost:8080/"
        },
        "id": "rNY1oAy1VWYC",
        "outputId": "49e82b1b-435e-4f1b-cf34-a8f0c7fe9acb"
      },
      "outputs": [
        {
          "data": {
            "text/plain": [
              "12"
            ]
          },
          "execution_count": 2,
          "metadata": {},
          "output_type": "execute_result"
        }
      ],
      "source": [
        "def GetGCD(a, b):\n",
        "  a, b = min(a, b), max(a, b)\n",
        "  while b:\n",
        "    a, b = b, a%b\n",
        "  return a\n",
        "\n",
        "def GetLCM(a, b):\n",
        "  return (a*b) // GetGCD(a, b)\n",
        "\n",
        "GetLCM(4, 6)"
      ]
    },
    {
      "cell_type": "code",
      "execution_count": null,
      "metadata": {
        "colab": {
          "base_uri": "https://localhost:8080/"
        },
        "id": "b7u5mmOeD0Jc",
        "outputId": "b0ba2a47-32a7-4636-cd5b-9f26175173ed"
      },
      "outputs": [
        {
          "name": "stdout",
          "output_type": "stream",
          "text": [
            "True\n",
            "['app', 'apple', 'apps', 'appdata']\n"
          ]
        }
      ],
      "source": [
        "class TrieNode():\n",
        "\n",
        "  def __init__(self):\n",
        "    self.children = {}\n",
        "    self.isWord = False\n",
        "\n",
        "class Trie():\n",
        "\n",
        "  def __init__(self):\n",
        "    self.root = TrieNode()\n",
        "\n",
        "  def Insert(self, word):\n",
        "    '''\n",
        "      inserts the word in the Trie\n",
        "    '''\n",
        "    node = self.root\n",
        "    for c in word:\n",
        "      if c not in node.children:\n",
        "        node.children[c] = TrieNode()\n",
        "      node= node.children[c]\n",
        "    node.isWord = True\n",
        "\n",
        "  def Search(self, word):\n",
        "    node = self.root\n",
        "    for c in word:\n",
        "      if c not in node.children:\n",
        "        return False\n",
        "      node = node.children[c]\n",
        "    return node.isWord == True\n",
        "\n",
        "  def StartsWith(self, prefix):\n",
        "    node = self.root\n",
        "    words = []\n",
        "\n",
        "    for c in prefix:\n",
        "      if c not in node.children:\n",
        "        return words\n",
        "      node = node.children[c]\n",
        "\n",
        "    def collectAllWords(tnode, cword):\n",
        "      if tnode.isWord:\n",
        "        words.append(cword)\n",
        "      for c, cnode in tnode.children.items():\n",
        "         collectAllWords(cnode, cword + c)\n",
        "      return\n",
        "\n",
        "    collectAllWords(node, prefix)\n",
        "    return words\n",
        "\n",
        "\n",
        "trie = Trie()\n",
        "trie.Insert(\"app\")\n",
        "trie.Insert(\"apple\")\n",
        "trie.Insert(\"apps\")\n",
        "trie.Insert(\"appdata\")\n",
        "trie.Insert(\"nextappdata\")\n",
        "print(trie.Search(\"app\"))\n",
        "print(trie.StartsWith(\"app\"))\n",
        "\n"
      ]
    },
    {
      "cell_type": "code",
      "execution_count": null,
      "metadata": {
        "colab": {
          "base_uri": "https://localhost:8080/"
        },
        "id": "ZMosI7fdlBEF",
        "outputId": "92c0dc98-2927-448d-aa9a-2ac726cd44e3"
      },
      "outputs": [
        {
          "data": {
            "text/plain": [
              "5"
            ]
          },
          "execution_count": 11,
          "metadata": {},
          "output_type": "execute_result"
        }
      ],
      "source": [
        "def FindMinOps(nums, x):\n",
        "\n",
        "  def helper(cnum, l, r):\n",
        "    if cnum==0:\n",
        "      return 0\n",
        "\n",
        "    if cnum < 0: return 0\n",
        "\n",
        "     ## choose left and explore\n",
        "    lval, lops = nums[l], float(\"inf\")\n",
        "    if lval <= cnum and l <= r:\n",
        "      lops = helper(cnum-lval, l+1, r)\n",
        "\n",
        "    ## choose right to explore\n",
        "    rval, rops = nums[r], float(\"inf\")\n",
        "    if rval <= cnum and l <= r:\n",
        "      rops = helper(cnum-rval, l, r-1)\n",
        "\n",
        "    return min(lops, rops) + 1\n",
        "\n",
        "  return helper(x, 0, len(nums)-1)\n",
        "\n",
        "FindMinOps([1, 1, 4, 2, 3], 5)\n",
        "FindMinOps([5, 4, 3, 2, 1], 15)\n",
        "\n",
        "## ([3, 2, 20, 1, 1, 3], 10)\n",
        "FindMinOps([3, 2, 20, 1, 1, 3], 10)"
      ]
    },
    {
      "cell_type": "code",
      "execution_count": null,
      "metadata": {
        "colab": {
          "base_uri": "https://localhost:8080/"
        },
        "id": "b_MQ_aA1aD1h",
        "outputId": "952f3ba7-f23b-497d-ba35-bef0e2a18913"
      },
      "outputs": [
        {
          "name": "stdout",
          "output_type": "stream",
          "text": [
            "[1, 2, 2, 2, 2, 3, 12, 13, 14]\n"
          ]
        }
      ],
      "source": [
        "'''\n",
        "First scenario:\n",
        "    1. Get the whole list from each server\n",
        "    2. O(N), n = total_nums\n",
        "    3. Heap: O(N log k), k = no. of servers\n",
        "\n",
        "Second Scenario: Not enough memory\n",
        "    Ouput: store it in other server disk\n",
        "    1.\n",
        "\n",
        "'''\n",
        "\n",
        "import heapq\n",
        "\n",
        "class Server():\n",
        "\n",
        "    def __init__(self, listOfNums):\n",
        "        self.data = {}\n",
        "        for i, nums in enumerate(listOfNums):\n",
        "            self.data[i] = nums\n",
        "        self.size = len(listOfNums)\n",
        "\n",
        "    def GetServerData(self, sname):\n",
        "        return self.data.get(sname, [])\n",
        "\n",
        "    def GetServerList(self):\n",
        "        return self.size\n",
        "\n",
        "\n",
        "class ExternalSort():\n",
        "\n",
        "    def __init__(self, sutil):\n",
        "        self.finalList = []\n",
        "        self.heapData = []\n",
        "        self.serverUtil = sutil\n",
        "\n",
        "\n",
        "    def GetSortedData(self):\n",
        "        serverList = self.serverUtil.GetServerList()\n",
        "        serverData = []\n",
        "        for i in range(serverList):\n",
        "          d = self.serverUtil.GetServerData(i)\n",
        "          serverData.append(\n",
        "              iter(d)\n",
        "          )\n",
        "\n",
        "        for s, n in enumerate(serverData):\n",
        "          heapq.heappush(self.heapData, (next(n), s))\n",
        "\n",
        "        while self.heapData:\n",
        "          n, sId = heapq.heappop(self.heapData)\n",
        "          self.finalList.append(n)\n",
        "          d = next(serverData[sId], None)\n",
        "          if d != None:\n",
        "            heapq.heappush(self.heapData, (d, sId))\n",
        "\n",
        "        return self.finalList\n",
        "\n",
        "s = Server(\n",
        "    [[1, 2, 3, 4],[3, 5, 6, 7],[5, 7, 8, 10]]\n",
        ")\n",
        "\n",
        "s2 = Server(\n",
        "    [[1, 12, 13, 14],[3],[2, 2, 2, 2]]\n",
        ")\n",
        "\n",
        "es = ExternalSort(s2)\n",
        "print(es.GetSortedData())\n"
      ]
    },
    {
      "cell_type": "code",
      "execution_count": null,
      "metadata": {
        "colab": {
          "base_uri": "https://localhost:8080/"
        },
        "id": "jHe6hDBqgjEN",
        "outputId": "d548d011-c8ef-4323-d686-5d6637093274"
      },
      "outputs": [
        {
          "name": "stdout",
          "output_type": "stream",
          "text": [
            "5\n"
          ]
        }
      ],
      "source": [
        "def MinOps(nums, x):\n",
        "\n",
        "  def helper(ctotal, l, r):\n",
        "    if ctotal == 0:\n",
        "      return 0\n",
        "    if ctotal < 0:\n",
        "      return float(\"inf\")\n",
        "\n",
        "    ## choose left and explore\n",
        "    lval, lops = nums[l], float(\"inf\")\n",
        "    if l <= r and lval <= ctotal:\n",
        "      lops = 1 + helper(ctotal-lval, l+1, r)\n",
        "\n",
        "    ## choose right and explore\n",
        "    rval, rops = nums[r], float(\"inf\")\n",
        "    if l <= r and rval <= ctotal:\n",
        "      rops = 1 + helper(ctotal-rval, l, r-1)\n",
        "\n",
        "    return min(lops, rops)\n",
        "\n",
        "  return helper(x, 0, len(nums)-1)\n",
        "\n",
        "a1 = MinOps([3, 2, 20, 1, 1, 3], 10)\n",
        "print(a1)\n"
      ]
    },
    {
      "cell_type": "code",
      "execution_count": null,
      "metadata": {
        "colab": {
          "base_uri": "https://localhost:8080/"
        },
        "id": "0trF-JSBaBPD",
        "outputId": "e1f1f381-ec6c-4246-db8c-65c8cf75603a"
      },
      "outputs": [
        {
          "data": {
            "text/plain": [
              "16"
            ]
          },
          "execution_count": 14,
          "metadata": {},
          "output_type": "execute_result"
        }
      ],
      "source": [
        "'''\n",
        "\n",
        "  There are two ops :\n",
        "  1. Copy All: You can copy all the characters present on the screen (a partial copy is not allowed).\n",
        "  2. Paste: You can paste the characters which are copied last time. This is basically (copy+paste)\n",
        "\n",
        "  options:\n",
        "  >\n",
        "\n",
        "'''\n",
        "\n",
        "def FindMinKeyOps(n):\n",
        "  memo = {}\n",
        "\n",
        "  def helper(slen, clen):\n",
        "    '''\n",
        "      slen: len of the current the string\n",
        "      clen: len of the copy string in the clipboard\n",
        "    '''\n",
        "\n",
        "    if slen == n: return 1\n",
        "    if slen > n: return float(\"inf\")\n",
        "\n",
        "    if (slen, clen) in memo: return memo[(slen,clen)]\n",
        "\n",
        "    copyPaste = float(\"inf\")\n",
        "    if slen != clen:\n",
        "      copyPaste = 2 + helper(slen*2, slen)\n",
        "\n",
        "    ## only paste\n",
        "    paste = 1 + helper(slen+clen, clen)\n",
        "\n",
        "    minOps = min(\n",
        "        copyPaste,\n",
        "        paste\n",
        "    )\n",
        "    memo[(slen, clen)] = minOps\n",
        "    return memo[(slen, clen)]\n",
        "\n",
        "  if n == 1 : return 0\n",
        "  return helper(1, 1)\n",
        "\n",
        "\n",
        "# for i in range(0, 500, 25):\n",
        "#   print(FindMinKeyOps(i+3))\n",
        "\n",
        "FindMinKeyOps(200)\n"
      ]
    },
    {
      "cell_type": "code",
      "execution_count": null,
      "metadata": {
        "id": "DUdNesGBdTb4"
      },
      "outputs": [],
      "source": [
        "def FindMinRepeats(a, b):\n",
        "  s1, s2 = len(a), len(b)\n",
        "  if s2 < s1: return -1\n",
        "\n"
      ]
    },
    {
      "cell_type": "code",
      "execution_count": null,
      "metadata": {
        "colab": {
          "base_uri": "https://localhost:8080/"
        },
        "id": "wy36MCVmeWgz",
        "outputId": "3fcdedd1-e2c3-49d5-98d0-4ec1925160fb"
      },
      "outputs": [
        {
          "data": {
            "text/plain": [
              "[1, 2, 3, 4, 5, 12, 13, 14, 15, 16, 90, 91, 92]"
            ]
          },
          "execution_count": 40,
          "metadata": {},
          "output_type": "execute_result"
        }
      ],
      "source": [
        "\n",
        "import heapq\n",
        "\n",
        "def MergeSortedArrays(alist):\n",
        "  minheap = []\n",
        "  sortedArrays = [ iter(i) for i in alist if i != None]\n",
        "  finalSortedList = []\n",
        "\n",
        "  ## init the heap with the first element from each list\n",
        "  for ilist in sortedArrays:\n",
        "    d = next(ilist, None)\n",
        "    heapq.heappush(minheap, (d, ilist))\n",
        "\n",
        "  ## pop and insert the next in the line from each list\n",
        "  while minheap:\n",
        "    n, clist = heapq.heappop(minheap)\n",
        "    finalSortedList.append(n)\n",
        "    nextData = next(clist, None)\n",
        "    if nextData:\n",
        "      heapq.heappush(minheap, (nextData, clist))\n",
        "\n",
        "  return finalSortedList\n",
        "\n",
        "s1 = [\n",
        "    [1, 2, 3, 4, 5],\n",
        "    [12, 13, 14, 15, 16],\n",
        "    [90, 91, 92]\n",
        "]\n",
        "MergeSortedArrays(s1)\n"
      ]
    },
    {
      "cell_type": "code",
      "execution_count": null,
      "metadata": {
        "colab": {
          "base_uri": "https://localhost:8080/"
        },
        "id": "AQrzJpu1fG5i",
        "outputId": "5c2103fa-71ba-4f01-c598-3c72d632c07d"
      },
      "outputs": [
        {
          "name": "stdout",
          "output_type": "stream",
          "text": [
            "1\n",
            "23\n"
          ]
        }
      ],
      "source": [
        "d = [\n",
        "    [1, 2, 3, 4],\n",
        "    [],\n",
        "    [23, 34]\n",
        "]\n",
        "d = [ iter(i) for i in d if i != []]\n",
        "for i in d:\n",
        "  s = next(i)\n",
        "  print(s)"
      ]
    },
    {
      "cell_type": "code",
      "execution_count": null,
      "metadata": {
        "colab": {
          "base_uri": "https://localhost:8080/"
        },
        "id": "CujXTKU4Ip95",
        "outputId": "af32535c-75ed-43af-d50b-a6db6e3701a1"
      },
      "outputs": [
        {
          "data": {
            "text/plain": [
              "2"
            ]
          },
          "execution_count": 1,
          "metadata": {},
          "output_type": "execute_result"
        }
      ],
      "source": [
        "def FindLongestIncreasingSeq(nums):\n",
        "\n",
        "  N = len(nums)-1\n",
        "  def helper(cidx, tlen):\n",
        "    if cidx == N:\n",
        "      return tlen\n",
        "\n",
        "    clen = 0\n",
        "    for idx in range(cidx+1, N):\n",
        "      if nums[idx] > nums[cidx]:\n",
        "        clen = max(clen, helper(idx+1, tlen+1))\n",
        "    return clen\n",
        "\n",
        "\n",
        "  return helper(0, 1)\n",
        "\n",
        "\n",
        "nums = [4, 5, 6, 7]\n",
        "FindLongestIncreasingSeq(nums)\n",
        "\n",
        "\n",
        "\n"
      ]
    },
    {
      "cell_type": "code",
      "execution_count": null,
      "metadata": {
        "colab": {
          "base_uri": "https://localhost:8080/"
        },
        "id": "PjYWhfgpD_OM",
        "outputId": "8e7e3cf3-9ca1-44a3-b305-fc485efa9bf0"
      },
      "outputs": [
        {
          "name": "stdout",
          "output_type": "stream",
          "text": [
            "adding 0 and 0\n",
            "key : 0, data: 0\n",
            "adding 1 and 1\n",
            "key : 1, data: 1\n",
            "adding 2 and 2key : 2, data: None\n",
            "\n",
            "adding 3 and 3\n",
            "key : 3, data: 3\n",
            "adding 4 and 4key : 4, data: None\n",
            "\n"
          ]
        }
      ],
      "source": [
        "import threading\n",
        "import time\n",
        "\n",
        "\n",
        "class ThreadSafeMap():\n",
        "\n",
        "  def __init__(self):\n",
        "    self.dataMap = {}\n",
        "    self.lock = threading.Lock()\n",
        "\n",
        "  def set(self, k=None, v=None):\n",
        "    print(\"adding {0} and {1}\".format(k, v))\n",
        "    with self.lock:\n",
        "      self.dataMap[k] = v\n",
        "\n",
        "  def get(self, k):\n",
        "    with self.lock:\n",
        "      return self.dataMap.get(k, None)\n",
        "\n",
        "  def remove(self, k):\n",
        "    with self.lock:\n",
        "      if k in self.dataMap:\n",
        "        del self.dataMap[k]\n",
        "\n",
        "\n",
        "def TestThreadSafeMap(count):\n",
        "  tmap = ThreadSafeMap()\n",
        "\n",
        "  def writeData(count):\n",
        "    for c in range(count):\n",
        "      time.sleep(1)\n",
        "      tmap.set(c, c)\n",
        "\n",
        "  def readData(count):\n",
        "    for c in range(count):\n",
        "      time.sleep(1)\n",
        "      d = tmap.get(c)\n",
        "      print(\"key : {0}, data: {1}\".format(c, d))\n",
        "\n",
        "  t1 = threading.Thread(target=writeData, args=[count])\n",
        "  t2 = threading.Thread(target=readData, args=[count])\n",
        "\n",
        "  t1.start()\n",
        "  t2.start()\n",
        "\n",
        "  t1.join()\n",
        "  t2.join()\n",
        "\n",
        "TestThreadSafeMap(5)\n",
        "\n",
        "\n"
      ]
    },
    {
      "cell_type": "code",
      "execution_count": null,
      "metadata": {
        "colab": {
          "base_uri": "https://localhost:8080/"
        },
        "id": "nneWrHzCScy4",
        "outputId": "d7fd886f-abb8-428b-b700-4f4411f385fa"
      },
      "outputs": [
        {
          "name": "stdout",
          "output_type": "stream",
          "text": [
            "parking at slot :  0\n",
            "['P', '-', '-', '-', '-', '-', '-', '-', '-', '-', '-', '-', '-', '-', '-', '-', '-', '-', '-', '-']\n",
            "\n",
            "parking at slot :  19\n",
            "['P', '-', '-', '-', '-', '-', '-', '-', '-', '-', '-', '-', '-', '-', '-', '-', '-', '-', '-', 'P']\n",
            "\n",
            "parking at slot :  9\n",
            "['P', '-', '-', '-', '-', '-', '-', '-', '-', 'P', '-', '-', '-', '-', '-', '-', '-', '-', '-', 'P']\n",
            "\n",
            "parking at slot :  4\n",
            "['P', '-', '-', '-', 'P', '-', '-', '-', '-', 'P', '-', '-', '-', '-', '-', '-', '-', '-', '-', 'P']\n",
            "\n",
            "parking at slot :  14\n",
            "['P', '-', '-', '-', 'P', '-', '-', '-', '-', 'P', '-', '-', '-', '-', 'P', '-', '-', '-', '-', 'P']\n",
            "\n",
            "parking at slot :  2\n",
            "['P', '-', 'P', '-', 'P', '-', '-', '-', '-', 'P', '-', '-', '-', '-', 'P', '-', '-', '-', '-', 'P']\n",
            "\n",
            "parking at slot :  6\n",
            "['P', '-', 'P', '-', 'P', '-', 'P', '-', '-', 'P', '-', '-', '-', '-', 'P', '-', '-', '-', '-', 'P']\n",
            "\n",
            "parking at slot :  11\n",
            "['P', '-', 'P', '-', 'P', '-', 'P', '-', '-', 'P', '-', 'P', '-', '-', 'P', '-', '-', '-', '-', 'P']\n",
            "\n",
            "parking at slot :  16\n",
            "['P', '-', 'P', '-', 'P', '-', 'P', '-', '-', 'P', '-', 'P', '-', '-', 'P', '-', 'P', '-', '-', 'P']\n",
            "\n",
            "parking at slot :  1\n",
            "['P', 'P', 'P', '-', 'P', '-', 'P', '-', '-', 'P', '-', 'P', '-', '-', 'P', '-', 'P', '-', '-', 'P']\n",
            "\n",
            "parking at slot :  3\n",
            "['P', 'P', 'P', 'P', 'P', '-', 'P', '-', '-', 'P', '-', 'P', '-', '-', 'P', '-', 'P', '-', '-', 'P']\n",
            "\n",
            "parking at slot :  5\n",
            "['P', 'P', 'P', 'P', 'P', 'P', 'P', '-', '-', 'P', '-', 'P', '-', '-', 'P', '-', 'P', '-', '-', 'P']\n",
            "\n",
            "parking at slot :  7\n",
            "['P', 'P', 'P', 'P', 'P', 'P', 'P', 'P', '-', 'P', '-', 'P', '-', '-', 'P', '-', 'P', '-', '-', 'P']\n",
            "\n",
            "parking at slot :  10\n",
            "['P', 'P', 'P', 'P', 'P', 'P', 'P', 'P', '-', 'P', 'P', 'P', '-', '-', 'P', '-', 'P', '-', '-', 'P']\n",
            "\n",
            "parking at slot :  12\n",
            "['P', 'P', 'P', 'P', 'P', 'P', 'P', 'P', '-', 'P', 'P', 'P', 'P', '-', 'P', '-', 'P', '-', '-', 'P']\n",
            "\n",
            "parking at slot :  15\n",
            "['P', 'P', 'P', 'P', 'P', 'P', 'P', 'P', '-', 'P', 'P', 'P', 'P', '-', 'P', 'P', 'P', '-', '-', 'P']\n",
            "\n",
            "parking at slot :  17\n",
            "['P', 'P', 'P', 'P', 'P', 'P', 'P', 'P', '-', 'P', 'P', 'P', 'P', '-', 'P', 'P', 'P', 'P', '-', 'P']\n",
            "\n",
            "parking at slot :  8\n",
            "['P', 'P', 'P', 'P', 'P', 'P', 'P', 'P', 'P', 'P', 'P', 'P', 'P', '-', 'P', 'P', 'P', 'P', '-', 'P']\n",
            "\n",
            "parking at slot :  13\n",
            "['P', 'P', 'P', 'P', 'P', 'P', 'P', 'P', 'P', 'P', 'P', 'P', 'P', 'P', 'P', 'P', 'P', 'P', '-', 'P']\n",
            "\n",
            "parking at slot :  18\n",
            "['P', 'P', 'P', 'P', 'P', 'P', 'P', 'P', 'P', 'P', 'P', 'P', 'P', 'P', 'P', 'P', 'P', 'P', 'P', 'P']\n",
            "\n"
          ]
        }
      ],
      "source": [
        "from collections import deque\n",
        "\n",
        "class ParkingLot():\n",
        "\n",
        "  def __init__(self, size=10):\n",
        "    self.slots = size\n",
        "    self.parkinglot = [\"-\" for i in range(size)]\n",
        "    self.queue = deque()\n",
        "    self.queue.append((0, 0))\n",
        "    self.queue.append((size-1, size-1))\n",
        "    self.queue.append((1, size-2))\n",
        "\n",
        "\n",
        "  def GetNextSlot(self):\n",
        "    '''\n",
        "      return next slot to be used for parking\n",
        "    '''\n",
        "    if not self.queue:\n",
        "      return \"error : no more slots available\"\n",
        "\n",
        "    l, r = self.queue.popleft()\n",
        "    if l == r:\n",
        "      self.parkinglot[l] = \"P\"\n",
        "      return l\n",
        "\n",
        "    m = l + (r-l)//2\n",
        "\n",
        "    ## handle two consecutive slots\n",
        "    if abs(r-l) == 1:\n",
        "      self.queue.append((r, r))\n",
        "      self.parkinglot[l] = \"P\"\n",
        "      return l\n",
        "\n",
        "    if abs(r-l) == 2:\n",
        "      self.queue.append((l, l))\n",
        "      self.queue.append((r, r))\n",
        "      self.parkinglot[m] = \"P\"\n",
        "      return m\n",
        "\n",
        "    if abs(r-l) == 3:\n",
        "      self.queue.append((l, l))\n",
        "      self.queue.append((m+1, r))\n",
        "      self.parkinglot[m] = \"P\"\n",
        "      return m\n",
        "\n",
        "\n",
        "    firstHalf, secondHalf = (l, m-1), (m+1, r)\n",
        "    self.queue.append(firstHalf)\n",
        "    self.queue.append(secondHalf)\n",
        "    self.parkinglot[m] = \"P\"\n",
        "    return m\n",
        "\n",
        "\n",
        "\n",
        "psize = 20\n",
        "p = ParkingLot(psize)\n",
        "for i in range(psize):\n",
        "  print(\"parking at slot : \", p.GetNextSlot())\n",
        "  print(p.parkinglot)\n",
        "  print()\n"
      ]
    },
    {
      "cell_type": "code",
      "execution_count": null,
      "metadata": {
        "id": "_5y6IiDGywbC"
      },
      "outputs": [],
      "source": [
        "w = [\"word?\", \"apple!\", \"word?\"]\n",
        "p = [\"?\", \"!\"]\n",
        "\n"
      ]
    },
    {
      "cell_type": "code",
      "execution_count": null,
      "metadata": {
        "colab": {
          "base_uri": "https://localhost:8080/"
        },
        "id": "de1fiqpvbDzW",
        "outputId": "6bedf7ef-3ef9-446a-9380-92225b22d0c6"
      },
      "outputs": [
        {
          "data": {
            "text/plain": [
              "[2, 3, 5, 7]"
            ]
          },
          "execution_count": 11,
          "metadata": {},
          "output_type": "execute_result"
        }
      ],
      "source": [
        "import math\n",
        "def FindPrimesInRange(n):\n",
        "\n",
        "  primes = [False, False] + [True] * (n-2)\n",
        "  nsqrt = int(math.sqrt(n) + 1)\n",
        "\n",
        "  for num in range(2, nsqrt):\n",
        "    if primes[num]:\n",
        "      for mul in range(num*num, n, num):\n",
        "        primes[mul] = False\n",
        "\n",
        "  return [i for i, v in enumerate(primes) if v]\n",
        "\n",
        "FindPrimesInRange(10)"
      ]
    },
    {
      "cell_type": "code",
      "execution_count": null,
      "metadata": {
        "colab": {
          "base_uri": "https://localhost:8080/"
        },
        "id": "6Wt6ZmoffmuY",
        "outputId": "b547054e-cd60-4f91-f931-b38637f9c669"
      },
      "outputs": [
        {
          "name": "stdout",
          "output_type": "stream",
          "text": [
            "i :  2 2.8284271247461903\n",
            "i :  3 3.0\n",
            "i :  3 3.1622776601683795\n",
            "i :  3 3.3166247903554\n",
            "i :  3 3.4641016151377544\n",
            "i :  3 3.605551275463989\n",
            "i :  3 3.7416573867739413\n",
            "i :  3 3.872983346207417\n",
            "i :  4 4.0\n",
            "i :  4 4.123105625617661\n",
            "i :  4 4.242640687119285\n",
            "i :  4 4.358898943540674\n",
            "i :  4 4.47213595499958\n",
            "i :  4 4.58257569495584\n"
          ]
        }
      ],
      "source": [
        "def FindSqrt(n):\n",
        "\n",
        "  def helper(t):\n",
        "    l, h = 0, t\n",
        "    while l <= h:\n",
        "      m = l + (h-l)//2\n",
        "      if m*m==t: return m\n",
        "      elif m*m > t:\n",
        "        h = m - 1\n",
        "      else:\n",
        "        l = m + 1\n",
        "    return h\n",
        "\n",
        "  return helper(n)\n",
        "\n",
        "for i in range(8, 22):\n",
        "  print(\"i : \", FindSqrt(i), math.sqrt(i))\n",
        "\n",
        "\n"
      ]
    },
    {
      "cell_type": "code",
      "execution_count": null,
      "metadata": {
        "colab": {
          "base_uri": "https://localhost:8080/"
        },
        "id": "ULjp6oFlOb2z",
        "outputId": "966974c0-f2f8-426e-f069-b3ec7b391a06"
      },
      "outputs": [
        {
          "name": "stdout",
          "output_type": "stream",
          "text": [
            "3.25\n"
          ]
        }
      ],
      "source": [
        "import heapq\n",
        "\n",
        "class OnlineMedian():\n",
        "\n",
        "  def __init__(self):\n",
        "    self.left = [] ## maxHeap\n",
        "    self.right = [] ## minHeap\n",
        "\n",
        "  def Add(self, num):\n",
        "    heapq.heappush(self.left, -1 * num)\n",
        "    heapq.heappush(self.right, -1 * heapq.heappop(self.left))\n",
        "\n",
        "    if len(self.right) > len(self.left):\n",
        "      heapq.heappush(self.left, -1 * heapq.heappop(self.right))\n",
        "\n",
        "  def GetMedian(self):\n",
        "    return -1 * self.left[0] if len(self.left) > len(self.right) else (self.right[0] - self.left[0])/2\n",
        "\n",
        "om = OnlineMedian()\n",
        "om.Add(1)\n",
        "om.Add(2)\n",
        "om.Add(3)\n",
        "om.Add(3)\n",
        "om.Add(3.5)\n",
        "om.Add(3.6)\n",
        "om.Add(13)\n",
        "om.Add(13)\n",
        "print(om.GetMedian())\n"
      ]
    },
    {
      "cell_type": "code",
      "execution_count": null,
      "metadata": {
        "colab": {
          "base_uri": "https://localhost:8080/"
        },
        "id": "SKRuZa3iHD_N",
        "outputId": "4cb8407c-1efd-4439-84b6-4a9b2adb1fdb"
      },
      "outputs": [
        {
          "data": {
            "text/plain": [
              "[[0, 0], [5, 19], [21, 29], [31, 39], [41, 98], [100, 999]]"
            ]
          },
          "execution_count": 1,
          "metadata": {},
          "output_type": "execute_result"
        }
      ],
      "source": [
        "def FindMissingRange(nums):\n",
        "  res = []\n",
        "\n",
        "  if not nums: return \"(1...1000)\"\n",
        "\n",
        "  start, end = 0, 1000\n",
        "  res = []\n",
        "  N = len(nums)\n",
        "\n",
        "  if start < nums[0]:\n",
        "    res.append([start, nums[0]-1])\n",
        "\n",
        "  for i in range(N-1):\n",
        "    if nums[i+1] - nums[i] <= 1:\n",
        "      continue\n",
        "    res.append([nums[i]+1, nums[i+1]-1])\n",
        "\n",
        "  if end > nums[N-1]:\n",
        "    res.append([nums[N-1], end])\n",
        "\n",
        "  return res\n",
        "\n",
        "FindMissingRange([1, 2, 3, 4, 20, 30, 40, 99, 1000])\n"
      ]
    },
    {
      "cell_type": "code",
      "execution_count": null,
      "metadata": {
        "id": "_tXaOdVsbuc4"
      },
      "outputs": [],
      "source": [
        "from sortedcontainers import SortedDict"
      ]
    },
    {
      "cell_type": "code",
      "execution_count": null,
      "metadata": {
        "colab": {
          "base_uri": "https://localhost:8080/"
        },
        "id": "9zL_lTHjI4z5",
        "outputId": "c3772155-cc12-4d68-9c83-dce2571d58b5"
      },
      "outputs": [
        {
          "name": "stdout",
          "output_type": "stream",
          "text": [
            "['1', 'Italian', 'CAT', '2', '3', '--', '2', 'Sphagetti', 'DISH', '8.90', '4', '5', '--', '3', 'Salad', 'DISH', '15.0', '--', '4', 'Cheese', 'Option', '5.0', '--', '5', 'Dressing', 'Option', '6.0', 'None']\n"
          ]
        }
      ],
      "source": [
        "class MenuRecord():\n",
        "\n",
        "  def __init__(self, id, name, itemType, price=None, subItems=[]):\n",
        "    self.id = id\n",
        "    self.name = name\n",
        "    self.itemType = itemType\n",
        "    self.price = price\n",
        "    self.subItems = subItems\n",
        "\n",
        "class MenuParser():\n",
        "\n",
        "  def __init__(self, menuStream):\n",
        "    self.menus = []\n",
        "    self.getNextItem = self.menuStream.get_next()\n",
        "\n",
        "  def parseSingleRecord(self):\n",
        "    pass\n",
        "\n",
        "class MenuStream():\n",
        "\n",
        "  def __init__(self):\n",
        "    self.data = \"\"\"\n",
        "    1\n",
        "    Italian\n",
        "    CAT\n",
        "    2\n",
        "    3\n",
        "    --\n",
        "    2\n",
        "    Sphagetti\n",
        "    DISH\n",
        "    8.90\n",
        "    4\n",
        "    5\n",
        "    --\n",
        "    3\n",
        "    Salad\n",
        "    DISH\n",
        "    15.0\n",
        "    --\n",
        "    4\n",
        "    Cheese\n",
        "    Option\n",
        "    5.0\n",
        "    --\n",
        "    5\n",
        "    Dressing\n",
        "    Option\n",
        "    6.0\n",
        "    None\n",
        "    \"\"\"\n",
        "\n",
        "  def get_next(self):\n",
        "    lines = self.data.split()\n",
        "    print(lines)\n",
        "\n",
        "\n",
        "mstr = MenuStream()\n",
        "mstr.get_next()\n",
        "\n"
      ]
    },
    {
      "cell_type": "code",
      "execution_count": null,
      "metadata": {
        "colab": {
          "base_uri": "https://localhost:8080/"
        },
        "id": "4iZw9uIdQc2W",
        "outputId": "4a6111e5-368b-438c-e73c-e3555a4b1fc9"
      },
      "outputs": [
        {
          "name": "stdout",
          "output_type": "stream",
          "text": [
            "[1, 3, 5]\n"
          ]
        }
      ],
      "source": [
        "l = [[1,2],[3,4],[5,6]]\n",
        "lm = [i for i, j in l]\n",
        "print(lm)"
      ]
    },
    {
      "cell_type": "markdown",
      "metadata": {
        "id": "cnLmm4hjXA-F"
      },
      "source": [
        "## Bipartite Graph problems\n",
        "\n",
        "Def: Given a graph we can divide the graphs into two independent groups such that every edge is between only two groups    \n",
        "\n",
        "Other def:\n",
        "Two colorable    \n",
        "There is no cycle with odd length\n"
      ]
    },
    {
      "cell_type": "markdown",
      "metadata": {
        "id": "LU2hym09Xc2G"
      },
      "source": [
        "Usually the problems are related to add maximum edges between the two groups         \n",
        "MCBM : Maximum Cardinality Bipartite Matching.    \n",
        "\n",
        "\n",
        "\n"
      ]
    },
    {
      "cell_type": "markdown",
      "metadata": {
        "id": "0vei7NfcZ2H2"
      },
      "source": [
        "Alogorithms:\n",
        "\n",
        "1. Dfs Hopcroft-karp\n"
      ]
    }
  ],
  "metadata": {
    "colab": {
      "provenance": []
    },
    "kernelspec": {
      "display_name": "Python 3",
      "name": "python3"
    },
    "language_info": {
      "codemirror_mode": {
        "name": "ipython",
        "version": 3
      },
      "file_extension": ".py",
      "mimetype": "text/x-python",
      "name": "python",
      "nbconvert_exporter": "python",
      "pygments_lexer": "ipython3",
      "version": "3.12.4"
    }
  },
  "nbformat": 4,
  "nbformat_minor": 0
}
